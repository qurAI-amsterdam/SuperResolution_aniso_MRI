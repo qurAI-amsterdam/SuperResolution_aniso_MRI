{
 "cells": [
  {
   "cell_type": "code",
   "execution_count": 1,
   "metadata": {
    "scrolled": true
   },
   "outputs": [
    {
     "name": "stdout",
     "output_type": "stream",
     "text": [
      "env: CUDA_VISIBLE_DEVICES=7\n",
      "env: OMP_NUM_THREADS=2\n"
     ]
    }
   ],
   "source": [
    "%env CUDA_VISIBLE_DEVICES=7\n",
    "%env OMP_NUM_THREADS=2"
   ]
  },
  {
   "cell_type": "code",
   "execution_count": 3,
   "metadata": {
    "scrolled": true
   },
   "outputs": [
    {
     "name": "stdout",
     "output_type": "stream",
     "text": [
      "Ready\n"
     ]
    }
   ],
   "source": [
    "import sys\n",
    "import os\n",
    "\n",
    "sys.path.extend(['/home/jorg/repo/aesr'])\n",
    "import matplotlib\n",
    "import matplotlib.pyplot as plt\n",
    "from tqdm import tqdm\n",
    "from matplotlib import cm\n",
    "\n",
    "import numpy as np\n",
    "import torch\n",
    "import torchvision\n",
    "from torchvision import transforms\n",
    "import torch.nn as nn\n",
    "import SimpleITK as sitk\n",
    "try:\n",
    "    from skimage.measure import compare_ssim as ssim_metric\n",
    "    from skimage.measure import compare_psnr as psnr_metric\n",
    "except ImportError:\n",
    "    from skimage.metrics import structural_similarity as ssim_metric\n",
    "    from skimage.metrics import peak_signal_noise_ratio as psnr_metric\n",
    "\n",
    "from datasets.data_config import get_config\n",
    "from datasets.shared_transforms import CenterCrop, AdjustToPatchSize\n",
    "from kwatsch.get_trainer import get_trainer\n",
    "from evaluate.create_HR_images import create_hr_images\n",
    "from evaluate.brain.evaluate_model import create_brain_volumes\n",
    "from evaluate.brain.evaluate_model import create_brain_volumes_conventional_interpolation\n",
    "from kwatsch.common import load_settings\n",
    "%matplotlib inline\n",
    "%load_ext autoreload\n",
    "%autoreload 2\n",
    "\n",
    "torch.manual_seed(32563)\n",
    "rs = np.random.RandomState(32563)\n",
    "ttest_results = {}\n",
    "\n",
    "print(\"Ready\")"
   ]
  },
  {
   "cell_type": "code",
   "execution_count": 8,
   "metadata": {
    "scrolled": true
   },
   "outputs": [
    {
     "name": "stdout",
     "output_type": "stream",
     "text": [
      "Eval patch size  256\n",
      "INFO - Initializing trainer AETrainerExtension1Brain - using multiple gpus False\n",
      "Warning - Base Trainer - LPIPS on GPU-ID 0\n",
      "Warning - LPIPS weights [1.0, 1.0, 1.0, 1.0, 1.0] \n",
      "Loading model from: /home/jorg/repo/aesr/lpips/weights/v0.1/vgg.pth\n",
      "INFO - AETrainerExtension1Brain Loaded model parameters from /home/jorg/expers/sr_redo/dHCP/ae_combined/pool2_w256_l16_2mm_w001_ex01/models/605.models\n",
      "WARNING WARNING - you are using VanillaACAI CAE class\n",
      "INFO - get_images - using file suffix for search t2w_2.0mm.nii.gz\n"
     ]
    },
    {
     "data": {
      "application/vnd.jupyter.widget-view+json": {
       "model_id": "eaba4a3229dd46368931f2fdcf0fb391",
       "version_major": 2,
       "version_minor": 0
      },
      "text/plain": [
       "Loading 1 volumes from /home/jorg/data/dHCP_cropped_256:   0%|          | 0/1 [00:00<?, ?it/s]"
      ]
     },
     "metadata": {},
     "output_type": "display_data"
    },
    {
     "name": "stdout",
     "output_type": "stream",
     "text": [
      "[202. 256. 256.]\n",
      "WARNING - Current model-nbr >>> 605 <<< train patch-size/test patch-size 256/256\n",
      "INFO - evaluating on 1 patients\n",
      "!!! Warning !!! Generation 6 new slices and mimick LR volumes with downsampling factor 4\n",
      "{'ae_class': 'VanillaACAI', 'alpha_class': None, 'alpha_loss_func': None, 'aug_patch_size': None, 'batch_size': 8, 'colors': 1, 'comment': None, 'dataset': 'dHCP', 'depth': 32, 'device': 'cuda', 'downsample_steps': 4, 'epochs': 750, 'ex_loss_weight1': 0.001, 'exper_id': 'pool2_w256_l16_2mm_w001_ex01', 'fine_tune': False, 'get_masks': False, 'gpu_ids': [0], 'image_mix_loss_func': 'perceptual', 'latent': 16, 'latent_width': 64, 'limited_load': False, 'lr': 1e-05, 'max_grad_norm': 0, 'model': 'ae_combined', 'model_filename': None, 'module_network_path': 'networks/acai_vanilla.py', 'module_trainer_path': 'kwatsch/brain/trainer_ae.py', 'n_res_block': None, 'number_of_workers': 2, 'output_dir': '/home/jorg/expers/sr_redo/dHCP/ae_combined/pool2_w256_l16_2mm_w001_ex01', 'port': 8030, 'seed': 892372, 'slice_selection': 'adjacent_plus', 'test_batch_size': 32, 'trainer_class': 'AETrainerExtension1Brain', 'use_batchnorm': True, 'use_extra_latent_loss': False, 'use_laploss': False, 'use_loss_annealing': False, 'use_percept_loss': False, 'use_sigmoid': True, 'use_ssim_loss': False, 'validate_every': 500, 'weight_decay': 0.0, 'width': 256, 'use_alpha_probe': False, 'alpha_dims': None}\n",
      "INFO - saving output to /home/jorg/expers/sr_redo/dHCP/ae_combined/pool2_w256_l16_2mm_w001_ex01/ni06/images_sr_ip\n",
      "WARNING !!! create_super_volume - downsample steps is not None but generate_inbetween_slices is False!\n",
      "INFO - saved /home/jorg/expers/sr_redo/dHCP/ae_combined/pool2_w256_l16_2mm_w001_ex01/ni06/images_sr_ip/31800/31800_ni06.nii.gz\n"
     ]
    }
   ],
   "source": [
    "# ae/mse_baseline_p64_ex01  ae/mse_baseline_ex01  mse_baseline_3mm_ex01\n",
    "# ae_combined/mse_perc_p64_ex01\n",
    "# ae_combined/mse_perc_p32_ex02    ae_combined/mse_perc_p32_3mm\n",
    "dataset = 'dHCP' \n",
    "eval_patch_size = {'dHCP': 256, 'ADNI': 256, 'OASIS': 220}[dataset]\n",
    "model_nbr = 605 #  combined: dHCP: 1272  OASIS: 3mm 1298  OASIS: 2mm 507\n",
    "pat_list = [31800]  # =None\n",
    "model_nbr_sr =  None  # 836\n",
    "output_dir = None\n",
    "eval_axis = 1\n",
    "exper_dir = \"pool2_w256_l16_2mm_w001_ex01\"\n",
    "exper_src_path = \"~/expers/sr_redo/{}/ae_combined/{}\".format(dataset, exper_dir)\n",
    "myargs = load_settings(os.path.join(os.path.expanduser(exper_src_path), \"settings.yaml\"))\n",
    "save_volumes = True \n",
    "do_save_metrics = False\n",
    "generate_inbetween_slices = False\n",
    "use_original_slice = False\n",
    "downsample_steps = myargs['downsample_steps']\n",
    "num_interpolations = downsample_steps - 1\n",
    "if not generate_inbetween_slices:\n",
    "    num_interpolations = 6\n",
    "    # IMPORTANT FOR BRAIN MRI WE USE THE DOWNSAMPLED VOLUMES EVEN WHEN USING HIGHER \n",
    "    # UPSAMPLING FACTORS THAN DURING TRAINING !!!\n",
    "    downsample_steps = myargs['downsample_steps']\n",
    "    output_dir = exper_src_path + \"/ni{:02d}\".format(num_interpolations)\n",
    "print(\"Eval patch size \", eval_patch_size)\n",
    "metrics_dict = create_brain_volumes(exper_src_path, model_nbr, pat_list=pat_list,\n",
    "                                    # pat_list=[31800], \n",
    "                                   generate_inbetween_slices=generate_inbetween_slices,\n",
    "                                   downsample_steps=downsample_steps, \n",
    "                                    save_volumes=save_volumes,\n",
    "                                    eval_patch_size=eval_patch_size,\n",
    "                                   num_interpolations=num_interpolations,\n",
    "                                   compute_percept_loss=False, \n",
    "                                   use_original_slice=use_original_slice,\n",
    "                                   eval_axis=eval_axis, model_nbr_sr=model_nbr_sr,\n",
    "                                   output_dir=output_dir,\n",
    "                                   do_save_metrics=do_save_metrics)"
   ]
  },
  {
   "cell_type": "code",
   "execution_count": 18,
   "metadata": {},
   "outputs": [
    {
     "name": "stdout",
     "output_type": "stream",
     "text": [
      "INFO - Initializing trainer AETrainerExtension1Brain - using multiple gpus False\n",
      "Warning - Base Trainer - LPIPS on GPU-ID 0\n",
      "Warning - LPIPS weights [1.0, 1.0, 1.0, 1.0, 1.0] \n",
      "Loading model from: /home/jorg/repo/aesr/lpips/weights/v0.1/vgg.pth\n",
      "INFO - AETrainerExtension1Brain Loaded model parameters from /home/jorg/expers/sr_redo/dHCP/ae_combined/pool2_w256_l16_1mm_w001_ex01/models/652.models\n",
      "WARNING WARNING - you are using VanillaACAI CAE class\n"
     ]
    }
   ],
   "source": [
    "from kwatsch.get_trainer import get_trainer_dynamic\n",
    "trainer, myargs = get_trainer_dynamic(src_path=exper_src_path, \n",
    "                                      model_nbr=model_nbr, \n",
    "                                      model_nbr_sr=model_nbr_sr)"
   ]
  },
  {
   "cell_type": "code",
   "execution_count": 28,
   "metadata": {},
   "outputs": [
    {
     "name": "stdout",
     "output_type": "stream",
     "text": [
      "torch.Size([202, 256, 256])\n"
     ]
    }
   ],
   "source": [
    "from datasets.common_brains import get_images\n",
    "import SimpleITK as sitk\n",
    "\n",
    "f = \"/home/jorg/data/dHCP_cropped_256/012501/012501_t2w_3.0mm.nii.gz\" \n",
    "img = torch.from_numpy(sitk.GetArrayFromImage(sitk.ReadImage(f))).float()\n",
    "print(img.shape)"
   ]
  },
  {
   "cell_type": "code",
   "execution_count": 30,
   "metadata": {
    "scrolled": true
   },
   "outputs": [
    {
     "name": "stdout",
     "output_type": "stream",
     "text": [
      "638 ms ± 6.94 ms per loop (mean ± std. dev. of 7 runs, 1 loop each)\n"
     ]
    }
   ],
   "source": [
    "from evaluate.common import create_super_volume\n",
    "\n",
    "\n",
    "downsample_steps = 6\n",
    "num_interpolations = downsample_steps - 1\n",
    "alpha_range = np.linspace(0, 1, num_interpolations + 2, endpoint=True)[1:-1]\n",
    "%timeit new_img = create_super_volume(trainer, img, alpha_range=alpha_range, use_original=False, downsample_steps=downsample_steps, hierarchical=False,generate_inbetween_slices=True,train_patch_size=256,feature_dict=None,  labels=None)\n"
   ]
  },
  {
   "cell_type": "code",
   "execution_count": null,
   "metadata": {
    "scrolled": true
   },
   "outputs": [],
   "source": [
    "#                             SSIM / PSRN / VIF / LPIPS:\n",
    "#   ae-combined 4mm   (264)   0.933 (0.01) / 35.41 (0.55) / 0.858 (0.01) / 0.000 (0.00)\n",
    "#   ae 4mm                    0.948 (0.00) / 35.26 (0.53) / 0.841 (0.01) / 0.000 (0.00)\n",
    "#   ae-combined 5mm           0.908 (0.01) / 32.77 (0.58) / 0.847 (0.01) / 0.000 (0.00)\n",
    "#   ae 5mm                    0.910 (0.01) / 32.79 (0.57) / 0.863 (0.01) / 0.000 (0.00)"
   ]
  },
  {
   "cell_type": "code",
   "execution_count": null,
   "metadata": {
    "scrolled": true
   },
   "outputs": [],
   "source": [
    "0.969 (0.00) / 36.37 (0.85) / 0.867 (0.01) / 0.000 (0.00)"
   ]
  },
  {
   "cell_type": "code",
   "execution_count": 8,
   "metadata": {
    "scrolled": true
   },
   "outputs": [
    {
     "name": "stdout",
     "output_type": "stream",
     "text": [
      "INFO - get_images - using file suffix for search t2w_1.0mm.nii.gz\n"
     ]
    },
    {
     "data": {
      "application/vnd.jupyter.widget-view+json": {
       "model_id": "c947e4fecb4d4b95a526ec6485023699",
       "version_major": 2,
       "version_minor": 0
      },
      "text/plain": [
       "Loading 20 volumes from /home/jorg/data/dHCP_cropped_256:   0%|          | 0/20 [00:00<?, ?it/s]"
      ]
     },
     "metadata": {},
     "output_type": "display_data"
    },
    {
     "name": "stdout",
     "output_type": "stream",
     "text": [
      "[198.45 256.   256.  ]\n",
      "WARNING - Creating volumes with conventional interpolation method bspline - eval-patch-size 256 - expand factor 2 - downsample steps 2 \n",
      "INFO - evaluating on 20 patients\n",
      "INFO - saving output to /home/jorg/expers/sr/dHCP/conventional/bspline\n",
      "INFO - saved /home/jorg/expers/sr/dHCP/conventional/bspline/12501/12501_ni01.nii.gz\n",
      "SSIM / PSRN / VIF: 0.986 / 36.723 / 0.864\n",
      "INFO - saved /home/jorg/expers/sr/dHCP/conventional/bspline/13801/13801_ni01.nii.gz\n",
      "SSIM / PSRN / VIF: 0.986 / 37.407 / 0.867\n",
      "INFO - saved /home/jorg/expers/sr/dHCP/conventional/bspline/18600/18600_ni01.nii.gz\n",
      "SSIM / PSRN / VIF: 0.988 / 37.226 / 0.873\n",
      "INFO - saved /home/jorg/expers/sr/dHCP/conventional/bspline/26300/26300_ni01.nii.gz\n",
      "SSIM / PSRN / VIF: 0.986 / 35.690 / 0.863\n",
      "INFO - saved /home/jorg/expers/sr/dHCP/conventional/bspline/26700/26700_ni01.nii.gz\n",
      "SSIM / PSRN / VIF: 0.989 / 38.930 / 0.881\n",
      "INFO - saved /home/jorg/expers/sr/dHCP/conventional/bspline/31800/31800_ni01.nii.gz\n",
      "SSIM / PSRN / VIF: 0.987 / 37.235 / 0.893\n",
      "INFO - saved /home/jorg/expers/sr/dHCP/conventional/bspline/39400/39400_ni01.nii.gz\n",
      "SSIM / PSRN / VIF: 0.984 / 35.257 / 0.868\n",
      "INFO - saved /home/jorg/expers/sr/dHCP/conventional/bspline/97500/97500_ni01.nii.gz\n",
      "SSIM / PSRN / VIF: 0.991 / 37.430 / 0.916\n",
      "INFO - saved /home/jorg/expers/sr/dHCP/conventional/bspline/100000/100000_ni01.nii.gz\n",
      "SSIM / PSRN / VIF: 0.990 / 38.270 / 0.847\n",
      "INFO - saved /home/jorg/expers/sr/dHCP/conventional/bspline/107700/107700_ni01.nii.gz\n",
      "SSIM / PSRN / VIF: 0.987 / 36.731 / 0.893\n",
      "INFO - saved /home/jorg/expers/sr/dHCP/conventional/bspline/107902/107902_ni01.nii.gz\n",
      "SSIM / PSRN / VIF: 0.984 / 35.662 / 0.880\n",
      "INFO - saved /home/jorg/expers/sr/dHCP/conventional/bspline/108000/108000_ni01.nii.gz\n",
      "SSIM / PSRN / VIF: 0.988 / 37.300 / 0.869\n",
      "INFO - saved /home/jorg/expers/sr/dHCP/conventional/bspline/113900/113900_ni01.nii.gz\n",
      "SSIM / PSRN / VIF: 0.985 / 35.723 / 0.859\n",
      "INFO - saved /home/jorg/expers/sr/dHCP/conventional/bspline/116000/116000_ni01.nii.gz\n",
      "SSIM / PSRN / VIF: 0.987 / 37.230 / 0.878\n",
      "INFO - saved /home/jorg/expers/sr/dHCP/conventional/bspline/127200/127200_ni01.nii.gz\n",
      "SSIM / PSRN / VIF: 0.992 / 38.920 / 0.892\n",
      "INFO - saved /home/jorg/expers/sr/dHCP/conventional/bspline/145700/145700_ni01.nii.gz\n",
      "SSIM / PSRN / VIF: 0.991 / 37.646 / 0.885\n",
      "INFO - saved /home/jorg/expers/sr/dHCP/conventional/bspline/145900/145900_ni01.nii.gz\n",
      "SSIM / PSRN / VIF: 0.983 / 35.008 / 0.838\n",
      "INFO - saved /home/jorg/expers/sr/dHCP/conventional/bspline/191600/191600_ni01.nii.gz\n",
      "SSIM / PSRN / VIF: 0.987 / 37.828 / 0.854\n",
      "INFO - saved /home/jorg/expers/sr/dHCP/conventional/bspline/191801/191801_ni01.nii.gz\n",
      "SSIM / PSRN / VIF: 0.987 / 37.110 / 0.877\n",
      "INFO - saved /home/jorg/expers/sr/dHCP/conventional/bspline/197400/197400_ni01.nii.gz\n",
      "SSIM / PSRN / VIF: 0.986 / 36.428 / 0.879\n",
      "Total - SSIM / PSRN / VIF / LPIPS: 0.987 (0.00) / 36.99 (1.08) / 0.874 (0.02) / 0.000 (0.00)\n",
      "Reconstruction - SSIM / PSRN / VIF / LPIPS: 0.991 (0.00) / 38.43 (1.11) / 0.879 (0.01) / 0.000 (0.00)\n",
      "Synthesis - SSIM / PSRN / VIF / LPIPS: 0.984 (0.00) / 35.53 (1.06) / 0.869 (0.02) / 0.000 (0.00)\n",
      "INFO - Saved results to /home/jorg/expers/sr/dHCP/conventional/results/metrics_bspline_2x_axis0.npz\n",
      "INFO - get_images - using file suffix for search t2w_1.0mm.nii.gz\n"
     ]
    },
    {
     "data": {
      "application/vnd.jupyter.widget-view+json": {
       "model_id": "fc0736e1b6c84b09b5a4ff143ac88a85",
       "version_major": 2,
       "version_minor": 0
      },
      "text/plain": [
       "Loading 20 volumes from /home/jorg/data/dHCP_cropped_256:   0%|          | 0/20 [00:00<?, ?it/s]"
      ]
     },
     "metadata": {},
     "output_type": "display_data"
    },
    {
     "name": "stdout",
     "output_type": "stream",
     "text": [
      "[198.45 256.   256.  ]\n",
      "WARNING - Creating volumes with conventional interpolation method linear - eval-patch-size 256 - expand factor 2 - downsample steps 2 \n",
      "INFO - evaluating on 20 patients\n",
      "INFO - saving output to /home/jorg/expers/sr/dHCP/conventional/linear\n",
      "INFO - saved /home/jorg/expers/sr/dHCP/conventional/linear/12501/12501_ni01.nii.gz\n",
      "SSIM / PSRN / VIF: 0.984 / 36.402 / 0.863\n",
      "INFO - saved /home/jorg/expers/sr/dHCP/conventional/linear/13801/13801_ni01.nii.gz\n",
      "SSIM / PSRN / VIF: 0.984 / 37.044 / 0.865\n",
      "INFO - saved /home/jorg/expers/sr/dHCP/conventional/linear/18600/18600_ni01.nii.gz\n",
      "SSIM / PSRN / VIF: 0.986 / 36.881 / 0.871\n",
      "INFO - saved /home/jorg/expers/sr/dHCP/conventional/linear/26300/26300_ni01.nii.gz\n",
      "SSIM / PSRN / VIF: 0.984 / 35.504 / 0.864\n",
      "INFO - saved /home/jorg/expers/sr/dHCP/conventional/linear/26700/26700_ni01.nii.gz\n",
      "SSIM / PSRN / VIF: 0.988 / 38.595 / 0.878\n",
      "INFO - saved /home/jorg/expers/sr/dHCP/conventional/linear/31800/31800_ni01.nii.gz\n",
      "SSIM / PSRN / VIF: 0.985 / 36.995 / 0.892\n",
      "INFO - saved /home/jorg/expers/sr/dHCP/conventional/linear/39400/39400_ni01.nii.gz\n",
      "SSIM / PSRN / VIF: 0.982 / 35.012 / 0.867\n",
      "INFO - saved /home/jorg/expers/sr/dHCP/conventional/linear/97500/97500_ni01.nii.gz\n",
      "SSIM / PSRN / VIF: 0.989 / 37.153 / 0.922\n",
      "INFO - saved /home/jorg/expers/sr/dHCP/conventional/linear/100000/100000_ni01.nii.gz\n",
      "SSIM / PSRN / VIF: 0.988 / 38.012 / 0.844\n",
      "INFO - saved /home/jorg/expers/sr/dHCP/conventional/linear/107700/107700_ni01.nii.gz\n",
      "SSIM / PSRN / VIF: 0.985 / 36.378 / 0.888\n",
      "INFO - saved /home/jorg/expers/sr/dHCP/conventional/linear/107902/107902_ni01.nii.gz\n",
      "SSIM / PSRN / VIF: 0.982 / 35.291 / 0.877\n",
      "INFO - saved /home/jorg/expers/sr/dHCP/conventional/linear/108000/108000_ni01.nii.gz\n",
      "SSIM / PSRN / VIF: 0.986 / 37.083 / 0.867\n",
      "INFO - saved /home/jorg/expers/sr/dHCP/conventional/linear/113900/113900_ni01.nii.gz\n",
      "SSIM / PSRN / VIF: 0.983 / 35.431 / 0.856\n",
      "INFO - saved /home/jorg/expers/sr/dHCP/conventional/linear/116000/116000_ni01.nii.gz\n",
      "SSIM / PSRN / VIF: 0.985 / 36.880 / 0.874\n",
      "INFO - saved /home/jorg/expers/sr/dHCP/conventional/linear/127200/127200_ni01.nii.gz\n",
      "SSIM / PSRN / VIF: 0.990 / 38.697 / 0.890\n",
      "INFO - saved /home/jorg/expers/sr/dHCP/conventional/linear/145700/145700_ni01.nii.gz\n",
      "SSIM / PSRN / VIF: 0.990 / 37.342 / 0.885\n",
      "INFO - saved /home/jorg/expers/sr/dHCP/conventional/linear/145900/145900_ni01.nii.gz\n",
      "SSIM / PSRN / VIF: 0.981 / 34.765 / 0.837\n",
      "INFO - saved /home/jorg/expers/sr/dHCP/conventional/linear/191600/191600_ni01.nii.gz\n",
      "SSIM / PSRN / VIF: 0.986 / 37.505 / 0.856\n",
      "INFO - saved /home/jorg/expers/sr/dHCP/conventional/linear/191801/191801_ni01.nii.gz\n",
      "SSIM / PSRN / VIF: 0.985 / 36.783 / 0.878\n",
      "INFO - saved /home/jorg/expers/sr/dHCP/conventional/linear/197400/197400_ni01.nii.gz\n",
      "SSIM / PSRN / VIF: 0.984 / 36.076 / 0.877\n",
      "Total - SSIM / PSRN / VIF / LPIPS: 0.985 (0.00) / 36.69 (1.08) / 0.872 (0.02) / 0.000 (0.00)\n",
      "Reconstruction - SSIM / PSRN / VIF / LPIPS: 0.990 (0.00) / 38.38 (1.10) / 0.879 (0.02) / 0.000 (0.00)\n",
      "Synthesis - SSIM / PSRN / VIF / LPIPS: 0.981 (0.00) / 34.98 (1.06) / 0.866 (0.02) / 0.000 (0.00)\n",
      "INFO - Saved results to /home/jorg/expers/sr/dHCP/conventional/results/metrics_linear_2x_axis0.npz\n",
      "INFO - get_images - using file suffix for search t2w_1.0mm.nii.gz\n"
     ]
    },
    {
     "data": {
      "application/vnd.jupyter.widget-view+json": {
       "model_id": "74ee2cd80afd4fb6809b294f2c96e64a",
       "version_major": 2,
       "version_minor": 0
      },
      "text/plain": [
       "Loading 20 volumes from /home/jorg/data/dHCP_cropped_256:   0%|          | 0/20 [00:00<?, ?it/s]"
      ]
     },
     "metadata": {},
     "output_type": "display_data"
    },
    {
     "name": "stdout",
     "output_type": "stream",
     "text": [
      "[198.45 256.   256.  ]\n",
      "WARNING - Creating volumes with conventional interpolation method lanczos - eval-patch-size 256 - expand factor 2 - downsample steps 2 \n",
      "INFO - evaluating on 20 patients\n",
      "INFO - saving output to /home/jorg/expers/sr/dHCP/conventional/lanczos\n",
      "INFO - saved /home/jorg/expers/sr/dHCP/conventional/lanczos/12501/12501_ni01.nii.gz\n",
      "SSIM / PSRN / VIF: 0.986 / 36.636 / 0.866\n",
      "INFO - saved /home/jorg/expers/sr/dHCP/conventional/lanczos/13801/13801_ni01.nii.gz\n",
      "SSIM / PSRN / VIF: 0.986 / 37.298 / 0.867\n",
      "INFO - saved /home/jorg/expers/sr/dHCP/conventional/lanczos/18600/18600_ni01.nii.gz\n",
      "SSIM / PSRN / VIF: 0.988 / 37.140 / 0.874\n",
      "INFO - saved /home/jorg/expers/sr/dHCP/conventional/lanczos/26300/26300_ni01.nii.gz\n",
      "SSIM / PSRN / VIF: 0.986 / 35.579 / 0.862\n",
      "INFO - saved /home/jorg/expers/sr/dHCP/conventional/lanczos/26700/26700_ni01.nii.gz\n",
      "SSIM / PSRN / VIF: 0.989 / 38.801 / 0.883\n",
      "INFO - saved /home/jorg/expers/sr/dHCP/conventional/lanczos/31800/31800_ni01.nii.gz\n",
      "SSIM / PSRN / VIF: 0.987 / 37.128 / 0.893\n",
      "INFO - saved /home/jorg/expers/sr/dHCP/conventional/lanczos/39400/39400_ni01.nii.gz\n",
      "SSIM / PSRN / VIF: 0.984 / 35.149 / 0.868\n",
      "INFO - saved /home/jorg/expers/sr/dHCP/conventional/lanczos/97500/97500_ni01.nii.gz\n",
      "SSIM / PSRN / VIF: 0.991 / 37.363 / 0.914\n",
      "INFO - saved /home/jorg/expers/sr/dHCP/conventional/lanczos/100000/100000_ni01.nii.gz\n",
      "SSIM / PSRN / VIF: 0.989 / 38.143 / 0.846\n",
      "INFO - saved /home/jorg/expers/sr/dHCP/conventional/lanczos/107700/107700_ni01.nii.gz\n",
      "SSIM / PSRN / VIF: 0.987 / 36.651 / 0.895\n",
      "INFO - saved /home/jorg/expers/sr/dHCP/conventional/lanczos/107902/107902_ni01.nii.gz\n",
      "SSIM / PSRN / VIF: 0.984 / 35.567 / 0.880\n",
      "INFO - saved /home/jorg/expers/sr/dHCP/conventional/lanczos/108000/108000_ni01.nii.gz\n",
      "SSIM / PSRN / VIF: 0.988 / 37.210 / 0.869\n",
      "INFO - saved /home/jorg/expers/sr/dHCP/conventional/lanczos/113900/113900_ni01.nii.gz\n",
      "SSIM / PSRN / VIF: 0.985 / 35.627 / 0.861\n",
      "INFO - saved /home/jorg/expers/sr/dHCP/conventional/lanczos/116000/116000_ni01.nii.gz\n",
      "SSIM / PSRN / VIF: 0.987 / 37.110 / 0.879\n",
      "INFO - saved /home/jorg/expers/sr/dHCP/conventional/lanczos/127200/127200_ni01.nii.gz\n",
      "SSIM / PSRN / VIF: 0.992 / 38.816 / 0.891\n",
      "INFO - saved /home/jorg/expers/sr/dHCP/conventional/lanczos/145700/145700_ni01.nii.gz\n",
      "SSIM / PSRN / VIF: 0.991 / 37.517 / 0.886\n",
      "INFO - saved /home/jorg/expers/sr/dHCP/conventional/lanczos/145900/145900_ni01.nii.gz\n",
      "SSIM / PSRN / VIF: 0.983 / 34.880 / 0.836\n",
      "INFO - saved /home/jorg/expers/sr/dHCP/conventional/lanczos/191600/191600_ni01.nii.gz\n",
      "SSIM / PSRN / VIF: 0.987 / 37.719 / 0.854\n",
      "INFO - saved /home/jorg/expers/sr/dHCP/conventional/lanczos/191801/191801_ni01.nii.gz\n",
      "SSIM / PSRN / VIF: 0.987 / 36.998 / 0.878\n",
      "INFO - saved /home/jorg/expers/sr/dHCP/conventional/lanczos/197400/197400_ni01.nii.gz\n",
      "SSIM / PSRN / VIF: 0.986 / 36.311 / 0.880\n",
      "Total - SSIM / PSRN / VIF / LPIPS: 0.987 (0.00) / 36.88 (1.08) / 0.874 (0.02) / 0.000 (0.00)\n",
      "Reconstruction - SSIM / PSRN / VIF / LPIPS: 0.989 (0.00) / 37.96 (1.11) / 0.877 (0.02) / 0.000 (0.00)\n",
      "Synthesis - SSIM / PSRN / VIF / LPIPS: 0.985 (0.00) / 35.80 (1.05) / 0.871 (0.02) / 0.000 (0.00)\n",
      "INFO - Saved results to /home/jorg/expers/sr/dHCP/conventional/results/metrics_lanczos_2x_axis0.npz\n"
     ]
    }
   ],
   "source": [
    "from evaluate.brain.evaluate_model import create_brain_volumes_conventional_interpolation\n",
    "\n",
    "dataset = 'dHCP'\n",
    "eval_patch_size = {'dHCP': 256, 'ADNI': 256, 'OASIS': 220}[dataset]\n",
    "# interpol_filter = \"lanczos\"  #   bspline  lanczos, linear nearest\n",
    "# downsample_steps = 4\n",
    "# expand_factor = downsample_steps\n",
    "save_volumes = True\n",
    "output_dir = os.path.expanduser('~/expers/sr/{}/conventional'.format(dataset))\n",
    "for downsample_steps in [2]:\n",
    "    expand_factor = downsample_steps\n",
    "    for interpol_filter in ['bspline', 'linear', 'lanczos']:\n",
    "        metrics_dict = create_brain_volumes_conventional_interpolation(dataset, interpol_filter,  \n",
    "                                                                      expand_factor=expand_factor,\n",
    "                                                           eval_patch_size=eval_patch_size, \n",
    "                                                                       save_volumes=save_volumes, \n",
    "                                                           downsample_steps=downsample_steps,\n",
    "                                                           compute_percept_loss=False,\n",
    "                                                           use_original_slice=False, \n",
    "                                                           generate_inbetween_slices=True,\n",
    "                                                           num_interpolations=None,\n",
    "                                                           output_dir=output_dir,\n",
    "                                                                      do_save_metrics=True)"
   ]
  },
  {
   "cell_type": "code",
   "execution_count": null,
   "metadata": {
    "scrolled": true
   },
   "outputs": [],
   "source": [
    "# 0.965 (0.00) / 32.84 (0.85) / 0.829 (0.01) / 0.000 (0.00)"
   ]
  },
  {
   "cell_type": "code",
   "execution_count": 25,
   "metadata": {
    "scrolled": true
   },
   "outputs": [
    {
     "name": "stdout",
     "output_type": "stream",
     "text": [
      "!!!!! WARNING - patid list is not empty len(10)\n",
      "INFO - get_images - using file suffix for search t2w_1.5mm.nii.gz\n"
     ]
    },
    {
     "data": {
      "application/vnd.jupyter.widget-view+json": {
       "model_id": "937b310dd8af404997504acab5ae9141",
       "version_major": 2,
       "version_minor": 0
      },
      "text/plain": [
       "Loading 10 volumes from /home/jorg/data/dHCP_cropped_256:   0%|          | 0/10 [00:00<?, ?it/s]"
      ]
     },
     "metadata": {},
     "output_type": "display_data"
    },
    {
     "name": "stdout",
     "output_type": "stream",
     "text": [
      "Evaluating on dataset dHCP\n",
      "INFO - find-best-validation-model - testing 3 networks using p-size 256  - eval_axis=0\n",
      "INFO - AETrainerExtension1Brain - model is in eval mode True\n",
      "INFO - AETrainerExtension1Brain Loaded model parameters from /home/jorg/expers/sr/dHCP/ae_combined/mse_perc_p16_l16_1_5mm_blur_ex01/models/651.models\n",
      "WARNING WARNING - you are using VanillaACAI CAE class\n",
      "Total - SSIM / PSRN / VIF / LPIPS: 0.973 (0.00) / 35.19 (1.17) / 0.847 (0.02) / 0.000 (0.00)\n",
      "Synthesis - SSIM / PSRN / VIF / LPIPS: 0.966 (0.00) / 33.55 (0.97) / 0.837 (0.02) / 0.000 (0.00)\n",
      "INFO - AETrainerExtension1Brain - model is in eval mode True\n",
      "INFO - AETrainerExtension1Brain Loaded model parameters from /home/jorg/expers/sr/dHCP/ae_combined/mse_perc_p16_l16_1_5mm_blur_ex01/models/670.models\n",
      "WARNING WARNING - you are using VanillaACAI CAE class\n",
      "Total - SSIM / PSRN / VIF / LPIPS: 0.970 (0.00) / 35.60 (1.17) / 0.858 (0.02) / 0.000 (0.00)\n",
      "Synthesis - SSIM / PSRN / VIF / LPIPS: 0.964 (0.00) / 33.77 (0.96) / 0.847 (0.02) / 0.000 (0.00)\n",
      "INFO - AETrainerExtension1Brain - model is in eval mode True\n",
      "INFO - AETrainerExtension1Brain Loaded model parameters from /home/jorg/expers/sr/dHCP/ae_combined/mse_perc_p16_l16_1_5mm_blur_ex01/models/610.models\n",
      "WARNING WARNING - you are using VanillaACAI CAE class\n",
      "Total - SSIM / PSRN / VIF / LPIPS: 0.969 (0.00) / 35.50 (1.17) / 0.859 (0.02) / 0.000 (0.00)\n",
      "Synthesis - SSIM / PSRN / VIF / LPIPS: 0.963 (0.00) / 33.70 (0.95) / 0.849 (0.02) / 0.000 (0.00)\n",
      "Top metrics: Mean SSIM/PSNR/VIF M-651.0: 0.9726 / M-670.0: 35.6021 M-610.0: 0.8592\n",
      "Saved result dict to /home/jorg/expers/sr/dHCP/ae_combined/mse_perc_p16_l16_1_5mm_blur_ex01/model_perf_651_to_610_axis0.npz\n"
     ]
    }
   ],
   "source": [
    "from evaluate.brain.evaluate_model import get_test_dataset\n",
    "from evaluate.find_best_model import find_best_val_model\n",
    "from kwatsch.get_trainer import get_trainer_dynamic\n",
    "from datasets.OASIS.dataset import get_oasis_patient_ids\n",
    "from datasets.dHCP.create_dataset import get_patient_ids as get_dHCP_patient_ids\n",
    "from datasets.data_config import get_config\n",
    "\n",
    "dataset = \"dHCP\"   # or \"MASI\"  \"dHCP\"  'OASIS'\n",
    "dataset_config = get_config(dataset)\n",
    "downsample_steps = 3\n",
    "eval_axis = 0                         # ae/mse_baseline_p16_l128_3mm_blur_ex01\n",
    "epoch_range=np.arange(602,700, 1)  #  mse_perc_p16_l128_2mm_w005_ex02\n",
    "epoch_range = [651, 670, 610]\n",
    "exper_id = \"~/expers/sr/{}/ae_combined/mse_perc_p16_l16_1_5mm_blur_ex01\".format(dataset)\n",
    "patid_list = get_oasis_patient_ids(\"validation\")[::2] if dataset == \"OASIS\" else \\\n",
    "                get_dHCP_patient_ids(\"validation\", dataset_config.image_dir)\n",
    "print(\"!!!!! WARNING - patid list is not empty len({})\".format(len(patid_list)))\n",
    "patid = None\n",
    "eval_patch_size = {'dHCP': 256, 'brainMASI': 256, 'OASIS': 220}[dataset]\n",
    "images_test, _ = get_test_dataset(dataset, patient_id=None, downsample=False,\n",
    "                                  downsample_steps=downsample_steps,\n",
    "                                  type_of_set=\"validation\", patch_size=eval_patch_size,\n",
    "                                  include_hr_images=True, patid_list=patid_list)\n",
    "print(\"Evaluating on dataset {}\".format(dataset))\n",
    "\n",
    "patient_id = None\n",
    "result_dict = find_best_val_model(images_test, \n",
    "                        exper_id, \n",
    "                        epoch_range, ps_evaluate=eval_patch_size, eval_axis=eval_axis,\n",
    "                        downsample_steps=downsample_steps, patient_id=patient_id,\n",
    "                        limit_4d=False, func_get_trainer=get_trainer_dynamic)"
   ]
  },
  {
   "cell_type": "code",
   "execution_count": 17,
   "metadata": {
    "scrolled": true
   },
   "outputs": [
    {
     "name": "stdout",
     "output_type": "stream",
     "text": [
      "INFO - searching with mask /home/jorg/expers/sr_redo/dHCP/ae_combined/pool2_w64_l16_1mm_w001_ex01/model_perf*_axis0.npz\n",
      "INFO - loading /home/jorg/expers/sr_redo/dHCP/ae_combined/pool2_w64_l16_1mm_w001_ex01/model_perf_1200_to_1300_axis0.npz\n"
     ]
    }
   ],
   "source": [
    "from evaluate.find_best_model import load_model_scores\n",
    "\n",
    "dataset = 'dHCP'\n",
    "file_suffix = \"_axis0.npz\"\n",
    "synthesis = True\n",
    "exper_dir = \"~/expers/sr_redo/{}/ae_combined/pool2_w64_l16_1mm_w001_ex01\".format(dataset)\n",
    "results, iters, ssim_res, psnr_res, vif_res = \\\n",
    "            load_model_scores(exper_dir, file_suffix=file_suffix, \n",
    "                              synthesis=synthesis)"
   ]
  },
  {
   "cell_type": "code",
   "execution_count": 15,
   "metadata": {},
   "outputs": [
    {
     "name": "stdout",
     "output_type": "stream",
     "text": [
      "SSIM (1202): 0.987\n",
      "PSNR (1266): 38.128\n",
      "VIF (1264): 0.887\n",
      "M-1202: 0.987, 37.941, 0.854\n",
      "M-1266: 0.985, 38.128, 0.861\n",
      "M-1264: 0.972, 38.113, 0.887\n"
     ]
    }
   ],
   "source": [
    "idx_psnr, idx_ssim, idx_vif = np.argmax(psnr_res), np.argmax(ssim_res), np.argmax(vif_res)\n",
    "print(\"SSIM ({}): {:.3f}\".format(iters[idx_ssim], ssim_res[idx_ssim]))\n",
    "print(\"PSNR ({}): {:.3f}\".format(iters[idx_psnr], psnr_res[idx_psnr]))\n",
    "print(\"VIF ({}): {:.3f}\".format(iters[idx_vif], vif_res[idx_vif]))\n",
    "print(\"M-{}: {:.3f}, {:.3f}, {:.3f}\".format(iters[idx_ssim], ssim_res[idx_ssim],\n",
    "                                          psnr_res[idx_ssim], vif_res[idx_ssim]))\n",
    "print(\"M-{}: {:.3f}, {:.3f}, {:.3f}\".format(iters[idx_psnr], ssim_res[idx_psnr],\n",
    "                                          psnr_res[idx_psnr], vif_res[idx_psnr]))\n",
    "print(\"M-{}: {:.3f}, {:.3f}, {:.3f}\".format(iters[idx_vif], ssim_res[idx_vif],\n",
    "                                          psnr_res[idx_vif], vif_res[idx_vif]))"
   ]
  },
  {
   "cell_type": "code",
   "execution_count": 8,
   "metadata": {},
   "outputs": [
    {
     "name": "stdout",
     "output_type": "stream",
     "text": [
      "The history saving thread hit an unexpected error (OperationalError('attempt to write a readonly database',)).History will not be written to the database.\n"
     ]
    },
    {
     "data": {
      "application/vnd.jupyter.widget-view+json": {
       "model_id": "a804114e779a46f9b3171f5cce5307b6",
       "version_major": 2,
       "version_minor": 0
      },
      "text/plain": [
       "HBox(children=(IntProgress(value=0, description='Loading 50 volumes from /home/jorg/data/ADNI', max=50, style=…"
      ]
     },
     "metadata": {},
     "output_type": "display_data"
    },
    {
     "name": "stdout",
     "output_type": "stream",
     "text": [
      "\n",
      "[256.  240.  195.2]\n"
     ]
    }
   ],
   "source": [
    "from datasets.dHCP.create_dataset import get_patient_ids\n",
    "from datasets.OASIS.dataset import get_oasis_patient_ids\n",
    "from datasets.ADNI.dataset import get_patient_ids as get_patient_ids_adni\n",
    "from collections import defaultdict\n",
    "from datasets.common_brains import get_images\n",
    "from datasets.common import get_images_in_dir\n",
    "\n",
    "dataset = 'ADNI'\n",
    "transform256 = transforms.Compose([AdjustToPatchSize(tuple((256, 256)))])\n",
    "data_config = get_config(dataset)\n",
    "patid_list = get_patient_ids_adni(\"test\", data_config.image_dir)\n",
    "method_path, result_dict = {}, {}\n",
    "data_conv = defaultdict(dict)\n",
    "downsample_steps = 6\n",
    "file_suffix = \"_ni0{}.nii.gz\".format(downsample_steps -1)\n",
    "EXPER_SRC_DIR = os.path.expanduser(\"~/expers/sr/{}\".format(dataset))\n",
    "image_ref = get_images(patid_list, dataset, rescale_int=True, int_perc=tuple((0, 100)), \n",
    "                       limited_load=False, do_downsample=False, downsample_steps=downsample_steps, \n",
    "                       transform=None, include_hr_images=True)"
   ]
  },
  {
   "cell_type": "code",
   "execution_count": 17,
   "metadata": {},
   "outputs": [
    {
     "name": "stdout",
     "output_type": "stream",
     "text": [
      "INFO - get_images_in_dir - dataset name ADNI (#50). Resample-inplane False\n",
      "Loaded from 50 volumes from ae_combined/pool2_w64_l128_w001_6mm_ex01 (_ni05.nii.gz)\n"
     ]
    }
   ],
   "source": [
    "exper_id = {6: \"ae_combined/pool2_w64_l128_w001_6mm_ex01\"}[downsample_steps]\n",
    "EXPER_SRC_DIR = os.path.expanduser(\"~/expers/sr_redo/{}\".format(dataset))\n",
    "path_method = os.path.join(EXPER_SRC_DIR, \"{}/images_sr_ip\".format(exper_id))\n",
    "data_generator = get_images_in_dir(path_method, dataset_name=dataset,\n",
    "                                      file_suffix=file_suffix, \n",
    "                                      rescale_int=False, \n",
    "                                      do_downsample=False,\n",
    "                                      downsample_steps=None, patid_list=None)\n",
    "print(\"Loaded from {} volumes from {} ({})\".format(len(data_generator), exper_id,\n",
    "                                                   file_suffix))\n",
    "method_path['ae_combined'] = os.path.join(EXPER_SRC_DIR, \"{}\".format(exper_id))"
   ]
  },
  {
   "cell_type": "code",
   "execution_count": 16,
   "metadata": {},
   "outputs": [],
   "source": []
  },
  {
   "cell_type": "code",
   "execution_count": 19,
   "metadata": {},
   "outputs": [
    {
     "name": "stdout",
     "output_type": "stream",
     "text": [
      "INFO - evaluating ae_combined images from /home/jorg/expers/sr_redo/ADNI/ae_combined/pool2_w64_l128_w001_6mm_ex01\n",
      "INFO - evaluation axis-0 - method: ae_combined - is conventional False - downsample steps 6\n"
     ]
    },
    {
     "data": {
      "application/vnd.jupyter.widget-view+json": {
       "model_id": "3cffdfca47004b6b8745bc3679147dec",
       "version_major": 2,
       "version_minor": 0
      },
      "text/plain": [
       "HBox(children=(IntProgress(value=0, description='Compute metrics', max=50, style=ProgressStyle(description_wid…"
      ]
     },
     "metadata": {},
     "output_type": "display_data"
    },
    {
     "name": "stdout",
     "output_type": "stream",
     "text": [
      "\n",
      "ae_combined: SSIM / PSRN / LPIPS / VIF: 0.928 (0.01) / 31.02 (1.70) / 0.000 (0.00) / 0.773 (0.04)\n",
      "ae_combined (recon): SSIM / PSRN / LPIPS / VIF: 0.940 (0.01) / 31.64 (1.83) / 0.000 (0.00) / 0.769 (0.05)\n",
      "ae_combined (synth): SSIM / PSRN / LPIPS / VIF: 0.926 (0.01) / 30.89 (1.68) / 0.000 (0.00) / 0.774 (0.04)\n",
      "INFO - Saved results to /home/jorg/expers/sr_redo/ADNI/ae_combined/pool2_w64_l128_w001_6mm_ex01/results/ae_combined_6x.npz\n"
     ]
    }
   ],
   "source": [
    "from evaluate.quantitative_comparison import compare_quantitative\n",
    "\n",
    "\n",
    "method = 'ae_combined'\n",
    "eval_axis = 0\n",
    "lpips = None\n",
    "do_save = True\n",
    "result_dict[method] = compare_quantitative(image_ref, data_generator, method, \n",
    "                                           downsample_steps=downsample_steps, \n",
    "                                           transform=transform256,\n",
    "                     is_4d=False, percept_criterion=lpips, do_save=do_save,\n",
    "                     method_dir=method_path[method], eval_axis=eval_axis)"
   ]
  },
  {
   "cell_type": "code",
   "execution_count": 8,
   "metadata": {},
   "outputs": [
    {
     "name": "stdout",
     "output_type": "stream",
     "text": [
      "1216 1226 1231\n"
     ]
    },
    {
     "data": {
      "image/png": "[encoded data removed]",
      "text/plain": [
       "<Figure size 720x360 with 2 Axes>"
      ]
     },
     "metadata": {
      "needs_background": "light"
     },
     "output_type": "display_data"
    }
   ],
   "source": [
    "fig = plt.figure(figsize=(10, 5))\n",
    "print(epochs[np.argmax(ssim)], epochs[np.argmax(psnr)], epochs[np.argmax(vif)])\n",
    "x_range = np.arange(epochs[0], epochs[-1]+1, 25)\n",
    "plt.plot(epochs, ssim, label='ssim', c='b')\n",
    "plt.plot(epochs, vif, label='vif', c='r')\n",
    "ax2 = plt.twinx()\n",
    "ax2.plot(epochs, psnr, label='psnr', c='g')\n",
    "plt.legend(loc=\"best\")\n",
    "plt.xticks(x_range)\n",
    "plt.show()"
   ]
  },
  {
   "cell_type": "code",
   "execution_count": 6,
   "metadata": {
    "scrolled": true
   },
   "outputs": [],
   "source": [
    "from kwatsch.base_trainer import BaseTrainer, show_loss_curves\n",
    "\n",
    "path_to_exper = \"~/expers/sr_redo/dHCP/ae_combined/mse_perc_pool2_w32_l16_w001_ex01\"\n",
    "iters, losses_train, losses_test = BaseTrainer.load_losses(path_to_exper)"
   ]
  },
  {
   "cell_type": "code",
   "execution_count": 14,
   "metadata": {},
   "outputs": [
    {
     "name": "stdout",
     "output_type": "stream",
     "text": [
      "1300 dict_keys(['loss_ae_dist', 'loss_ae_dist_extra', 'loss_ae', 'loss_latent_1'])\n"
     ]
    },
    {
     "data": {
      "image/png": "[encoded data removed]",
      "text/plain": [
       "<Figure size 720x720 with 3 Axes>"
      ]
     },
     "metadata": {
      "needs_background": "light"
     },
     "output_type": "display_data"
    }
   ],
   "source": [
    "print(len(iters), losses_train.keys())\n",
    "\n",
    "e_range = slice(len(iters) - 1000, len(iters), None)\n",
    "show_loss_curves(iters, losses_train, losses_test, e_range)"
   ]
  },
  {
   "cell_type": "code",
   "execution_count": 66,
   "metadata": {},
   "outputs": [
    {
     "name": "stdout",
     "output_type": "stream",
     "text": [
      "WARNING - common_brains.get_images - retrieving HR images for dHCP\n"
     ]
    },
    {
     "data": {
      "application/vnd.jupyter.widget-view+json": {
       "model_id": "b901c383c35a4882a9efe62a6e4220e9",
       "version_major": 2,
       "version_minor": 0
      },
      "text/plain": [
       "HBox(children=(IntProgress(value=0, description='Loading 236 volumes from /home/jorg/data/dHCP_cropped_256', m…"
      ]
     },
     "metadata": {},
     "output_type": "display_data"
    },
    {
     "name": "stdout",
     "output_type": "stream",
     "text": [
      "\n",
      "new file  /home/jorg/data/dHCP_cropped_256/000530/000530_t2w_2.0mm.nii.gz\n",
      "new file  /home/jorg/data/dHCP_cropped_256/000900/000900_t2w_2.0mm.nii.gz\n",
      "new file  /home/jorg/data/dHCP_cropped_256/001100/001100_t2w_2.0mm.nii.gz\n",
      "new file  /home/jorg/data/dHCP_cropped_256/001800/001800_t2w_2.0mm.nii.gz\n",
      "new file  /home/jorg/data/dHCP_cropped_256/006210/006210_t2w_2.0mm.nii.gz\n",
      "new file  /home/jorg/data/dHCP_cropped_256/009310/009310_t2w_2.0mm.nii.gz\n",
      "new file  /home/jorg/data/dHCP_cropped_256/011300/011300_t2w_2.0mm.nii.gz\n",
      "new file  /home/jorg/data/dHCP_cropped_256/012110/012110_t2w_2.0mm.nii.gz\n",
      "new file  /home/jorg/data/dHCP_cropped_256/012501/012501_t2w_2.0mm.nii.gz\n",
      "new file  /home/jorg/data/dHCP_cropped_256/013801/013801_t2w_2.0mm.nii.gz\n",
      "new file  /home/jorg/data/dHCP_cropped_256/015102/015102_t2w_2.0mm.nii.gz\n",
      "new file  /home/jorg/data/dHCP_cropped_256/015810/015810_t2w_2.0mm.nii.gz\n",
      "new file  /home/jorg/data/dHCP_cropped_256/017610/017610_t2w_2.0mm.nii.gz\n",
      "new file  /home/jorg/data/dHCP_cropped_256/017710/017710_t2w_2.0mm.nii.gz\n",
      "new file  /home/jorg/data/dHCP_cropped_256/018600/018600_t2w_2.0mm.nii.gz\n",
      "new file  /home/jorg/data/dHCP_cropped_256/019200/019200_t2w_2.0mm.nii.gz\n",
      "new file  /home/jorg/data/dHCP_cropped_256/020200/020200_t2w_2.0mm.nii.gz\n",
      "new file  /home/jorg/data/dHCP_cropped_256/020510/020510_t2w_2.0mm.nii.gz\n",
      "new file  /home/jorg/data/dHCP_cropped_256/020701/020701_t2w_2.0mm.nii.gz\n",
      "new file  /home/jorg/data/dHCP_cropped_256/021910/021910_t2w_2.0mm.nii.gz\n",
      "new file  /home/jorg/data/dHCP_cropped_256/024210/024210_t2w_2.0mm.nii.gz\n",
      "new file  /home/jorg/data/dHCP_cropped_256/026300/026300_t2w_2.0mm.nii.gz\n",
      "new file  /home/jorg/data/dHCP_cropped_256/026410/026410_t2w_2.0mm.nii.gz\n",
      "new file  /home/jorg/data/dHCP_cropped_256/026510/026510_t2w_2.0mm.nii.gz\n",
      "new file  /home/jorg/data/dHCP_cropped_256/026700/026700_t2w_2.0mm.nii.gz\n",
      "new file  /home/jorg/data/dHCP_cropped_256/027000/027000_t2w_2.0mm.nii.gz\n",
      "new file  /home/jorg/data/dHCP_cropped_256/027411/027411_t2w_2.0mm.nii.gz\n",
      "new file  /home/jorg/data/dHCP_cropped_256/027600/027600_t2w_2.0mm.nii.gz\n",
      "new file  /home/jorg/data/dHCP_cropped_256/027800/027800_t2w_2.0mm.nii.gz\n",
      "new file  /home/jorg/data/dHCP_cropped_256/027810/027810_t2w_2.0mm.nii.gz\n",
      "new file  /home/jorg/data/dHCP_cropped_256/028000/028000_t2w_2.0mm.nii.gz\n",
      "new file  /home/jorg/data/dHCP_cropped_256/028400/028400_t2w_2.0mm.nii.gz\n",
      "new file  /home/jorg/data/dHCP_cropped_256/029900/029900_t2w_2.0mm.nii.gz\n",
      "new file  /home/jorg/data/dHCP_cropped_256/030000/030000_t2w_2.0mm.nii.gz\n",
      "new file  /home/jorg/data/dHCP_cropped_256/030300/030300_t2w_2.0mm.nii.gz\n",
      "new file  /home/jorg/data/dHCP_cropped_256/030610/030610_t2w_2.0mm.nii.gz\n",
      "new file  /home/jorg/data/dHCP_cropped_256/030700/030700_t2w_2.0mm.nii.gz\n",
      "new file  /home/jorg/data/dHCP_cropped_256/030710/030710_t2w_2.0mm.nii.gz\n",
      "new file  /home/jorg/data/dHCP_cropped_256/030900/030900_t2w_2.0mm.nii.gz\n",
      "new file  /home/jorg/data/dHCP_cropped_256/031201/031201_t2w_2.0mm.nii.gz\n",
      "new file  /home/jorg/data/dHCP_cropped_256/031500/031500_t2w_2.0mm.nii.gz\n",
      "new file  /home/jorg/data/dHCP_cropped_256/031800/031800_t2w_2.0mm.nii.gz\n",
      "new file  /home/jorg/data/dHCP_cropped_256/032010/032010_t2w_2.0mm.nii.gz\n",
      "new file  /home/jorg/data/dHCP_cropped_256/032100/032100_t2w_2.0mm.nii.gz\n",
      "new file  /home/jorg/data/dHCP_cropped_256/032110/032110_t2w_2.0mm.nii.gz\n",
      "new file  /home/jorg/data/dHCP_cropped_256/033900/033900_t2w_2.0mm.nii.gz\n",
      "new file  /home/jorg/data/dHCP_cropped_256/038200/038200_t2w_2.0mm.nii.gz\n",
      "new file  /home/jorg/data/dHCP_cropped_256/038800/038800_t2w_2.0mm.nii.gz\n",
      "new file  /home/jorg/data/dHCP_cropped_256/039400/039400_t2w_2.0mm.nii.gz\n",
      "new file  /home/jorg/data/dHCP_cropped_256/041600/041600_t2w_2.0mm.nii.gz\n",
      "new file  /home/jorg/data/dHCP_cropped_256/041700/041700_t2w_2.0mm.nii.gz\n",
      "new file  /home/jorg/data/dHCP_cropped_256/042302/042302_t2w_2.0mm.nii.gz\n",
      "new file  /home/jorg/data/dHCP_cropped_256/043500/043500_t2w_2.0mm.nii.gz\n",
      "new file  /home/jorg/data/dHCP_cropped_256/043701/043701_t2w_2.0mm.nii.gz\n",
      "new file  /home/jorg/data/dHCP_cropped_256/044400/044400_t2w_2.0mm.nii.gz\n",
      "new file  /home/jorg/data/dHCP_cropped_256/044704/044704_t2w_2.0mm.nii.gz\n",
      "new file  /home/jorg/data/dHCP_cropped_256/044900/044900_t2w_2.0mm.nii.gz\n",
      "new file  /home/jorg/data/dHCP_cropped_256/045100/045100_t2w_2.0mm.nii.gz\n",
      "new file  /home/jorg/data/dHCP_cropped_256/048100/048100_t2w_2.0mm.nii.gz\n",
      "new file  /home/jorg/data/dHCP_cropped_256/048500/048500_t2w_2.0mm.nii.gz\n",
      "new file  /home/jorg/data/dHCP_cropped_256/049200/049200_t2w_2.0mm.nii.gz\n",
      "new file  /home/jorg/data/dHCP_cropped_256/053100/053100_t2w_2.0mm.nii.gz\n",
      "new file  /home/jorg/data/dHCP_cropped_256/054400/054400_t2w_2.0mm.nii.gz\n",
      "new file  /home/jorg/data/dHCP_cropped_256/054500/054500_t2w_2.0mm.nii.gz\n",
      "new file  /home/jorg/data/dHCP_cropped_256/058500/058500_t2w_2.0mm.nii.gz\n",
      "new file  /home/jorg/data/dHCP_cropped_256/060900/060900_t2w_2.0mm.nii.gz\n",
      "new file  /home/jorg/data/dHCP_cropped_256/061000/061000_t2w_2.0mm.nii.gz\n",
      "new file  /home/jorg/data/dHCP_cropped_256/062301/062301_t2w_2.0mm.nii.gz\n",
      "new file  /home/jorg/data/dHCP_cropped_256/064201/064201_t2w_2.0mm.nii.gz\n",
      "new file  /home/jorg/data/dHCP_cropped_256/064300/064300_t2w_2.0mm.nii.gz\n",
      "new file  /home/jorg/data/dHCP_cropped_256/064301/064301_t2w_2.0mm.nii.gz\n",
      "new file  /home/jorg/data/dHCP_cropped_256/065200/065200_t2w_2.0mm.nii.gz\n",
      "new file  /home/jorg/data/dHCP_cropped_256/065700/065700_t2w_2.0mm.nii.gz\n",
      "new file  /home/jorg/data/dHCP_cropped_256/073100/073100_t2w_2.0mm.nii.gz\n",
      "new file  /home/jorg/data/dHCP_cropped_256/073200/073200_t2w_2.0mm.nii.gz\n",
      "new file  /home/jorg/data/dHCP_cropped_256/074801/074801_t2w_2.0mm.nii.gz\n",
      "new file  /home/jorg/data/dHCP_cropped_256/077701/077701_t2w_2.0mm.nii.gz\n",
      "new file  /home/jorg/data/dHCP_cropped_256/079300/079300_t2w_2.0mm.nii.gz\n",
      "new file  /home/jorg/data/dHCP_cropped_256/079600/079600_t2w_2.0mm.nii.gz\n",
      "new file  /home/jorg/data/dHCP_cropped_256/080300/080300_t2w_2.0mm.nii.gz\n",
      "new file  /home/jorg/data/dHCP_cropped_256/080400/080400_t2w_2.0mm.nii.gz\n",
      "new file  /home/jorg/data/dHCP_cropped_256/081200/081200_t2w_2.0mm.nii.gz\n",
      "new file  /home/jorg/data/dHCP_cropped_256/082304/082304_t2w_2.0mm.nii.gz\n",
      "new file  /home/jorg/data/dHCP_cropped_256/085900/085900_t2w_2.0mm.nii.gz\n",
      "new file  /home/jorg/data/dHCP_cropped_256/090400/090400_t2w_2.0mm.nii.gz\n",
      "new file  /home/jorg/data/dHCP_cropped_256/090701/090701_t2w_2.0mm.nii.gz\n",
      "new file  /home/jorg/data/dHCP_cropped_256/090801/090801_t2w_2.0mm.nii.gz\n",
      "new file  /home/jorg/data/dHCP_cropped_256/092100/092100_t2w_2.0mm.nii.gz\n",
      "new file  /home/jorg/data/dHCP_cropped_256/092700/092700_t2w_2.0mm.nii.gz\n",
      "new file  /home/jorg/data/dHCP_cropped_256/092900/092900_t2w_2.0mm.nii.gz\n",
      "new file  /home/jorg/data/dHCP_cropped_256/094300/094300_t2w_2.0mm.nii.gz\n",
      "new file  /home/jorg/data/dHCP_cropped_256/094900/094900_t2w_2.0mm.nii.gz\n",
      "new file  /home/jorg/data/dHCP_cropped_256/096400/096400_t2w_2.0mm.nii.gz\n",
      "new file  /home/jorg/data/dHCP_cropped_256/097401/097401_t2w_2.0mm.nii.gz\n",
      "new file  /home/jorg/data/dHCP_cropped_256/097500/097500_t2w_2.0mm.nii.gz\n",
      "new file  /home/jorg/data/dHCP_cropped_256/098101/098101_t2w_2.0mm.nii.gz\n",
      "new file  /home/jorg/data/dHCP_cropped_256/098700/098700_t2w_2.0mm.nii.gz\n",
      "new file  /home/jorg/data/dHCP_cropped_256/098800/098800_t2w_2.0mm.nii.gz\n",
      "new file  /home/jorg/data/dHCP_cropped_256/098900/098900_t2w_2.0mm.nii.gz\n",
      "new file  /home/jorg/data/dHCP_cropped_256/099400/099400_t2w_2.0mm.nii.gz\n",
      "new file  /home/jorg/data/dHCP_cropped_256/100000/100000_t2w_2.0mm.nii.gz\n",
      "new file  /home/jorg/data/dHCP_cropped_256/100400/100400_t2w_2.0mm.nii.gz\n",
      "new file  /home/jorg/data/dHCP_cropped_256/101300/101300_t2w_2.0mm.nii.gz\n",
      "new file  /home/jorg/data/dHCP_cropped_256/104100/104100_t2w_2.0mm.nii.gz\n",
      "new file  /home/jorg/data/dHCP_cropped_256/106100/106100_t2w_2.0mm.nii.gz\n",
      "new file  /home/jorg/data/dHCP_cropped_256/107600/107600_t2w_2.0mm.nii.gz\n",
      "new file  /home/jorg/data/dHCP_cropped_256/107700/107700_t2w_2.0mm.nii.gz\n",
      "new file  /home/jorg/data/dHCP_cropped_256/107902/107902_t2w_2.0mm.nii.gz\n",
      "new file  /home/jorg/data/dHCP_cropped_256/108000/108000_t2w_2.0mm.nii.gz\n",
      "new file  /home/jorg/data/dHCP_cropped_256/109100/109100_t2w_2.0mm.nii.gz\n",
      "new file  /home/jorg/data/dHCP_cropped_256/109500/109500_t2w_2.0mm.nii.gz\n"
     ]
    },
    {
     "name": "stdout",
     "output_type": "stream",
     "text": [
      "new file  /home/jorg/data/dHCP_cropped_256/109600/109600_t2w_2.0mm.nii.gz\n",
      "new file  /home/jorg/data/dHCP_cropped_256/111400/111400_t2w_2.0mm.nii.gz\n",
      "new file  /home/jorg/data/dHCP_cropped_256/111500/111500_t2w_2.0mm.nii.gz\n",
      "new file  /home/jorg/data/dHCP_cropped_256/111700/111700_t2w_2.0mm.nii.gz\n",
      "new file  /home/jorg/data/dHCP_cropped_256/112100/112100_t2w_2.0mm.nii.gz\n",
      "new file  /home/jorg/data/dHCP_cropped_256/113001/113001_t2w_2.0mm.nii.gz\n",
      "new file  /home/jorg/data/dHCP_cropped_256/113900/113900_t2w_2.0mm.nii.gz\n",
      "new file  /home/jorg/data/dHCP_cropped_256/114900/114900_t2w_2.0mm.nii.gz\n",
      "new file  /home/jorg/data/dHCP_cropped_256/115700/115700_t2w_2.0mm.nii.gz\n",
      "new file  /home/jorg/data/dHCP_cropped_256/116000/116000_t2w_2.0mm.nii.gz\n",
      "new file  /home/jorg/data/dHCP_cropped_256/118500/118500_t2w_2.0mm.nii.gz\n",
      "new file  /home/jorg/data/dHCP_cropped_256/118700/118700_t2w_2.0mm.nii.gz\n",
      "new file  /home/jorg/data/dHCP_cropped_256/118800/118800_t2w_2.0mm.nii.gz\n",
      "new file  /home/jorg/data/dHCP_cropped_256/119100/119100_t2w_2.0mm.nii.gz\n",
      "new file  /home/jorg/data/dHCP_cropped_256/120400/120400_t2w_2.0mm.nii.gz\n",
      "new file  /home/jorg/data/dHCP_cropped_256/120500/120500_t2w_2.0mm.nii.gz\n",
      "new file  /home/jorg/data/dHCP_cropped_256/121300/121300_t2w_2.0mm.nii.gz\n",
      "new file  /home/jorg/data/dHCP_cropped_256/122900/122900_t2w_2.0mm.nii.gz\n",
      "new file  /home/jorg/data/dHCP_cropped_256/124000/124000_t2w_2.0mm.nii.gz\n",
      "new file  /home/jorg/data/dHCP_cropped_256/124100/124100_t2w_2.0mm.nii.gz\n",
      "new file  /home/jorg/data/dHCP_cropped_256/125200/125200_t2w_2.0mm.nii.gz\n",
      "new file  /home/jorg/data/dHCP_cropped_256/125300/125300_t2w_2.0mm.nii.gz\n",
      "new file  /home/jorg/data/dHCP_cropped_256/125700/125700_t2w_2.0mm.nii.gz\n",
      "new file  /home/jorg/data/dHCP_cropped_256/126200/126200_t2w_2.0mm.nii.gz\n",
      "new file  /home/jorg/data/dHCP_cropped_256/126301/126301_t2w_2.0mm.nii.gz\n",
      "new file  /home/jorg/data/dHCP_cropped_256/127100/127100_t2w_2.0mm.nii.gz\n",
      "new file  /home/jorg/data/dHCP_cropped_256/127200/127200_t2w_2.0mm.nii.gz\n",
      "new file  /home/jorg/data/dHCP_cropped_256/127300/127300_t2w_2.0mm.nii.gz\n",
      "new file  /home/jorg/data/dHCP_cropped_256/127800/127800_t2w_2.0mm.nii.gz\n",
      "new file  /home/jorg/data/dHCP_cropped_256/129200/129200_t2w_2.0mm.nii.gz\n",
      "new file  /home/jorg/data/dHCP_cropped_256/129500/129500_t2w_2.0mm.nii.gz\n",
      "new file  /home/jorg/data/dHCP_cropped_256/130200/130200_t2w_2.0mm.nii.gz\n",
      "new file  /home/jorg/data/dHCP_cropped_256/130300/130300_t2w_2.0mm.nii.gz\n",
      "new file  /home/jorg/data/dHCP_cropped_256/133800/133800_t2w_2.0mm.nii.gz\n",
      "new file  /home/jorg/data/dHCP_cropped_256/137100/137100_t2w_2.0mm.nii.gz\n",
      "new file  /home/jorg/data/dHCP_cropped_256/137200/137200_t2w_2.0mm.nii.gz\n",
      "new file  /home/jorg/data/dHCP_cropped_256/137900/137900_t2w_2.0mm.nii.gz\n",
      "new file  /home/jorg/data/dHCP_cropped_256/138800/138800_t2w_2.0mm.nii.gz\n",
      "new file  /home/jorg/data/dHCP_cropped_256/140800/140800_t2w_2.0mm.nii.gz\n",
      "new file  /home/jorg/data/dHCP_cropped_256/140900/140900_t2w_2.0mm.nii.gz\n",
      "new file  /home/jorg/data/dHCP_cropped_256/142900/142900_t2w_2.0mm.nii.gz\n",
      "new file  /home/jorg/data/dHCP_cropped_256/145000/145000_t2w_2.0mm.nii.gz\n",
      "new file  /home/jorg/data/dHCP_cropped_256/145700/145700_t2w_2.0mm.nii.gz\n",
      "new file  /home/jorg/data/dHCP_cropped_256/145800/145800_t2w_2.0mm.nii.gz\n",
      "new file  /home/jorg/data/dHCP_cropped_256/145900/145900_t2w_2.0mm.nii.gz\n",
      "new file  /home/jorg/data/dHCP_cropped_256/146500/146500_t2w_2.0mm.nii.gz\n",
      "new file  /home/jorg/data/dHCP_cropped_256/146700/146700_t2w_2.0mm.nii.gz\n",
      "new file  /home/jorg/data/dHCP_cropped_256/146800/146800_t2w_2.0mm.nii.gz\n",
      "new file  /home/jorg/data/dHCP_cropped_256/146900/146900_t2w_2.0mm.nii.gz\n",
      "new file  /home/jorg/data/dHCP_cropped_256/148202/148202_t2w_2.0mm.nii.gz\n",
      "new file  /home/jorg/data/dHCP_cropped_256/148700/148700_t2w_2.0mm.nii.gz\n",
      "new file  /home/jorg/data/dHCP_cropped_256/150600/150600_t2w_2.0mm.nii.gz\n",
      "new file  /home/jorg/data/dHCP_cropped_256/151200/151200_t2w_2.0mm.nii.gz\n",
      "new file  /home/jorg/data/dHCP_cropped_256/151300/151300_t2w_2.0mm.nii.gz\n",
      "new file  /home/jorg/data/dHCP_cropped_256/153900/153900_t2w_2.0mm.nii.gz\n",
      "new file  /home/jorg/data/dHCP_cropped_256/158300/158300_t2w_2.0mm.nii.gz\n",
      "new file  /home/jorg/data/dHCP_cropped_256/158900/158900_t2w_2.0mm.nii.gz\n",
      "new file  /home/jorg/data/dHCP_cropped_256/159101/159101_t2w_2.0mm.nii.gz\n",
      "new file  /home/jorg/data/dHCP_cropped_256/159200/159200_t2w_2.0mm.nii.gz\n",
      "new file  /home/jorg/data/dHCP_cropped_256/161200/161200_t2w_2.0mm.nii.gz\n",
      "new file  /home/jorg/data/dHCP_cropped_256/161400/161400_t2w_2.0mm.nii.gz\n",
      "new file  /home/jorg/data/dHCP_cropped_256/163200/163200_t2w_2.0mm.nii.gz\n",
      "new file  /home/jorg/data/dHCP_cropped_256/164900/164900_t2w_2.0mm.nii.gz\n",
      "new file  /home/jorg/data/dHCP_cropped_256/165900/165900_t2w_2.0mm.nii.gz\n",
      "new file  /home/jorg/data/dHCP_cropped_256/166600/166600_t2w_2.0mm.nii.gz\n",
      "new file  /home/jorg/data/dHCP_cropped_256/169900/169900_t2w_2.0mm.nii.gz\n",
      "new file  /home/jorg/data/dHCP_cropped_256/170000/170000_t2w_2.0mm.nii.gz\n",
      "new file  /home/jorg/data/dHCP_cropped_256/170100/170100_t2w_2.0mm.nii.gz\n",
      "new file  /home/jorg/data/dHCP_cropped_256/170600/170600_t2w_2.0mm.nii.gz\n",
      "new file  /home/jorg/data/dHCP_cropped_256/175800/175800_t2w_2.0mm.nii.gz\n",
      "new file  /home/jorg/data/dHCP_cropped_256/176500/176500_t2w_2.0mm.nii.gz\n",
      "new file  /home/jorg/data/dHCP_cropped_256/177201/177201_t2w_2.0mm.nii.gz\n",
      "new file  /home/jorg/data/dHCP_cropped_256/177900/177900_t2w_2.0mm.nii.gz\n",
      "new file  /home/jorg/data/dHCP_cropped_256/178200/178200_t2w_2.0mm.nii.gz\n",
      "new file  /home/jorg/data/dHCP_cropped_256/178600/178600_t2w_2.0mm.nii.gz\n",
      "new file  /home/jorg/data/dHCP_cropped_256/180600/180600_t2w_2.0mm.nii.gz\n",
      "new file  /home/jorg/data/dHCP_cropped_256/181800/181800_t2w_2.0mm.nii.gz\n",
      "new file  /home/jorg/data/dHCP_cropped_256/182500/182500_t2w_2.0mm.nii.gz\n",
      "new file  /home/jorg/data/dHCP_cropped_256/188400/188400_t2w_2.0mm.nii.gz\n",
      "new file  /home/jorg/data/dHCP_cropped_256/191100/191100_t2w_2.0mm.nii.gz\n",
      "new file  /home/jorg/data/dHCP_cropped_256/191600/191600_t2w_2.0mm.nii.gz\n",
      "new file  /home/jorg/data/dHCP_cropped_256/191801/191801_t2w_2.0mm.nii.gz\n",
      "new file  /home/jorg/data/dHCP_cropped_256/191900/191900_t2w_2.0mm.nii.gz\n",
      "new file  /home/jorg/data/dHCP_cropped_256/192000/192000_t2w_2.0mm.nii.gz\n",
      "new file  /home/jorg/data/dHCP_cropped_256/192200/192200_t2w_2.0mm.nii.gz\n",
      "new file  /home/jorg/data/dHCP_cropped_256/193500/193500_t2w_2.0mm.nii.gz\n",
      "new file  /home/jorg/data/dHCP_cropped_256/193600/193600_t2w_2.0mm.nii.gz\n",
      "new file  /home/jorg/data/dHCP_cropped_256/193700/193700_t2w_2.0mm.nii.gz\n",
      "new file  /home/jorg/data/dHCP_cropped_256/195200/195200_t2w_2.0mm.nii.gz\n",
      "new file  /home/jorg/data/dHCP_cropped_256/195900/195900_t2w_2.0mm.nii.gz\n",
      "new file  /home/jorg/data/dHCP_cropped_256/196800/196800_t2w_2.0mm.nii.gz\n",
      "new file  /home/jorg/data/dHCP_cropped_256/197200/197200_t2w_2.0mm.nii.gz\n",
      "new file  /home/jorg/data/dHCP_cropped_256/197400/197400_t2w_2.0mm.nii.gz\n",
      "new file  /home/jorg/data/dHCP_cropped_256/197601/197601_t2w_2.0mm.nii.gz\n",
      "new file  /home/jorg/data/dHCP_cropped_256/198100/198100_t2w_2.0mm.nii.gz\n",
      "new file  /home/jorg/data/dHCP_cropped_256/198800/198800_t2w_2.0mm.nii.gz\n",
      "new file  /home/jorg/data/dHCP_cropped_256/199500/199500_t2w_2.0mm.nii.gz\n",
      "new file  /home/jorg/data/dHCP_cropped_256/199800/199800_t2w_2.0mm.nii.gz\n",
      "new file  /home/jorg/data/dHCP_cropped_256/200000/200000_t2w_2.0mm.nii.gz\n",
      "new file  /home/jorg/data/dHCP_cropped_256/202600/202600_t2w_2.0mm.nii.gz\n",
      "new file  /home/jorg/data/dHCP_cropped_256/204400/204400_t2w_2.0mm.nii.gz\n",
      "new file  /home/jorg/data/dHCP_cropped_256/204600/204600_t2w_2.0mm.nii.gz\n",
      "new file  /home/jorg/data/dHCP_cropped_256/206101/206101_t2w_2.0mm.nii.gz\n",
      "new file  /home/jorg/data/dHCP_cropped_256/207400/207400_t2w_2.0mm.nii.gz\n",
      "new file  /home/jorg/data/dHCP_cropped_256/209100/209100_t2w_2.0mm.nii.gz\n",
      "new file  /home/jorg/data/dHCP_cropped_256/209600/209600_t2w_2.0mm.nii.gz\n",
      "new file  /home/jorg/data/dHCP_cropped_256/211900/211900_t2w_2.0mm.nii.gz\n",
      "new file  /home/jorg/data/dHCP_cropped_256/212200/212200_t2w_2.0mm.nii.gz\n",
      "new file  /home/jorg/data/dHCP_cropped_256/214800/214800_t2w_2.0mm.nii.gz\n",
      "new file  /home/jorg/data/dHCP_cropped_256/214900/214900_t2w_2.0mm.nii.gz\n",
      "new file  /home/jorg/data/dHCP_cropped_256/221400/221400_t2w_2.0mm.nii.gz\n"
     ]
    },
    {
     "name": "stdout",
     "output_type": "stream",
     "text": [
      "new file  /home/jorg/data/dHCP_cropped_256/222201/222201_t2w_2.0mm.nii.gz\n",
      "new file  /home/jorg/data/dHCP_cropped_256/223701/223701_t2w_2.0mm.nii.gz\n",
      "new file  /home/jorg/data/dHCP_cropped_256/223800/223800_t2w_2.0mm.nii.gz\n",
      "new file  /home/jorg/data/dHCP_cropped_256/224100/224100_t2w_2.0mm.nii.gz\n",
      "new file  /home/jorg/data/dHCP_cropped_256/229500/229500_t2w_2.0mm.nii.gz\n",
      "new file  /home/jorg/data/dHCP_cropped_256/231702/231702_t2w_2.0mm.nii.gz\n",
      "new file  /home/jorg/data/dHCP_cropped_256/231800/231800_t2w_2.0mm.nii.gz\n",
      "new file  /home/jorg/data/dHCP_cropped_256/232701/232701_t2w_2.0mm.nii.gz\n",
      "new file  /home/jorg/data/dHCP_cropped_256/236400/236400_t2w_2.0mm.nii.gz\n",
      "new file  /home/jorg/data/dHCP_cropped_256/238000/238000_t2w_2.0mm.nii.gz\n",
      "new file  /home/jorg/data/dHCP_cropped_256/238600/238600_t2w_2.0mm.nii.gz\n",
      "new file  /home/jorg/data/dHCP_cropped_256/240700/240700_t2w_2.0mm.nii.gz\n",
      "new file  /home/jorg/data/dHCP_cropped_256/243000/243000_t2w_2.0mm.nii.gz\n",
      "new file  /home/jorg/data/dHCP_cropped_256/244200/244200_t2w_2.0mm.nii.gz\n"
     ]
    }
   ],
   "source": [
    "from datasets.dHCP.dataset import create_lr_dataset_dHCP\n",
    "\n",
    "create_lr_dataset_dHCP(4, False)"
   ]
  },
  {
   "cell_type": "code",
   "execution_count": 13,
   "metadata": {},
   "outputs": [
    {
     "name": "stdout",
     "output_type": "stream",
     "text": [
      "(220, 220, 176)\n"
     ]
    }
   ],
   "source": [
    "fname = '/home/jorg/expers/sr/OASIS/ae_combined/mse_perc_p16_l128_3mm_blur_ex01/images_sr_ip/OAS1_0404_MR1/OAS1_0404_MR1_ni02.nii.gz'\n",
    "img = sitk.ReadImage(fname)\n",
    "print(img.GetSize())"
   ]
  }
 ],
 "metadata": {
  "kernelspec": {
   "display_name": "Python 3",
   "language": "python",
   "name": "python3"
  },
  "language_info": {
   "codemirror_mode": {
    "name": "ipython",
    "version": 3
   },
   "file_extension": ".py",
   "mimetype": "text/x-python",
   "name": "python",
   "nbconvert_exporter": "python",
   "pygments_lexer": "ipython3",
   "version": "3.7.10"
  }
 },
 "nbformat": 4,
 "nbformat_minor": 2
}
