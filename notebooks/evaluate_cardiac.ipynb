{
 "cells": [
  {
   "cell_type": "code",
   "execution_count": 1,
   "metadata": {},
   "outputs": [
    {
     "name": "stdout",
     "output_type": "stream",
     "text": [
      "env: CUDA_VISIBLE_DEVICES=6\n",
      "env: OMP_NUM_THREADS=2\n"
     ]
    }
   ],
   "source": [
    "%env CUDA_VISIBLE_DEVICES=6\n",
    "%env OMP_NUM_THREADS=2"
   ]
  },
  {
   "cell_type": "code",
   "execution_count": 3,
   "metadata": {},
   "outputs": [
    {
     "name": "stdout",
     "output_type": "stream",
     "text": [
      "Ready\n"
     ]
    }
   ],
   "source": [
    "import sys\n",
    "import os\n",
    "\n",
    "sys.path.extend(['/home/jorg/repo/SuperResolution_aniso_MRI'])\n",
    "import matplotlib\n",
    "import matplotlib.pyplot as plt\n",
    "from tqdm import tqdm\n",
    "from matplotlib import cm\n",
    "\n",
    "import numpy as np\n",
    "import torch\n",
    "import torchvision\n",
    "from torchvision import transforms\n",
    "import torch.nn as nn\n",
    "import SimpleITK as sitk\n",
    "try:\n",
    "    from skimage.measure import compare_ssim as ssim_metric\n",
    "    from skimage.measure import compare_psnr as psnr_metric\n",
    "except ImportError:\n",
    "    from skimage.metrics import structural_similarity as ssim_metric\n",
    "    from skimage.metrics import peak_signal_noise_ratio as psnr_metric\n",
    "\n",
    "from datasets.data_config import get_config\n",
    "from datasets.shared_transforms import CenterCrop, AdjustToPatchSize\n",
    "from kwatsch.get_trainer import get_trainer\n",
    "from evaluate.create_HR_images import create_hr_images\n",
    "from datasets.cardiac_image import get_cardiac4d_per_frame\n",
    "from datasets.ACDC.data import acdc_all_image4d\n",
    "from datasets.ACDC.data4d_simple import get_patids_acdc_sr\n",
    "from evaluate.cardiac.evaluate_model import create_cardiac_volumes\n",
    "from evaluate.cardiac.evaluate_model import create_acdc_volumes_conventional_interpolation\n",
    "%matplotlib inline\n",
    "%load_ext autoreload\n",
    "%autoreload 2\n",
    "\n",
    "torch.manual_seed(32563)\n",
    "rs = np.random.RandomState(32563)\n",
    "\n",
    "\n",
    "print(\"Ready\")"
   ]
  },
  {
   "cell_type": "markdown",
   "metadata": {},
   "source": [
    "## Generate ACDC volumes with Autoencoder approach"
   ]
  },
  {
   "cell_type": "code",
   "execution_count": 4,
   "metadata": {},
   "outputs": [],
   "source": [
    "pat_nums_training = get_patids_acdc_sr(\"training\", rs=rs, limited_load=False)\n",
    "pat_nums_training.sort()\n",
    "pat_nums_validation = get_patids_acdc_sr(\"validation\", rs=rs, limited_load=False)\n",
    "pat_nums_validation.sort()\n",
    "pat_nums_test = get_patids_acdc_sr(\"test\", rs=rs, limited_load=False)\n",
    "pat_nums_test.sort()\n",
    "pat_all = pat_nums_training + pat_nums_validation"
   ]
  },
  {
   "cell_type": "code",
   "execution_count": 9,
   "metadata": {
    "scrolled": true
   },
   "outputs": [
    {
     "name": "stdout",
     "output_type": "stream",
     "text": [
      "INFO - evaluating on ACDC dataset with 2 patients\n",
      "INFO - Initializing trainer AETrainerEndToEnd - using multiple gpus False\n",
      "Warning - Base Trainer - LPIPS on GPU-ID 0\n",
      "Warning - LPIPS weights [1.0, 1.0, 1.0, 1.0, 1.0] \n",
      "Loading model from: /home/jorg/repo/SuperResolution_aniso_MRI/lpips/weights/v0.1/vgg.pth\n",
      "INFO - AETrainerEndToEnd Loaded model parameters from /home/jorg/expers/sr/ACDC/ae_combined/mse_perc_p32_l128_aug180_w007_ex01/models/419.models\n",
      "WARNING WARNING - you are using VanillaACAI CAE class\n",
      "WARNING - ACDC - Current model-nbr >>> 419 <<< train patch-size/test patch-size 128/224\n",
      "{'ae_class': 'VanillaACAI', 'alpha_class': None, 'alpha_dims': None, 'alpha_loss_func': None, 'aug_patch_size': 180, 'batch_size': 12, 'colors': 1, 'comment': None, 'dataset': 'ACDC', 'depth': 32, 'device': 'cuda', 'dir_images': '/home/jorg/expers/sr/ACDC/ae_combined/mse_perc_p32_l128_aug180_w007_ex01/log_images', 'dir_models': '/home/jorg/expers/sr/ACDC/ae_combined/mse_perc_p32_l128_aug180_w007_ex01/models', 'downsample_steps': 2, 'epochs': 1100, 'ex_loss_weight1': 0.07, 'exper_id': 'mse_perc_p32_l128_aug180_w007_ex01', 'fine_tune': False, 'get_masks': False, 'gpu_ids': [0], 'image_mix_loss_func': 'perceptual', 'latent': 128, 'latent_width': 32, 'limited_load': False, 'lr': 1e-05, 'max_grad_norm': 0, 'model': 'ae_combined', 'model_filename': None, 'module_network_path': 'networks/acai_vanilla.py', 'module_trainer_path': 'utils/cardiac/trainer_ae.py', 'n_res_block': None, 'num_it_per_epoch': 1448, 'number_of_workers': 2, 'output_dir': '/home/jorg/expers/sr/ACDC/ae_combined/mse_perc_p32_l128_aug180_w007_ex01', 'port': 8030, 'seed': 892372, 'slice_selection': 'adjacent_plus', 'test_batch_size': 16, 'trainer_class': 'AETrainerEndToEnd', 'use_alpha_probe': False, 'use_batchnorm': True, 'use_extra_latent_loss': False, 'use_laploss': False, 'use_loss_annealing': False, 'use_percept_loss': False, 'use_sigmoid': True, 'use_ssim_loss': False, 'validate_every': 500, 'weight_decay': 0.0, 'width': 128}\n",
      "SSIM / PSRN / VIF: 0.824 / 26.869 / 0.871\n",
      "Total - SSIM / PSRN / VIF / LPIPS: 0.839 (0.01) / 26.87 (0.14) / 0.853 (0.01) / 0.000 (0.00)\n",
      "Reconstruction - SSIM / PSRN / VIF / LPIPS: 0.969 (0.00) / 33.65 (0.15) / 0.885 (0.02) / 0.000 (0.00)\n",
      "Synthesis - SSIM / PSRN / VIF / LPIPS: 0.666 (0.01) / 17.83 (0.22) / 0.810 (0.01) / 0.000 (0.00)\n"
     ]
    }
   ],
   "source": [
    "pat_nums = get_patids_acdc_sr(\"test\", rs=rs, limited_load=False)\n",
    "pat_nums.sort()\n",
    "exper_src_path = \"~/expers/sr/ACDC/ae_combined/mse_perc_p32_l128_aug180_w007_ex01\"\n",
    "model_nbr = 419  # 885\n",
    "save_metrics = False\n",
    "# ADJUST !!! CHECK !!! ESPECIALLY RESAMPLE !!!\n",
    "output_dir = None  # exper_src_path + os.sep + \"ni06\"  # None\n",
    "resample = True   # resample back to original pixel spacing in-plane (1.4^2 for ae)\n",
    "# ADJUST !!   END   END\n",
    "eval_axis = 0\n",
    "do_save = False\n",
    "eval_patch_size = 224  \n",
    "generate_inbetween_slices = True\n",
    "use_original_slice = False\n",
    "downsample_steps = 2\n",
    "num_interpolations = downsample_steps - 1\n",
    "if not generate_inbetween_slices:\n",
    "    downsample_steps = None\n",
    "    num_interpolations = 6\n",
    "    output_dir = exper_src_path + os.sep + \"ni0{}\".format(num_interpolations)\n",
    "metrics_dict = create_cardiac_volumes(exper_src_path, model_nbr, \n",
    "                                      [78, 90], # pat_nums_test,\n",
    "                                   dataset_name='ACDC',\n",
    "                                   eval_patch_size=eval_patch_size, save_volumes=do_save, \n",
    "                                   generate_inbetween_slices=generate_inbetween_slices,\n",
    "                                   downsample_steps=downsample_steps, \n",
    "                                   num_interpolations=num_interpolations,\n",
    "                                   compute_percept_loss=False, \n",
    "                                   use_original_slice=use_original_slice,\n",
    "                                   eval_axis=eval_axis, model_nbr_sr=None, \n",
    "                                   resample=resample, output_dir=output_dir, \n",
    "                                  save_metrics=save_metrics)"
   ]
  },
  {
   "cell_type": "markdown",
   "metadata": {},
   "source": [
    "## Generate ACDC volumes with conventional methods"
   ]
  },
  {
   "cell_type": "code",
   "execution_count": null,
   "metadata": {
    "scrolled": true
   },
   "outputs": [
    {
     "name": "stdout",
     "output_type": "stream",
     "text": [
      "INFO - evaluating on sunnybrook dataset for test volumes\n",
      "WARNING - Creating volumes with conventional interpolation method linear - eval-patch-size 224 - expand factor 2 - downsample steps 2 \n",
      "INFO - saving output to /home/jorg/expers/sr/sunnybrook/conventional/linear\n",
      "INFO - saved /home/jorg/expers/sr/sunnybrook/conventional/linear/SC-HF-NI-04/SC-HF-NI-04_ni01.nii.gz\n",
      "SSIM / PSRN / VIF: 0.827 / 22.748 / 0.864\n",
      "INFO - saved /home/jorg/expers/sr/sunnybrook/conventional/linear/SC-HYP-40/SC-HYP-40_ni01.nii.gz\n",
      "SSIM / PSRN / VIF: 0.846 / 24.393 / 0.868\n",
      "INFO - saved /home/jorg/expers/sr/sunnybrook/conventional/linear/SC-HF-I-01/SC-HF-I-01_ni01.nii.gz\n",
      "SSIM / PSRN / VIF: 0.838 / 23.983 / 0.861\n",
      "INFO - saved /home/jorg/expers/sr/sunnybrook/conventional/linear/SC-HF-NI-14/SC-HF-NI-14_ni01.nii.gz\n",
      "SSIM / PSRN / VIF: 0.878 / 25.155 / 0.877\n",
      "INFO - saved /home/jorg/expers/sr/sunnybrook/conventional/linear/SC-HF-I-08/SC-HF-I-08_ni01.nii.gz\n",
      "SSIM / PSRN / VIF: 0.863 / 23.920 / 0.865\n",
      "INFO - saved /home/jorg/expers/sr/sunnybrook/conventional/linear/SC-HYP-07/SC-HYP-07_ni01.nii.gz\n",
      "SSIM / PSRN / VIF: 0.876 / 26.565 / 0.870\n",
      "INFO - saved /home/jorg/expers/sr/sunnybrook/conventional/linear/SC-HF-NI-34/SC-HF-NI-34_ni01.nii.gz\n",
      "SSIM / PSRN / VIF: 0.866 / 26.051 / 0.866\n",
      "INFO - saved /home/jorg/expers/sr/sunnybrook/conventional/linear/SC-HF-NI-13/SC-HF-NI-13_ni01.nii.gz\n",
      "SSIM / PSRN / VIF: 0.908 / 27.582 / 0.870\n",
      "INFO - saved /home/jorg/expers/sr/sunnybrook/conventional/linear/SC-HF-NI-03/SC-HF-NI-03_ni01.nii.gz\n",
      "SSIM / PSRN / VIF: 0.798 / 21.728 / 0.854\n",
      "INFO - saved /home/jorg/expers/sr/sunnybrook/conventional/linear/SC-HF-I-09/SC-HF-I-09_ni01.nii.gz\n",
      "SSIM / PSRN / VIF: 0.810 / 22.435 / 0.866\n",
      "INFO - saved /home/jorg/expers/sr/sunnybrook/conventional/linear/SC-HF-I-11/SC-HF-I-11_ni01.nii.gz\n",
      "SSIM / PSRN / VIF: 0.811 / 21.603 / 0.860\n",
      "INFO - saved /home/jorg/expers/sr/sunnybrook/conventional/linear/SC-HF-I-07/SC-HF-I-07_ni01.nii.gz\n",
      "SSIM / PSRN / VIF: 0.859 / 24.761 / 0.847\n",
      "INFO - saved /home/jorg/expers/sr/sunnybrook/conventional/linear/SC-HYP-06/SC-HYP-06_ni01.nii.gz\n",
      "SSIM / PSRN / VIF: 0.905 / 31.146 / 0.868\n",
      "INFO - saved /home/jorg/expers/sr/sunnybrook/conventional/linear/SC-HYP-37/SC-HYP-37_ni01.nii.gz\n",
      "SSIM / PSRN / VIF: 0.857 / 26.123 / 0.858\n",
      "INFO - saved /home/jorg/expers/sr/sunnybrook/conventional/linear/SC-HF-I-04/SC-HF-I-04_ni01.nii.gz\n",
      "SSIM / PSRN / VIF: 0.840 / 22.838 / 0.865\n",
      "INFO - saved /home/jorg/expers/sr/sunnybrook/conventional/linear/SC-HF-I-10/SC-HF-I-10_ni01.nii.gz\n",
      "SSIM / PSRN / VIF: 0.825 / 22.257 / 0.862\n",
      "INFO - saved /home/jorg/expers/sr/sunnybrook/conventional/linear/SC-N-02/SC-N-02_ni01.nii.gz\n",
      "SSIM / PSRN / VIF: 0.820 / 23.259 / 0.860\n",
      "INFO - saved /home/jorg/expers/sr/sunnybrook/conventional/linear/SC-N-09/SC-N-09_ni01.nii.gz\n",
      "SSIM / PSRN / VIF: 0.810 / 23.427 / 0.843\n",
      "INFO - saved /home/jorg/expers/sr/sunnybrook/conventional/linear/SC-HF-I-05/SC-HF-I-05_ni01.nii.gz\n",
      "SSIM / PSRN / VIF: 0.850 / 24.065 / 0.864\n",
      "INFO - saved /home/jorg/expers/sr/sunnybrook/conventional/linear/SC-N-03/SC-N-03_ni01.nii.gz\n",
      "SSIM / PSRN / VIF: 0.896 / 26.908 / 0.888\n",
      "INFO - saved /home/jorg/expers/sr/sunnybrook/conventional/linear/SC-HYP-03/SC-HYP-03_ni01.nii.gz\n",
      "SSIM / PSRN / VIF: 0.787 / 21.351 / 0.837\n",
      "INFO - saved /home/jorg/expers/sr/sunnybrook/conventional/linear/SC-HF-NI-31/SC-HF-NI-31_ni01.nii.gz\n",
      "SSIM / PSRN / VIF: 0.861 / 25.153 / 0.865\n",
      "INFO - saved /home/jorg/expers/sr/sunnybrook/conventional/linear/SC-HF-I-12/SC-HF-I-12_ni01.nii.gz\n",
      "SSIM / PSRN / VIF: 0.844 / 23.756 / 0.857\n",
      "INFO - saved /home/jorg/expers/sr/sunnybrook/conventional/linear/SC-N-06/SC-N-06_ni01.nii.gz\n",
      "SSIM / PSRN / VIF: 0.867 / 27.430 / 0.858\n",
      "INFO - saved /home/jorg/expers/sr/sunnybrook/conventional/linear/SC-HYP-12/SC-HYP-12_ni01.nii.gz\n",
      "SSIM / PSRN / VIF: 0.875 / 26.444 / 0.854\n",
      "INFO - saved /home/jorg/expers/sr/sunnybrook/conventional/linear/SC-HF-NI-07/SC-HF-NI-07_ni01.nii.gz\n",
      "SSIM / PSRN / VIF: 0.821 / 22.321 / 0.855\n",
      "INFO - saved /home/jorg/expers/sr/sunnybrook/conventional/linear/SC-N-05/SC-N-05_ni01.nii.gz\n",
      "SSIM / PSRN / VIF: 0.875 / 26.476 / 0.867\n",
      "INFO - saved /home/jorg/expers/sr/sunnybrook/conventional/linear/SC-HF-NI-36/SC-HF-NI-36_ni01.nii.gz\n",
      "SSIM / PSRN / VIF: 0.794 / 21.084 / 0.859\n",
      "INFO - saved /home/jorg/expers/sr/sunnybrook/conventional/linear/SC-HF-I-02/SC-HF-I-02_ni01.nii.gz\n",
      "SSIM / PSRN / VIF: 0.854 / 23.031 / 0.861\n",
      "INFO - saved /home/jorg/expers/sr/sunnybrook/conventional/linear/SC-HYP-10/SC-HYP-10_ni01.nii.gz\n",
      "SSIM / PSRN / VIF: 0.884 / 26.914 / 0.884\n",
      "INFO - saved /home/jorg/expers/sr/sunnybrook/conventional/linear/SC-HYP-01/SC-HYP-01_ni01.nii.gz\n",
      "SSIM / PSRN / VIF: 0.867 / 24.886 / 0.859\n",
      "INFO - saved /home/jorg/expers/sr/sunnybrook/conventional/linear/SC-HF-I-06/SC-HF-I-06_ni01.nii.gz\n",
      "SSIM / PSRN / VIF: 0.789 / 21.292 / 0.858\n",
      "INFO - saved /home/jorg/expers/sr/sunnybrook/conventional/linear/SC-HF-NI-15/SC-HF-NI-15_ni01.nii.gz\n",
      "SSIM / PSRN / VIF: 0.910 / 25.983 / 0.852\n",
      "INFO - saved /home/jorg/expers/sr/sunnybrook/conventional/linear/SC-HF-NI-11/SC-HF-NI-11_ni01.nii.gz\n",
      "SSIM / PSRN / VIF: 0.876 / 25.321 / 0.869\n",
      "INFO - saved /home/jorg/expers/sr/sunnybrook/conventional/linear/SC-N-07/SC-N-07_ni01.nii.gz\n",
      "SSIM / PSRN / VIF: 0.842 / 22.842 / 0.852\n",
      "INFO - saved /home/jorg/expers/sr/sunnybrook/conventional/linear/SC-HYP-09/SC-HYP-09_ni01.nii.gz\n",
      "SSIM / PSRN / VIF: 0.849 / 22.736 / 0.855\n",
      "INFO - saved /home/jorg/expers/sr/sunnybrook/conventional/linear/SC-N-10/SC-N-10_ni01.nii.gz\n",
      "SSIM / PSRN / VIF: 0.853 / 24.856 / 0.855\n",
      "INFO - saved /home/jorg/expers/sr/sunnybrook/conventional/linear/SC-HYP-08/SC-HYP-08_ni01.nii.gz\n",
      "SSIM / PSRN / VIF: 0.881 / 26.862 / 0.868\n",
      "INFO - saved /home/jorg/expers/sr/sunnybrook/conventional/linear/SC-N-11/SC-N-11_ni01.nii.gz\n",
      "SSIM / PSRN / VIF: 0.853 / 23.619 / 0.851\n",
      "INFO - saved /home/jorg/expers/sr/sunnybrook/conventional/linear/SC-HF-I-40/SC-HF-I-40_ni01.nii.gz\n",
      "SSIM / PSRN / VIF: 0.843 / 23.081 / 0.856\n",
      "INFO - saved /home/jorg/expers/sr/sunnybrook/conventional/linear/SC-HF-NI-12/SC-HF-NI-12_ni01.nii.gz\n",
      "SSIM / PSRN / VIF: 0.877 / 24.552 / 0.885\n",
      "INFO - saved /home/jorg/expers/sr/sunnybrook/conventional/linear/SC-HYP-11/SC-HYP-11_ni01.nii.gz\n",
      "SSIM / PSRN / VIF: 0.866 / 24.771 / 0.868\n",
      "INFO - saved /home/jorg/expers/sr/sunnybrook/conventional/linear/SC-N-40/SC-N-40_ni01.nii.gz\n",
      "SSIM / PSRN / VIF: 0.830 / 23.742 / 0.854\n",
      "INFO - saved /home/jorg/expers/sr/sunnybrook/conventional/linear/SC-HF-NI-33/SC-HF-NI-33_ni01.nii.gz\n",
      "SSIM / PSRN / VIF: 0.865 / 23.681 / 0.872\n",
      "INFO - saved /home/jorg/expers/sr/sunnybrook/conventional/linear/SC-HYP-38/SC-HYP-38_ni01.nii.gz\n",
      "SSIM / PSRN / VIF: 0.885 / 26.111 / 0.871\n",
      "Results - SSIM / PSRN / VIF / LPIPS: 0.850 (0.03) / 24.39 (2.02) / 0.862 (0.01) / 0.000 (0.00)\n",
      "INFO - evaluating on sunnybrook dataset for test volumes\n",
      "WARNING - Creating volumes with conventional interpolation method bspline - eval-patch-size 224 - expand factor 2 - downsample steps 2 \n",
      "INFO - saving output to /home/jorg/expers/sr/sunnybrook/conventional/bspline\n",
      "INFO - saved /home/jorg/expers/sr/sunnybrook/conventional/bspline/SC-HF-NI-04/SC-HF-NI-04_ni01.nii.gz\n",
      "SSIM / PSRN / VIF: 0.828 / 22.504 / 0.864\n",
      "INFO - saved /home/jorg/expers/sr/sunnybrook/conventional/bspline/SC-HYP-40/SC-HYP-40_ni01.nii.gz\n",
      "SSIM / PSRN / VIF: 0.846 / 24.117 / 0.865\n",
      "INFO - saved /home/jorg/expers/sr/sunnybrook/conventional/bspline/SC-HF-I-01/SC-HF-I-01_ni01.nii.gz\n",
      "SSIM / PSRN / VIF: 0.840 / 23.718 / 0.858\n",
      "INFO - saved /home/jorg/expers/sr/sunnybrook/conventional/bspline/SC-HF-NI-14/SC-HF-NI-14_ni01.nii.gz\n",
      "SSIM / PSRN / VIF: 0.873 / 24.791 / 0.876\n",
      "INFO - saved /home/jorg/expers/sr/sunnybrook/conventional/bspline/SC-HF-I-08/SC-HF-I-08_ni01.nii.gz\n",
      "SSIM / PSRN / VIF: 0.861 / 23.640 / 0.868\n",
      "INFO - saved /home/jorg/expers/sr/sunnybrook/conventional/bspline/SC-HYP-07/SC-HYP-07_ni01.nii.gz\n",
      "SSIM / PSRN / VIF: 0.876 / 26.306 / 0.870\n",
      "INFO - saved /home/jorg/expers/sr/sunnybrook/conventional/bspline/SC-HF-NI-34/SC-HF-NI-34_ni01.nii.gz\n",
      "SSIM / PSRN / VIF: 0.862 / 25.789 / 0.865\n",
      "INFO - saved /home/jorg/expers/sr/sunnybrook/conventional/bspline/SC-HF-NI-13/SC-HF-NI-13_ni01.nii.gz\n",
      "SSIM / PSRN / VIF: 0.907 / 27.355 / 0.866\n",
      "INFO - saved /home/jorg/expers/sr/sunnybrook/conventional/bspline/SC-HF-NI-03/SC-HF-NI-03_ni01.nii.gz\n",
      "SSIM / PSRN / VIF: 0.799 / 21.464 / 0.854\n"
     ]
    },
    {
     "name": "stdout",
     "output_type": "stream",
     "text": [
      "INFO - saved /home/jorg/expers/sr/sunnybrook/conventional/bspline/SC-HF-I-09/SC-HF-I-09_ni01.nii.gz\n",
      "SSIM / PSRN / VIF: 0.806 / 22.068 / 0.868\n",
      "INFO - saved /home/jorg/expers/sr/sunnybrook/conventional/bspline/SC-HF-I-11/SC-HF-I-11_ni01.nii.gz\n",
      "SSIM / PSRN / VIF: 0.808 / 21.340 / 0.862\n",
      "INFO - saved /home/jorg/expers/sr/sunnybrook/conventional/bspline/SC-HF-I-07/SC-HF-I-07_ni01.nii.gz\n",
      "SSIM / PSRN / VIF: 0.854 / 24.406 / 0.847\n",
      "INFO - saved /home/jorg/expers/sr/sunnybrook/conventional/bspline/SC-HYP-06/SC-HYP-06_ni01.nii.gz\n",
      "SSIM / PSRN / VIF: 0.898 / 30.600 / 0.868\n",
      "INFO - saved /home/jorg/expers/sr/sunnybrook/conventional/bspline/SC-HYP-37/SC-HYP-37_ni01.nii.gz\n",
      "SSIM / PSRN / VIF: 0.858 / 25.834 / 0.858\n",
      "INFO - saved /home/jorg/expers/sr/sunnybrook/conventional/bspline/SC-HF-I-04/SC-HF-I-04_ni01.nii.gz\n",
      "SSIM / PSRN / VIF: 0.841 / 22.591 / 0.865\n",
      "INFO - saved /home/jorg/expers/sr/sunnybrook/conventional/bspline/SC-HF-I-10/SC-HF-I-10_ni01.nii.gz\n",
      "SSIM / PSRN / VIF: 0.824 / 21.970 / 0.863\n",
      "INFO - saved /home/jorg/expers/sr/sunnybrook/conventional/bspline/SC-N-02/SC-N-02_ni01.nii.gz\n",
      "SSIM / PSRN / VIF: 0.820 / 22.880 / 0.860\n",
      "INFO - saved /home/jorg/expers/sr/sunnybrook/conventional/bspline/SC-N-09/SC-N-09_ni01.nii.gz\n",
      "SSIM / PSRN / VIF: 0.805 / 22.940 / 0.850\n",
      "INFO - saved /home/jorg/expers/sr/sunnybrook/conventional/bspline/SC-HF-I-05/SC-HF-I-05_ni01.nii.gz\n",
      "SSIM / PSRN / VIF: 0.847 / 23.676 / 0.865\n",
      "INFO - saved /home/jorg/expers/sr/sunnybrook/conventional/bspline/SC-N-03/SC-N-03_ni01.nii.gz\n",
      "SSIM / PSRN / VIF: 0.896 / 26.744 / 0.885\n",
      "INFO - saved /home/jorg/expers/sr/sunnybrook/conventional/bspline/SC-HYP-03/SC-HYP-03_ni01.nii.gz\n",
      "SSIM / PSRN / VIF: 0.784 / 20.938 / 0.836\n",
      "INFO - saved /home/jorg/expers/sr/sunnybrook/conventional/bspline/SC-HF-NI-31/SC-HF-NI-31_ni01.nii.gz\n",
      "SSIM / PSRN / VIF: 0.858 / 24.830 / 0.863\n",
      "INFO - saved /home/jorg/expers/sr/sunnybrook/conventional/bspline/SC-HF-I-12/SC-HF-I-12_ni01.nii.gz\n",
      "SSIM / PSRN / VIF: 0.843 / 23.494 / 0.857\n",
      "INFO - saved /home/jorg/expers/sr/sunnybrook/conventional/bspline/SC-N-06/SC-N-06_ni01.nii.gz\n",
      "SSIM / PSRN / VIF: 0.866 / 27.127 / 0.856\n",
      "INFO - saved /home/jorg/expers/sr/sunnybrook/conventional/bspline/SC-HYP-12/SC-HYP-12_ni01.nii.gz\n",
      "SSIM / PSRN / VIF: 0.874 / 26.197 / 0.856\n",
      "INFO - saved /home/jorg/expers/sr/sunnybrook/conventional/bspline/SC-HF-NI-07/SC-HF-NI-07_ni01.nii.gz\n",
      "SSIM / PSRN / VIF: 0.822 / 22.076 / 0.854\n",
      "INFO - saved /home/jorg/expers/sr/sunnybrook/conventional/bspline/SC-N-05/SC-N-05_ni01.nii.gz\n",
      "SSIM / PSRN / VIF: 0.869 / 26.059 / 0.870\n",
      "INFO - saved /home/jorg/expers/sr/sunnybrook/conventional/bspline/SC-HF-NI-36/SC-HF-NI-36_ni01.nii.gz\n",
      "SSIM / PSRN / VIF: 0.791 / 20.634 / 0.857\n",
      "INFO - saved /home/jorg/expers/sr/sunnybrook/conventional/bspline/SC-HF-I-02/SC-HF-I-02_ni01.nii.gz\n",
      "SSIM / PSRN / VIF: 0.854 / 22.670 / 0.857\n",
      "INFO - saved /home/jorg/expers/sr/sunnybrook/conventional/bspline/SC-HYP-10/SC-HYP-10_ni01.nii.gz\n",
      "SSIM / PSRN / VIF: 0.883 / 26.617 / 0.886\n",
      "INFO - saved /home/jorg/expers/sr/sunnybrook/conventional/bspline/SC-HYP-01/SC-HYP-01_ni01.nii.gz\n",
      "SSIM / PSRN / VIF: 0.863 / 24.451 / 0.859\n",
      "INFO - saved /home/jorg/expers/sr/sunnybrook/conventional/bspline/SC-HF-I-06/SC-HF-I-06_ni01.nii.gz\n",
      "SSIM / PSRN / VIF: 0.793 / 21.024 / 0.859\n",
      "INFO - saved /home/jorg/expers/sr/sunnybrook/conventional/bspline/SC-HF-NI-15/SC-HF-NI-15_ni01.nii.gz\n",
      "SSIM / PSRN / VIF: 0.909 / 25.785 / 0.850\n",
      "INFO - saved /home/jorg/expers/sr/sunnybrook/conventional/bspline/SC-HF-NI-11/SC-HF-NI-11_ni01.nii.gz\n",
      "SSIM / PSRN / VIF: 0.874 / 25.048 / 0.869\n",
      "INFO - saved /home/jorg/expers/sr/sunnybrook/conventional/bspline/SC-N-07/SC-N-07_ni01.nii.gz\n",
      "SSIM / PSRN / VIF: 0.840 / 22.499 / 0.850\n",
      "INFO - saved /home/jorg/expers/sr/sunnybrook/conventional/bspline/SC-HYP-09/SC-HYP-09_ni01.nii.gz\n",
      "SSIM / PSRN / VIF: 0.849 / 22.463 / 0.854\n",
      "INFO - saved /home/jorg/expers/sr/sunnybrook/conventional/bspline/SC-N-10/SC-N-10_ni01.nii.gz\n",
      "SSIM / PSRN / VIF: 0.853 / 24.528 / 0.854\n",
      "INFO - saved /home/jorg/expers/sr/sunnybrook/conventional/bspline/SC-HYP-08/SC-HYP-08_ni01.nii.gz\n",
      "SSIM / PSRN / VIF: 0.879 / 26.629 / 0.870\n",
      "INFO - saved /home/jorg/expers/sr/sunnybrook/conventional/bspline/SC-N-11/SC-N-11_ni01.nii.gz\n",
      "SSIM / PSRN / VIF: 0.849 / 23.304 / 0.854\n",
      "INFO - saved /home/jorg/expers/sr/sunnybrook/conventional/bspline/SC-HF-I-40/SC-HF-I-40_ni01.nii.gz\n",
      "SSIM / PSRN / VIF: 0.843 / 22.843 / 0.858\n",
      "INFO - saved /home/jorg/expers/sr/sunnybrook/conventional/bspline/SC-HF-NI-12/SC-HF-NI-12_ni01.nii.gz\n",
      "SSIM / PSRN / VIF: 0.875 / 24.250 / 0.886\n",
      "INFO - saved /home/jorg/expers/sr/sunnybrook/conventional/bspline/SC-HYP-11/SC-HYP-11_ni01.nii.gz\n",
      "SSIM / PSRN / VIF: 0.863 / 24.445 / 0.868\n",
      "INFO - saved /home/jorg/expers/sr/sunnybrook/conventional/bspline/SC-N-40/SC-N-40_ni01.nii.gz\n",
      "SSIM / PSRN / VIF: 0.828 / 23.497 / 0.856\n",
      "INFO - saved /home/jorg/expers/sr/sunnybrook/conventional/bspline/SC-HF-NI-33/SC-HF-NI-33_ni01.nii.gz\n",
      "SSIM / PSRN / VIF: 0.865 / 23.528 / 0.870\n",
      "INFO - saved /home/jorg/expers/sr/sunnybrook/conventional/bspline/SC-HYP-38/SC-HYP-38_ni01.nii.gz\n",
      "SSIM / PSRN / VIF: 0.884 / 26.055 / 0.871\n",
      "Results - SSIM / PSRN / VIF / LPIPS: 0.849 (0.03) / 24.09 (2.02) / 0.862 (0.01) / 0.000 (0.00)\n",
      "INFO - evaluating on sunnybrook dataset for test volumes\n",
      "WARNING - Creating volumes with conventional interpolation method lanczos - eval-patch-size 224 - expand factor 2 - downsample steps 2 \n",
      "INFO - saving output to /home/jorg/expers/sr/sunnybrook/conventional/lanczos\n",
      "INFO - saved /home/jorg/expers/sr/sunnybrook/conventional/lanczos/SC-HF-NI-04/SC-HF-NI-04_ni01.nii.gz\n",
      "SSIM / PSRN / VIF: 0.828 / 22.406 / 0.863\n",
      "INFO - saved /home/jorg/expers/sr/sunnybrook/conventional/lanczos/SC-HYP-40/SC-HYP-40_ni01.nii.gz\n",
      "SSIM / PSRN / VIF: 0.842 / 24.003 / 0.863\n",
      "INFO - saved /home/jorg/expers/sr/sunnybrook/conventional/lanczos/SC-HF-I-01/SC-HF-I-01_ni01.nii.gz\n",
      "SSIM / PSRN / VIF: 0.839 / 23.652 / 0.856\n",
      "INFO - saved /home/jorg/expers/sr/sunnybrook/conventional/lanczos/SC-HF-NI-14/SC-HF-NI-14_ni01.nii.gz\n",
      "SSIM / PSRN / VIF: 0.871 / 24.745 / 0.875\n",
      "INFO - saved /home/jorg/expers/sr/sunnybrook/conventional/lanczos/SC-HF-I-08/SC-HF-I-08_ni01.nii.gz\n",
      "SSIM / PSRN / VIF: 0.861 / 23.585 / 0.867\n",
      "INFO - saved /home/jorg/expers/sr/sunnybrook/conventional/lanczos/SC-HYP-07/SC-HYP-07_ni01.nii.gz\n",
      "SSIM / PSRN / VIF: 0.874 / 26.294 / 0.866\n",
      "INFO - saved /home/jorg/expers/sr/sunnybrook/conventional/lanczos/SC-HF-NI-34/SC-HF-NI-34_ni01.nii.gz\n",
      "SSIM / PSRN / VIF: 0.861 / 25.740 / 0.862\n",
      "INFO - saved /home/jorg/expers/sr/sunnybrook/conventional/lanczos/SC-HF-NI-13/SC-HF-NI-13_ni01.nii.gz\n",
      "SSIM / PSRN / VIF: 0.907 / 27.298 / 0.862\n",
      "INFO - saved /home/jorg/expers/sr/sunnybrook/conventional/lanczos/SC-HF-NI-03/SC-HF-NI-03_ni01.nii.gz\n",
      "SSIM / PSRN / VIF: 0.798 / 21.395 / 0.853\n",
      "INFO - saved /home/jorg/expers/sr/sunnybrook/conventional/lanczos/SC-HF-I-09/SC-HF-I-09_ni01.nii.gz\n",
      "SSIM / PSRN / VIF: 0.805 / 22.000 / 0.866\n",
      "INFO - saved /home/jorg/expers/sr/sunnybrook/conventional/lanczos/SC-HF-I-11/SC-HF-I-11_ni01.nii.gz\n",
      "SSIM / PSRN / VIF: 0.808 / 21.230 / 0.860\n",
      "INFO - saved /home/jorg/expers/sr/sunnybrook/conventional/lanczos/SC-HF-I-07/SC-HF-I-07_ni01.nii.gz\n",
      "SSIM / PSRN / VIF: 0.858 / 24.439 / 0.848\n",
      "INFO - saved /home/jorg/expers/sr/sunnybrook/conventional/lanczos/SC-HYP-06/SC-HYP-06_ni01.nii.gz\n",
      "SSIM / PSRN / VIF: 0.903 / 30.788 / 0.866\n",
      "INFO - saved /home/jorg/expers/sr/sunnybrook/conventional/lanczos/SC-HYP-37/SC-HYP-37_ni01.nii.gz\n",
      "SSIM / PSRN / VIF: 0.861 / 25.932 / 0.862\n",
      "INFO - saved /home/jorg/expers/sr/sunnybrook/conventional/lanczos/SC-HF-I-04/SC-HF-I-04_ni01.nii.gz\n",
      "SSIM / PSRN / VIF: 0.843 / 22.456 / 0.864\n",
      "INFO - saved /home/jorg/expers/sr/sunnybrook/conventional/lanczos/SC-HF-I-10/SC-HF-I-10_ni01.nii.gz\n",
      "SSIM / PSRN / VIF: 0.822 / 21.897 / 0.863\n",
      "INFO - saved /home/jorg/expers/sr/sunnybrook/conventional/lanczos/SC-N-02/SC-N-02_ni01.nii.gz\n",
      "SSIM / PSRN / VIF: 0.821 / 22.864 / 0.859\n",
      "INFO - saved /home/jorg/expers/sr/sunnybrook/conventional/lanczos/SC-N-09/SC-N-09_ni01.nii.gz\n",
      "SSIM / PSRN / VIF: 0.809 / 23.081 / 0.845\n",
      "INFO - saved /home/jorg/expers/sr/sunnybrook/conventional/lanczos/SC-HF-I-05/SC-HF-I-05_ni01.nii.gz\n",
      "SSIM / PSRN / VIF: 0.847 / 23.755 / 0.861\n",
      "INFO - saved /home/jorg/expers/sr/sunnybrook/conventional/lanczos/SC-N-03/SC-N-03_ni01.nii.gz\n",
      "SSIM / PSRN / VIF: 0.893 / 26.624 / 0.882\n"
     ]
    },
    {
     "name": "stdout",
     "output_type": "stream",
     "text": [
      "INFO - saved /home/jorg/expers/sr/sunnybrook/conventional/lanczos/SC-HYP-03/SC-HYP-03_ni01.nii.gz\n",
      "SSIM / PSRN / VIF: 0.790 / 21.023 / 0.837\n",
      "INFO - saved /home/jorg/expers/sr/sunnybrook/conventional/lanczos/SC-HF-NI-31/SC-HF-NI-31_ni01.nii.gz\n",
      "SSIM / PSRN / VIF: 0.855 / 24.718 / 0.859\n",
      "INFO - saved /home/jorg/expers/sr/sunnybrook/conventional/lanczos/SC-HF-I-12/SC-HF-I-12_ni01.nii.gz\n",
      "SSIM / PSRN / VIF: 0.842 / 23.372 / 0.856\n",
      "INFO - saved /home/jorg/expers/sr/sunnybrook/conventional/lanczos/SC-N-06/SC-N-06_ni01.nii.gz\n",
      "SSIM / PSRN / VIF: 0.869 / 27.218 / 0.857\n",
      "INFO - saved /home/jorg/expers/sr/sunnybrook/conventional/lanczos/SC-HYP-12/SC-HYP-12_ni01.nii.gz\n",
      "SSIM / PSRN / VIF: 0.875 / 26.165 / 0.855\n",
      "INFO - saved /home/jorg/expers/sr/sunnybrook/conventional/lanczos/SC-HF-NI-07/SC-HF-NI-07_ni01.nii.gz\n",
      "SSIM / PSRN / VIF: 0.819 / 21.983 / 0.853\n",
      "INFO - saved /home/jorg/expers/sr/sunnybrook/conventional/lanczos/SC-N-05/SC-N-05_ni01.nii.gz\n",
      "SSIM / PSRN / VIF: 0.875 / 26.174 / 0.867\n",
      "INFO - saved /home/jorg/expers/sr/sunnybrook/conventional/lanczos/SC-HF-NI-36/SC-HF-NI-36_ni01.nii.gz\n",
      "SSIM / PSRN / VIF: 0.787 / 20.546 / 0.855\n",
      "INFO - saved /home/jorg/expers/sr/sunnybrook/conventional/lanczos/SC-HF-I-02/SC-HF-I-02_ni01.nii.gz\n",
      "SSIM / PSRN / VIF: 0.852 / 22.670 / 0.854\n",
      "INFO - saved /home/jorg/expers/sr/sunnybrook/conventional/lanczos/SC-HYP-10/SC-HYP-10_ni01.nii.gz\n",
      "SSIM / PSRN / VIF: 0.886 / 26.658 / 0.884\n",
      "INFO - saved /home/jorg/expers/sr/sunnybrook/conventional/lanczos/SC-HYP-01/SC-HYP-01_ni01.nii.gz\n",
      "SSIM / PSRN / VIF: 0.868 / 24.578 / 0.856\n",
      "INFO - saved /home/jorg/expers/sr/sunnybrook/conventional/lanczos/SC-HF-I-06/SC-HF-I-06_ni01.nii.gz\n",
      "SSIM / PSRN / VIF: 0.791 / 20.875 / 0.859\n"
     ]
    }
   ],
   "source": [
    "\n",
    "interpol_filter = \"linear\"  #   bspline  lanczos, linear nearest\n",
    "downsample_steps = 2\n",
    "generate_inbetween_slices = True\n",
    "eval_patch_size = 224 # 224\n",
    "eval_axis = 1\n",
    "num_interpolations = 1\n",
    "expand_factor = 2\n",
    "save_volumes = True\n",
    "dataset = 'sunnybrook'   # 'ACDC'\n",
    "output_dir = '~/expers/sr/{}/conventional'.format(dataset)\n",
    "if not generate_inbetween_slices:\n",
    "    downsample_steps = None\n",
    "    expand_factor = 10\n",
    "    num_interpolations = expand_factor - 1\n",
    "    \n",
    "for interpol_filter in ['linear',  'bspline', 'lanczos']:\n",
    "    metrics_dict = create_acdc_volumes_conventional_interpolation(interpol_filter, \n",
    "                                                                 None, # pat_nums_test,  \n",
    "                                                              expand_factor=expand_factor,\n",
    "                                                   dataset_name=dataset,\n",
    "                                                   eval_patch_size=eval_patch_size, \n",
    "                                                    save_volumes=save_volumes, \n",
    "                                                   downsample_steps=downsample_steps,\n",
    "                                                   compute_percept_loss=False,\n",
    "                                                   use_original_slice=False, \n",
    "                                                   generate_inbetween_slices=generate_inbetween_slices,\n",
    "                                                   num_interpolations=num_interpolations,\n",
    "                                                   output_dir=output_dir, eval_axis=eval_axis)"
   ]
  },
  {
   "cell_type": "markdown",
   "metadata": {},
   "source": [
    "## Create SR volumes for subset Sunnybrook dataset"
   ]
  },
  {
   "cell_type": "code",
   "execution_count": 5,
   "metadata": {
    "scrolled": true
   },
   "outputs": [
    {
     "name": "stdout",
     "output_type": "stream",
     "text": [
      "INFO - evaluating on sunnybrook dataset for test volumes\n",
      "INFO - Initializing trainer AETrainerEndToEnd - using multiple gpus False\n",
      "Warning - Base Trainer - LPIPS on GPU-ID 0\n",
      "Warning - LPIPS weights [1.0, 1.0, 1.0, 1.0, 1.0] \n",
      "Loading model from: /home/jorg/repo/aesr/lpips/weights/v0.1/vgg.pth\n",
      "INFO - AETrainerEndToEnd Loaded model parameters from /home/jorg/expers/sr/ACDC/ae_combined/mse_perc_p32_l128_aug180_w007_ex01/models/419.models\n",
      "WARNING WARNING - you are using VanillaACAI CAE class\n",
      "WARNING - sunnybrook - Current model-nbr >>> 419 <<< train patch-size/test patch-size 128/224\n",
      "{'ae_class': 'VanillaACAI', 'alpha_class': None, 'alpha_dims': None, 'alpha_loss_func': None, 'aug_patch_size': 180, 'batch_size': 12, 'colors': 1, 'comment': None, 'dataset': 'ACDC', 'depth': 32, 'device': 'cuda', 'dir_images': '/home/jorg/expers/sr/ACDC/ae_combined/mse_perc_p32_l128_aug180_w007_ex01/log_images', 'dir_models': '/home/jorg/expers/sr/ACDC/ae_combined/mse_perc_p32_l128_aug180_w007_ex01/models', 'downsample_steps': 2, 'epochs': 1100, 'ex_loss_weight1': 0.07, 'exper_id': 'mse_perc_p32_l128_aug180_w007_ex01', 'fine_tune': False, 'get_masks': False, 'gpu_ids': [0], 'image_mix_loss_func': 'perceptual', 'latent': 128, 'latent_width': 32, 'limited_load': False, 'lr': 1e-05, 'max_grad_norm': 0, 'model': 'ae_combined', 'model_filename': None, 'module_network_path': 'networks/acai_vanilla.py', 'module_trainer_path': 'utils/cardiac/trainer_ae.py', 'n_res_block': None, 'num_it_per_epoch': 1448, 'number_of_workers': 2, 'output_dir': '/home/jorg/expers/sr/ACDC/ae_combined/mse_perc_p32_l128_aug180_w007_ex01', 'port': 8030, 'seed': 892372, 'slice_selection': 'adjacent_plus', 'test_batch_size': 16, 'trainer_class': 'AETrainerEndToEnd', 'use_alpha_probe': False, 'use_batchnorm': True, 'use_extra_latent_loss': False, 'use_laploss': False, 'use_loss_annealing': False, 'use_percept_loss': False, 'use_sigmoid': True, 'use_ssim_loss': False, 'validate_every': 500, 'weight_decay': 0.0, 'width': 128}\n",
      "INFO - saving output to /home/jorg/expers/sr/ACDC/ae_combined/mse_perc_p32_l128_aug180_w007_ex01/sunnybrook/images_sr_ip\n",
      "Create hr images - resampled IMAGE - original/new spacing  (8, 1.25, 1.25) [8.   1.25 1.25]\n",
      "INFO - saved /home/jorg/expers/sr/ACDC/ae_combined/mse_perc_p32_l128_aug180_w007_ex01/sunnybrook/images_sr_ip/SC-HF-I-06/SC-HF-I-06_ni01.nii.gz\n",
      "SSIM / PSRN / VIF: 0.859 / 23.427 / 0.866\n",
      "Create hr images - resampled IMAGE - original/new spacing  (8, 1.25, 1.25) [8.   1.25 1.25]\n",
      "INFO - saved /home/jorg/expers/sr/ACDC/ae_combined/mse_perc_p32_l128_aug180_w007_ex01/sunnybrook/images_sr_ip/SC-N-02/SC-N-02_ni01.nii.gz\n",
      "SSIM / PSRN / VIF: 0.872 / 25.366 / 0.868\n",
      "Create hr images - resampled IMAGE - original/new spacing  (8, 1.25, 1.25) [8.   1.25 1.25]\n",
      "INFO - saved /home/jorg/expers/sr/ACDC/ae_combined/mse_perc_p32_l128_aug180_w007_ex01/sunnybrook/images_sr_ip/SC-N-40/SC-N-40_ni01.nii.gz\n",
      "SSIM / PSRN / VIF: 0.860 / 25.404 / 0.865\n",
      "Create hr images - resampled IMAGE - original/new spacing  (8, 1.25, 1.25) [8.   1.25 1.25]\n",
      "INFO - saved /home/jorg/expers/sr/ACDC/ae_combined/mse_perc_p32_l128_aug180_w007_ex01/sunnybrook/images_sr_ip/SC-HF-NI-12/SC-HF-NI-12_ni01.nii.gz\n",
      "SSIM / PSRN / VIF: 0.919 / 27.771 / 0.899\n",
      "Create hr images - resampled IMAGE - original/new spacing  (8, 1.25, 1.25) [8.   1.25 1.25]\n",
      "INFO - saved /home/jorg/expers/sr/ACDC/ae_combined/mse_perc_p32_l128_aug180_w007_ex01/sunnybrook/images_sr_ip/SC-HF-NI-07/SC-HF-NI-07_ni01.nii.gz\n",
      "SSIM / PSRN / VIF: 0.875 / 24.499 / 0.859\n",
      "Create hr images - resampled IMAGE - original/new spacing  (8, 1.25, 1.25) [8.   1.25 1.25]\n",
      "INFO - saved /home/jorg/expers/sr/ACDC/ae_combined/mse_perc_p32_l128_aug180_w007_ex01/sunnybrook/images_sr_ip/SC-HF-I-07/SC-HF-I-07_ni01.nii.gz\n",
      "SSIM / PSRN / VIF: 0.891 / 26.762 / 0.861\n",
      "Create hr images - resampled IMAGE - original/new spacing  (8, 1.25, 1.25) [8.   1.25 1.25]\n",
      "INFO - saved /home/jorg/expers/sr/ACDC/ae_combined/mse_perc_p32_l128_aug180_w007_ex01/sunnybrook/images_sr_ip/SC-HF-I-01/SC-HF-I-01_ni01.nii.gz\n",
      "SSIM / PSRN / VIF: 0.872 / 25.353 / 0.866\n",
      "Create hr images - resampled IMAGE - original/new spacing  (8, 1.25, 1.25) [8.   1.25 1.25]\n",
      "INFO - saved /home/jorg/expers/sr/ACDC/ae_combined/mse_perc_p32_l128_aug180_w007_ex01/sunnybrook/images_sr_ip/SC-HYP-01/SC-HYP-01_ni01.nii.gz\n",
      "SSIM / PSRN / VIF: 0.887 / 26.399 / 0.870\n",
      "Create hr images - resampled IMAGE - original/new spacing  (8, 1.25, 1.25) [8.   1.25 1.25]\n",
      "INFO - saved /home/jorg/expers/sr/ACDC/ae_combined/mse_perc_p32_l128_aug180_w007_ex01/sunnybrook/images_sr_ip/SC-HF-I-04/SC-HF-I-04_ni01.nii.gz\n",
      "SSIM / PSRN / VIF: 0.891 / 25.018 / 0.869\n",
      "Create hr images - resampled IMAGE - original/new spacing  (8, 1.25, 1.25) [8.   1.25 1.25]\n",
      "INFO - saved /home/jorg/expers/sr/ACDC/ae_combined/mse_perc_p32_l128_aug180_w007_ex01/sunnybrook/images_sr_ip/SC-HF-I-02/SC-HF-I-02_ni01.nii.gz\n",
      "SSIM / PSRN / VIF: 0.878 / 24.933 / 0.868\n",
      "Create hr images - resampled IMAGE - original/new spacing  (8, 1.25, 1.25) [8.   1.25 1.25]\n",
      "INFO - saved /home/jorg/expers/sr/ACDC/ae_combined/mse_perc_p32_l128_aug180_w007_ex01/sunnybrook/images_sr_ip/SC-HYP-37/SC-HYP-37_ni01.nii.gz\n",
      "SSIM / PSRN / VIF: 0.874 / 25.722 / 0.880\n",
      "Create hr images - resampled IMAGE - original/new spacing  (8, 1.25, 1.25) [8.   1.25 1.25]\n",
      "INFO - saved /home/jorg/expers/sr/ACDC/ae_combined/mse_perc_p32_l128_aug180_w007_ex01/sunnybrook/images_sr_ip/SC-N-03/SC-N-03_ni01.nii.gz\n",
      "SSIM / PSRN / VIF: 0.891 / 28.020 / 0.898\n",
      "Create hr images - resampled IMAGE - original/new spacing  (8, 1.25, 1.25) [8.   1.25 1.25]\n",
      "INFO - saved /home/jorg/expers/sr/ACDC/ae_combined/mse_perc_p32_l128_aug180_w007_ex01/sunnybrook/images_sr_ip/SC-HYP-09/SC-HYP-09_ni01.nii.gz\n",
      "SSIM / PSRN / VIF: 0.881 / 24.701 / 0.871\n",
      "Create hr images - resampled IMAGE - original/new spacing  (8, 1.25, 1.25) [8.   1.25 1.25]\n",
      "INFO - saved /home/jorg/expers/sr/ACDC/ae_combined/mse_perc_p32_l128_aug180_w007_ex01/sunnybrook/images_sr_ip/SC-HF-I-11/SC-HF-I-11_ni01.nii.gz\n",
      "SSIM / PSRN / VIF: 0.891 / 25.668 / 0.860\n",
      "Create hr images - resampled IMAGE - original/new spacing  (8, 1.25, 1.25) [8.   1.25 1.25]\n",
      "INFO - saved /home/jorg/expers/sr/ACDC/ae_combined/mse_perc_p32_l128_aug180_w007_ex01/sunnybrook/images_sr_ip/SC-HYP-11/SC-HYP-11_ni01.nii.gz\n",
      "SSIM / PSRN / VIF: 0.888 / 26.929 / 0.889\n",
      "Create hr images - resampled IMAGE - original/new spacing  (8, 1.25, 1.25) [8.   1.25 1.25]\n",
      "INFO - saved /home/jorg/expers/sr/ACDC/ae_combined/mse_perc_p32_l128_aug180_w007_ex01/sunnybrook/images_sr_ip/SC-HF-NI-13/SC-HF-NI-13_ni01.nii.gz\n",
      "SSIM / PSRN / VIF: 0.903 / 28.474 / 0.887\n",
      "Create hr images - resampled IMAGE - original/new spacing  (8, 1.25, 1.25) [8.   1.25 1.25]\n",
      "INFO - saved /home/jorg/expers/sr/ACDC/ae_combined/mse_perc_p32_l128_aug180_w007_ex01/sunnybrook/images_sr_ip/SC-N-06/SC-N-06_ni01.nii.gz\n",
      "SSIM / PSRN / VIF: 0.890 / 28.867 / 0.873\n",
      "Create hr images - resampled IMAGE - original/new spacing  (8, 1.25, 1.25) [8.   1.25 1.25]\n",
      "INFO - saved /home/jorg/expers/sr/ACDC/ae_combined/mse_perc_p32_l128_aug180_w007_ex01/sunnybrook/images_sr_ip/SC-HYP-06/SC-HYP-06_ni01.nii.gz\n",
      "SSIM / PSRN / VIF: 0.904 / 31.009 / 0.887\n",
      "Create hr images - resampled IMAGE - original/new spacing  (8, 1.25, 1.25) [8.   1.25 1.25]\n",
      "INFO - saved /home/jorg/expers/sr/ACDC/ae_combined/mse_perc_p32_l128_aug180_w007_ex01/sunnybrook/images_sr_ip/SC-HYP-08/SC-HYP-08_ni01.nii.gz\n",
      "SSIM / PSRN / VIF: 0.888 / 27.627 / 0.874\n",
      "Create hr images - resampled IMAGE - original/new spacing  (8, 1.25, 1.25) [8.   1.25 1.25]\n",
      "INFO - saved /home/jorg/expers/sr/ACDC/ae_combined/mse_perc_p32_l128_aug180_w007_ex01/sunnybrook/images_sr_ip/SC-HF-NI-03/SC-HF-NI-03_ni01.nii.gz\n",
      "SSIM / PSRN / VIF: 0.873 / 25.165 / 0.860\n",
      "Create hr images - resampled IMAGE - original/new spacing  (8, 1.25, 1.25) [8.   1.25 1.25]\n",
      "INFO - saved /home/jorg/expers/sr/ACDC/ae_combined/mse_perc_p32_l128_aug180_w007_ex01/sunnybrook/images_sr_ip/SC-HF-I-12/SC-HF-I-12_ni01.nii.gz\n",
      "SSIM / PSRN / VIF: 0.887 / 25.966 / 0.868\n",
      "Create hr images - resampled IMAGE - original/new spacing  (8, 1.25, 1.25) [8.   1.25 1.25]\n",
      "INFO - saved /home/jorg/expers/sr/ACDC/ae_combined/mse_perc_p32_l128_aug180_w007_ex01/sunnybrook/images_sr_ip/SC-HF-NI-36/SC-HF-NI-36_ni01.nii.gz\n",
      "SSIM / PSRN / VIF: 0.840 / 22.481 / 0.869\n"
     ]
    },
    {
     "name": "stdout",
     "output_type": "stream",
     "text": [
      "Create hr images - resampled IMAGE - original/new spacing  (8, 1.25, 1.25) [8.   1.25 1.25]\n",
      "INFO - saved /home/jorg/expers/sr/ACDC/ae_combined/mse_perc_p32_l128_aug180_w007_ex01/sunnybrook/images_sr_ip/SC-HF-I-10/SC-HF-I-10_ni01.nii.gz\n",
      "SSIM / PSRN / VIF: 0.886 / 25.075 / 0.859\n",
      "Create hr images - resampled IMAGE - original/new spacing  (8, 1.25, 1.25) [8.   1.25 1.25]\n",
      "INFO - saved /home/jorg/expers/sr/ACDC/ae_combined/mse_perc_p32_l128_aug180_w007_ex01/sunnybrook/images_sr_ip/SC-N-05/SC-N-05_ni01.nii.gz\n",
      "SSIM / PSRN / VIF: 0.912 / 29.329 / 0.888\n",
      "Create hr images - resampled IMAGE - original/new spacing  (8, 1.25, 1.25) [8.   1.25 1.25]\n",
      "INFO - saved /home/jorg/expers/sr/ACDC/ae_combined/mse_perc_p32_l128_aug180_w007_ex01/sunnybrook/images_sr_ip/SC-HYP-03/SC-HYP-03_ni01.nii.gz\n",
      "SSIM / PSRN / VIF: 0.834 / 23.010 / 0.854\n",
      "Create hr images - resampled IMAGE - original/new spacing  (8, 1.25, 1.25) [8.   1.25 1.25]\n",
      "INFO - saved /home/jorg/expers/sr/ACDC/ae_combined/mse_perc_p32_l128_aug180_w007_ex01/sunnybrook/images_sr_ip/SC-HF-NI-04/SC-HF-NI-04_ni01.nii.gz\n",
      "SSIM / PSRN / VIF: 0.885 / 25.783 / 0.869\n",
      "Create hr images - resampled IMAGE - original/new spacing  (8, 1.25, 1.25) [8.   1.25 1.25]\n",
      "INFO - saved /home/jorg/expers/sr/ACDC/ae_combined/mse_perc_p32_l128_aug180_w007_ex01/sunnybrook/images_sr_ip/SC-HF-NI-14/SC-HF-NI-14_ni01.nii.gz\n",
      "SSIM / PSRN / VIF: 0.888 / 26.017 / 0.876\n",
      "Create hr images - resampled IMAGE - original/new spacing  (8, 1.25, 1.25) [8.   1.25 1.25]\n",
      "INFO - saved /home/jorg/expers/sr/ACDC/ae_combined/mse_perc_p32_l128_aug180_w007_ex01/sunnybrook/images_sr_ip/SC-HF-I-09/SC-HF-I-09_ni01.nii.gz\n",
      "SSIM / PSRN / VIF: 0.875 / 25.503 / 0.871\n",
      "Create hr images - resampled IMAGE - original/new spacing  (8, 1.25, 1.25) [8.   1.25 1.25]\n",
      "INFO - saved /home/jorg/expers/sr/ACDC/ae_combined/mse_perc_p32_l128_aug180_w007_ex01/sunnybrook/images_sr_ip/SC-HF-NI-33/SC-HF-NI-33_ni01.nii.gz\n",
      "SSIM / PSRN / VIF: 0.889 / 26.078 / 0.873\n",
      "Create hr images - resampled IMAGE - original/new spacing  (8, 1.25, 1.25) [8.   1.25 1.25]\n",
      "INFO - saved /home/jorg/expers/sr/ACDC/ae_combined/mse_perc_p32_l128_aug180_w007_ex01/sunnybrook/images_sr_ip/SC-N-11/SC-N-11_ni01.nii.gz\n",
      "SSIM / PSRN / VIF: 0.897 / 26.597 / 0.864\n",
      "Create hr images - resampled IMAGE - original/new spacing  (8, 1.25, 1.25) [8.   1.25 1.25]\n",
      "INFO - saved /home/jorg/expers/sr/ACDC/ae_combined/mse_perc_p32_l128_aug180_w007_ex01/sunnybrook/images_sr_ip/SC-HYP-12/SC-HYP-12_ni01.nii.gz\n",
      "SSIM / PSRN / VIF: 0.909 / 28.245 / 0.864\n",
      "Create hr images - resampled IMAGE - original/new spacing  (8, 1.25, 1.25) [8.   1.25 1.25]\n",
      "INFO - saved /home/jorg/expers/sr/ACDC/ae_combined/mse_perc_p32_l128_aug180_w007_ex01/sunnybrook/images_sr_ip/SC-N-10/SC-N-10_ni01.nii.gz\n",
      "SSIM / PSRN / VIF: 0.879 / 25.954 / 0.864\n",
      "Create hr images - resampled IMAGE - original/new spacing  (8, 1.25, 1.25) [8.   1.25 1.25]\n",
      "INFO - saved /home/jorg/expers/sr/ACDC/ae_combined/mse_perc_p32_l128_aug180_w007_ex01/sunnybrook/images_sr_ip/SC-HF-NI-15/SC-HF-NI-15_ni01.nii.gz\n",
      "SSIM / PSRN / VIF: 0.899 / 26.280 / 0.861\n",
      "Create hr images - resampled IMAGE - original/new spacing  (8, 1.25, 1.25) [8.   1.25 1.25]\n",
      "INFO - saved /home/jorg/expers/sr/ACDC/ae_combined/mse_perc_p32_l128_aug180_w007_ex01/sunnybrook/images_sr_ip/SC-HYP-10/SC-HYP-10_ni01.nii.gz\n",
      "SSIM / PSRN / VIF: 0.922 / 30.740 / 0.902\n",
      "Create hr images - resampled IMAGE - original/new spacing  (8, 1.25, 1.25) [8.   1.25 1.25]\n",
      "INFO - saved /home/jorg/expers/sr/ACDC/ae_combined/mse_perc_p32_l128_aug180_w007_ex01/sunnybrook/images_sr_ip/SC-N-09/SC-N-09_ni01.nii.gz\n",
      "SSIM / PSRN / VIF: 0.842 / 24.054 / 0.848\n",
      "Create hr images - resampled IMAGE - original/new spacing  (8, 1.25, 1.25) [8.   1.25 1.25]\n",
      "INFO - saved /home/jorg/expers/sr/ACDC/ae_combined/mse_perc_p32_l128_aug180_w007_ex01/sunnybrook/images_sr_ip/SC-HYP-07/SC-HYP-07_ni01.nii.gz\n",
      "SSIM / PSRN / VIF: 0.896 / 28.329 / 0.892\n",
      "Create hr images - resampled IMAGE - original/new spacing  (8, 1.25, 1.25) [8.   1.25 1.25]\n",
      "INFO - saved /home/jorg/expers/sr/ACDC/ae_combined/mse_perc_p32_l128_aug180_w007_ex01/sunnybrook/images_sr_ip/SC-HYP-40/SC-HYP-40_ni01.nii.gz\n",
      "SSIM / PSRN / VIF: 0.882 / 25.993 / 0.874\n",
      "Create hr images - resampled IMAGE - original/new spacing  (8, 1.25, 1.25) [8.   1.25 1.25]\n",
      "INFO - saved /home/jorg/expers/sr/ACDC/ae_combined/mse_perc_p32_l128_aug180_w007_ex01/sunnybrook/images_sr_ip/SC-HF-NI-34/SC-HF-NI-34_ni01.nii.gz\n",
      "SSIM / PSRN / VIF: 0.873 / 26.616 / 0.868\n",
      "Create hr images - resampled IMAGE - original/new spacing  (8, 1.25, 1.25) [8.   1.25 1.25]\n",
      "INFO - saved /home/jorg/expers/sr/ACDC/ae_combined/mse_perc_p32_l128_aug180_w007_ex01/sunnybrook/images_sr_ip/SC-HYP-38/SC-HYP-38_ni01.nii.gz\n",
      "SSIM / PSRN / VIF: 0.907 / 28.576 / 0.873\n",
      "Create hr images - resampled IMAGE - original/new spacing  (8, 1.25, 1.25) [8.   1.25 1.25]\n",
      "INFO - saved /home/jorg/expers/sr/ACDC/ae_combined/mse_perc_p32_l128_aug180_w007_ex01/sunnybrook/images_sr_ip/SC-HF-NI-31/SC-HF-NI-31_ni01.nii.gz\n",
      "SSIM / PSRN / VIF: 0.879 / 26.550 / 0.872\n",
      "Create hr images - resampled IMAGE - original/new spacing  (8, 1.25, 1.25) [8.   1.25 1.25]\n",
      "INFO - saved /home/jorg/expers/sr/ACDC/ae_combined/mse_perc_p32_l128_aug180_w007_ex01/sunnybrook/images_sr_ip/SC-HF-I-08/SC-HF-I-08_ni01.nii.gz\n",
      "SSIM / PSRN / VIF: 0.908 / 27.057 / 0.877\n",
      "Create hr images - resampled IMAGE - original/new spacing  (8, 1.25, 1.25) [8.   1.25 1.25]\n",
      "INFO - saved /home/jorg/expers/sr/ACDC/ae_combined/mse_perc_p32_l128_aug180_w007_ex01/sunnybrook/images_sr_ip/SC-HF-NI-11/SC-HF-NI-11_ni01.nii.gz\n",
      "SSIM / PSRN / VIF: 0.898 / 27.408 / 0.882\n",
      "Create hr images - resampled IMAGE - original/new spacing  (8, 1.25, 1.25) [8.   1.25 1.25]\n",
      "INFO - saved /home/jorg/expers/sr/ACDC/ae_combined/mse_perc_p32_l128_aug180_w007_ex01/sunnybrook/images_sr_ip/SC-HF-I-05/SC-HF-I-05_ni01.nii.gz\n",
      "SSIM / PSRN / VIF: 0.894 / 26.817 / 0.871\n",
      "Create hr images - resampled IMAGE - original/new spacing  (8, 1.25, 1.25) [8.   1.25 1.25]\n",
      "INFO - saved /home/jorg/expers/sr/ACDC/ae_combined/mse_perc_p32_l128_aug180_w007_ex01/sunnybrook/images_sr_ip/SC-HF-I-40/SC-HF-I-40_ni01.nii.gz\n",
      "SSIM / PSRN / VIF: 0.899 / 26.205 / 0.860\n",
      "Create hr images - resampled IMAGE - original/new spacing  (8, 1.25, 1.25) [8.   1.25 1.25]\n",
      "INFO - saved /home/jorg/expers/sr/ACDC/ae_combined/mse_perc_p32_l128_aug180_w007_ex01/sunnybrook/images_sr_ip/SC-N-07/SC-N-07_ni01.nii.gz\n",
      "SSIM / PSRN / VIF: 0.868 / 24.414 / 0.858\n",
      "Total - SSIM / PSRN / VIF / LPIPS: 0.884 (0.02) / 26.34 (1.78) / 0.872 (0.01) / 0.000 (0.00)\n"
     ]
    }
   ],
   "source": [
    "model_nbr = 419 # 777  #\n",
    "model_nbr_sr =  None\n",
    "# mse_baseline_p32_l128_ex01 (885)  mse_perc_p16_l128_w007_ex01 (862)\n",
    "exper_src_path = \"~/expers/sr/ACDC/ae_combined/mse_perc_p32_l128_aug180_w007_ex01\"\n",
    "output_dir = \"/home/jorg/expers/sr/ACDC/ae_combined/mse_perc_p32_l128_aug180_w007_ex01/sunnybrook\"\n",
    "do_save = True\n",
    "do_resample = True\n",
    "eval_patch_size = 224  # 224  \n",
    "generate_inbetween_slices = True\n",
    "eval_axis = 1\n",
    "use_original_slice = False   \n",
    "downsample_steps = 2\n",
    "num_interpolations = downsample_steps - 1\n",
    "if not generate_inbetween_slices:\n",
    "    downsample_steps = None\n",
    "    num_interpolations = 6\n",
    "metrics_dict = create_acdc_volumes(exper_src_path, model_nbr, None, \n",
    "                                   dataset_name='sunnybrook',\n",
    "                                   eval_patch_size=eval_patch_size, save_volumes=do_save, \n",
    "                                   generate_inbetween_slices=generate_inbetween_slices,\n",
    "                                   downsample_steps=downsample_steps, \n",
    "                                   num_interpolations=num_interpolations,\n",
    "                                   compute_percept_loss=False, \n",
    "                                   use_original_slice=use_original_slice,\n",
    "                                  output_dir=output_dir, eval_axis=eval_axis,\n",
    "                                   resample=do_resample,\n",
    "                                  model_nbr_sr=model_nbr_sr)\n"
   ]
  },
  {
   "cell_type": "code",
   "execution_count": null,
   "metadata": {},
   "outputs": [],
   "source": [
    "Sunnybrook 45 patients/2 phases: patch-size 224^2 / 140^2\n",
    "AE\n",
    "Results - SSIM / PSRN / VIF / LPIPS: 0.893 (0.02) / 25.76 (1.98) / 0.871 (0.01) / 0.000 (0.00)\n",
    "Results - SSIM / PSRN / VIF / LPIPS: 0.855 (0.03) / 24.10 (2.44) / 0.870 (0.02) / 0.000 (0.00)\n",
    "CAISR\n",
    "Results - SSIM / PSRN / VIF / LPIPS: 0.866 (0.02) / 26.15 (1.78) / 0.871 (0.01) / 0.000 (0.00)\n",
    "Results - SSIM / PSRN / VIF / LPIPS: 0.865 (0.03) / 24.80 (2.33) / 0.860 (0.02) / 0.000 (0.00)\n",
    "Linear\n",
    "Results - SSIM / PSRN / VIF / LPIPS: 0.858 (0.03) / 23.86 (1.51) / 0.860 (0.01) / 0.000 (0.00)\n",
    "Results - SSIM / PSRN / VIF / LPIPS: 0.800 (0.04) / 22.59 (2.23) / 0.853 (0.01) / 0.000 (0.00)\n",
    "B-spline\n",
    "Results - SSIM / PSRN / VIF / LPIPS: 0.850 (0.03) / 25.16 (1.49) / 0.849 (0.01) / 0.000 (0.00)\n",
    "Results - SSIM / PSRN / VIF / LPIPS: 0.798 (0.04) / 22.36 (2.21) / 0.853 (0.01) / 0.000 (0.00)  \n",
    "Lanczos\n",
    "Results - SSIM / PSRN / VIF / LPIPS: 0.841 (0.04) / 24.67 (1.52) / 0.846 (0.01) / 0.000 (0.00)\n",
    "Results - SSIM / PSRN / VIF / LPIPS: 0.797 (0.04) / 22.22 (2.25) / 0.851 (0.01) / 0.000 (0.00)    "
   ]
  },
  {
   "cell_type": "markdown",
   "metadata": {},
   "source": [
    "## Create SR volumes for subset ARVC dataset"
   ]
  },
  {
   "cell_type": "code",
   "execution_count": 4,
   "metadata": {
    "scrolled": true
   },
   "outputs": [
    {
     "name": "stdout",
     "output_type": "stream",
     "text": [
      "INFO - evaluating on PIE dataset: /home/jorg/data/cardiac_pie/nifti/sax\n",
      "INFO - Initializing trainer AETrainerEndToEnd - using multiple gpus False\n",
      "Warning - LPIPS weights [1.0, 1.0, 1.0, 1.0, 1.0] \n",
      "Loading model from: /home/jorg/repo/aesr/lpips/weights/v0.1/vgg.pth\n",
      "INFO - AETrainerEndToEnd Loaded model parameters from /home/jorg/expers/sr/ACDC/ae_combined/mse_perc_p16_l128_w007_ex01/models/862.models\n",
      "WARNING WARNING - you are using VanillaACAI CAE class\n",
      "WARNING - PIE - Current model-nbr >>> 862 <<< train patch-size/test patch-size 64/224\n",
      "INFO - Using no TRANSFORM. Resample back to original spacing: False\n",
      "{'ae_class': 'VanillaACAI', 'alpha_class': None, 'alpha_dims': None, 'alpha_loss_func': None, 'aug_patch_size': 140, 'batch_size': 12, 'colors': 1, 'comment': None, 'dataset': 'ACDC', 'depth': 32, 'device': 'cuda', 'dir_images': '/home/jorg/expers/sr/ACDC/ae_combined/mse_perc_p16_l128_w007_ex01/log_images', 'dir_models': '/home/jorg/expers/sr/ACDC/ae_combined/mse_perc_p16_l128_w007_ex01/models', 'downsample_steps': 2, 'epochs': 900, 'ex_loss_weight1': 0.07, 'exper_id': 'mse_perc_p16_l128_w007_ex01', 'fine_tune': False, 'get_masks': False, 'gpu_ids': [0], 'image_mix_loss_func': 'perceptual', 'latent': 128, 'latent_width': 16, 'limited_load': False, 'lr': 1e-05, 'max_grad_norm': 0, 'model': 'ae_combined', 'model_filename': None, 'module_network_path': 'networks/acai_vanilla.py', 'module_trainer_path': 'utils/cardiac/trainer_ae.py', 'n_res_block': None, 'num_it_per_epoch': 1448, 'number_of_workers': 2, 'output_dir': '/home/jorg/expers/sr/ACDC/ae_combined/mse_perc_p16_l128_w007_ex01', 'port': 8030, 'seed': 892372, 'slice_selection': 'adjacent_plus', 'test_batch_size': 16, 'trainer_class': 'AETrainerEndToEnd', 'use_alpha_probe': False, 'use_batchnorm': True, 'use_extra_latent_loss': False, 'use_laploss': False, 'use_loss_annealing': False, 'use_percept_loss': False, 'use_sigmoid': True, 'use_ssim_loss': False, 'validate_every': 500, 'weight_decay': 0.0, 'width': 64}\n",
      "INFO - saving output to /home/jorg/expers/sr/ACDC/ae_combined/mse_perc_p16_l128_w007_ex01/PIE/ni07/images_sr_ip\n",
      "Create hr images - using spacing  [1.25   1.5625 1.5625] (24, 121, 256, 256)\n",
      "INFO - saved /home/jorg/expers/sr/ACDC/ae_combined/mse_perc_p16_l128_w007_ex01/PIE/ni07/images_sr_ip/00251/00251_ni07.nii.gz\n"
     ]
    }
   ],
   "source": [
    "model_nbr = 862 # 777  #\n",
    "model_nbr_sr =  None# 836\n",
    "exper_src_path = \"~/expers/sr/ACDC/ae_combined/mse_perc_p16_l128_w007_ex01\"\n",
    "output_dir = \"/home/jorg/expers/sr/ACDC/ae_combined/mse_perc_p16_l128_w007_ex01/PIE\"\n",
    "do_save = True\n",
    "dataset_name = 'PIE'\n",
    "resample = False\n",
    "# ADJUST !!   END   END\n",
    "eval_axis = 1\n",
    "eval_patch_size = 224  \n",
    "generate_inbetween_slices = False\n",
    "use_original_slice = False\n",
    "downsample_steps = 2\n",
    "num_interpolations = downsample_steps - 1\n",
    "if not generate_inbetween_slices:\n",
    "    downsample_steps = None\n",
    "    num_interpolations = 7\n",
    "    output_dir = output_dir + os.sep + \"ni0{}\".format(num_interpolations)\n",
    "metrics_dict = create_acdc_volumes(exper_src_path, model_nbr, None, \n",
    "                                   dataset_name=dataset_name,\n",
    "                                   eval_patch_size=eval_patch_size, save_volumes=do_save, \n",
    "                                   generate_inbetween_slices=generate_inbetween_slices,\n",
    "                                   downsample_steps=downsample_steps, \n",
    "                                   num_interpolations=num_interpolations,\n",
    "                                   compute_percept_loss=False, \n",
    "                                   use_original_slice=use_original_slice,\n",
    "                                  output_dir=output_dir, eval_axis=eval_axis,\n",
    "                                  model_nbr_sr=model_nbr_sr,\n",
    "                                  resample=resample)"
   ]
  },
  {
   "cell_type": "code",
   "execution_count": 14,
   "metadata": {},
   "outputs": [
    {
     "name": "stdout",
     "output_type": "stream",
     "text": [
      "/home/jorg/expers/sr/ACDC/ae_combined/mse_perc_p16_l128_w007_ex01/arvc/ni07/images_sr_ip/30010_0/30010_0_ni07_oslices.nii.gz\n",
      "(1.25, 1.25, 1.0, 1.0) (256, 256, 113, 30)\n"
     ]
    }
   ],
   "source": [
    "f = \"/home/jorg/expers/sr/ACDC/ae_combined/mse_perc_p16_l128_w007_ex01/arvc/ni07/images_sr_ip/30010_0/\"\n",
    "f += \"30010_0_ni07_oslices.nii.gz\"\n",
    "print(f)\n",
    "img = sitk.ReadImage(f)\n",
    "print(img.GetSpacing(), img.GetSize())\n"
   ]
  },
  {
   "cell_type": "code",
   "execution_count": 21,
   "metadata": {},
   "outputs": [
    {
     "name": "stdout",
     "output_type": "stream",
     "text": [
      "INFO - get_patient_ids_segmentation - Get split file from /home/jorg/repo/seg_uncertainty/datasets/ARVC/train_test_split_seg.yaml\n",
      "154\n"
     ]
    }
   ],
   "source": [
    "from datasets.ARVC.common import get_abs_filenames_segmentation\n",
    "\n",
    "arvc_pat_dict = get_abs_filenames_segmentation()\n",
    "print(len(arvc_pat_dict['test']))"
   ]
  },
  {
   "cell_type": "code",
   "execution_count": 4,
   "metadata": {},
   "outputs": [],
   "source": [
    "from utils.base_trainer import BaseTrainer, show_loss_curves\n",
    "\n",
    "path_to_exper = \"~/expers/sr/OASIS/ae_combined/mse_perc_p16_l128_3mm_w003_ex01\"\n",
    "iters, losses_train, losses_test = BaseTrainer.load_losses(path_to_exper)"
   ]
  },
  {
   "cell_type": "code",
   "execution_count": 5,
   "metadata": {},
   "outputs": [
    {
     "name": "stdout",
     "output_type": "stream",
     "text": [
      "last ae  [9.85918887e-05 9.86476880e-05 1.01360903e-04 1.32176865e-04\n",
      " 1.09518242e-04 9.33132687e-05 1.50882879e-04 9.94051879e-05\n",
      " 9.68414352e-05 1.11647350e-04]\n",
      "last ae-extra  [0.00222043 0.00225568 0.00225296 0.00225212 0.00222821 0.00221624\n",
      " 0.00221728 0.002228   0.00221642 0.00220746]\n",
      "best loss_ae_dist:  1121603 8.888091178960167e-05\n",
      "for extra : 1121603 0.0022311366628855467\n",
      "best extra:  1179600 0.0022074594162404537\n",
      "for loss_ae_dist:  1179600 0.00011164735042257234\n",
      "0.00013582969404524192 0.0025954744778573513\n"
     ]
    }
   ],
   "source": [
    "loss_key = \"loss_ae_dist\"\n",
    "\n",
    "idx_last = np.arange(len(iters) - 10, len(iters))\n",
    "print(\"last ae \", losses_test[loss_key][idx_last])\n",
    "print(\"last ae-extra \", losses_test['loss_ae_dist_extra'][idx_last])\n",
    "idx_min = np.argmin(losses_test[loss_key][1:]) + 1\n",
    "idx_min_ex = np.argmin(losses_test['loss_ae_dist_extra'][1:]) + 1\n",
    "min_range = np.arange(idx_min - 5, idx_min + 5)\n",
    "print(\"best {}: \".format(loss_key), iters[idx_min], losses_test[loss_key][idx_min])\n",
    "print(\"for extra :\", iters[idx_min], losses_test['loss_ae_dist_extra'][idx_min])\n",
    "print(\"best extra: \", iters[idx_min_ex], losses_test['loss_ae_dist_extra'][idx_min_ex])\n",
    "print(\"for {}: \".format(loss_key), iters[idx_min_ex], losses_test[loss_key][idx_min_ex])\n",
    "# print(\"around best \", losses_test[loss_key][min_range])\n",
    "# print(\"iters around best \", iters[min_range])\n",
    "print(losses_test[loss_key][777], losses_test['loss_ae_dist_extra'][838])"
   ]
  },
  {
   "cell_type": "code",
   "execution_count": 37,
   "metadata": {},
   "outputs": [
    {
     "name": "stdout",
     "output_type": "stream",
     "text": [
      "1.524297442334486\n",
      "1.4999999999999998\n"
     ]
    }
   ],
   "source": [
    "best loss_ae_dist:  1862500 2.2901176635059528e-05\n",
    "for extra : 1862500 7.16677459422499e-05\n",
    "best extra:  1886500 7.001564517850056e-05\n",
    "for loss_ae_dist:  1886500 2.697386298677884e-05\n",
    "4.9316724471282214e-05 9.185606904793531e-05"
   ]
  },
  {
   "cell_type": "code",
   "execution_count": 120,
   "metadata": {},
   "outputs": [
    {
     "name": "stdout",
     "output_type": "stream",
     "text": [
      "2792 dict_keys(['loss_ae_dist', 'loss_ae_extra', 'loss_ae_dist_extra', 'loss_ae', 'loss_latent_1'])\n"
     ]
    },
    {
     "data": {
      "image/png": "[encoded data removed]",
      "text/plain": [
       "<Figure size 720x720 with 3 Axes>"
      ]
     },
     "metadata": {
      "needs_background": "light"
     },
     "output_type": "display_data"
    }
   ],
   "source": [
    "print(len(iters), losses_train.keys())\n",
    "\n",
    "e_range = None # slice(len(iters) - 100, len(iters), None)\n",
    "show_loss_curves(iters, losses_train, losses_test, e_range)"
   ]
  },
  {
   "cell_type": "markdown",
   "metadata": {},
   "source": [
    "## Move files"
   ]
  },
  {
   "cell_type": "code",
   "execution_count": 9,
   "metadata": {},
   "outputs": [
    {
     "name": "stdout",
     "output_type": "stream",
     "text": [
      "Moving 157 files\n",
      "/home/jorg/expers/sr/ACDC/ae_combined/mse_perc_p16_l128_w007_ex01/arvc/ni07/images_sr_ip/90081_0/90081_0_ni07_oslices.nii.gz /home/jorg/data/ARVC/nifti/sax_sr/90081_0_ni07.nii.gz\n",
      "/home/jorg/expers/sr/ACDC/ae_combined/mse_perc_p16_l128_w007_ex01/arvc/ni07/images_sr_ip/NLUTR69_4_0/NLUTR69_4_0_ni07_oslices.nii.gz /home/jorg/data/ARVC/nifti/sax_sr/NLUTR69_4_0_ni07.nii.gz\n",
      "/home/jorg/expers/sr/ACDC/ae_combined/mse_perc_p16_l128_w007_ex01/arvc/ni07/images_sr_ip/NLGRO4_2_2/NLGRO4_2_2_ni07_oslices.nii.gz /home/jorg/data/ARVC/nifti/sax_sr/NLGRO4_2_2_ni07.nii.gz\n",
      "/home/jorg/expers/sr/ACDC/ae_combined/mse_perc_p16_l128_w007_ex01/arvc/ni07/images_sr_ip/NLUTR30_17_1/NLUTR30_17_1_ni07_oslices.nii.gz /home/jorg/data/ARVC/nifti/sax_sr/NLUTR30_17_1_ni07.nii.gz\n",
      "/home/jorg/expers/sr/ACDC/ae_combined/mse_perc_p16_l128_w007_ex01/arvc/ni07/images_sr_ip/NLUTR73_1_1/NLUTR73_1_1_ni07_oslices.nii.gz /home/jorg/data/ARVC/nifti/sax_sr/NLUTR73_1_1_ni07.nii.gz\n",
      "/home/jorg/expers/sr/ACDC/ae_combined/mse_perc_p16_l128_w007_ex01/arvc/ni07/images_sr_ip/NLUTR34_3_1/NLUTR34_3_1_ni07_oslices.nii.gz /home/jorg/data/ARVC/nifti/sax_sr/NLUTR34_3_1_ni07.nii.gz\n",
      "/home/jorg/expers/sr/ACDC/ae_combined/mse_perc_p16_l128_w007_ex01/arvc/ni07/images_sr_ip/NLUTR30_11_0/NLUTR30_11_0_ni07_oslices.nii.gz /home/jorg/data/ARVC/nifti/sax_sr/NLUTR30_11_0_ni07.nii.gz\n",
      "/home/jorg/expers/sr/ACDC/ae_combined/mse_perc_p16_l128_w007_ex01/arvc/ni07/images_sr_ip/30053_0/30053_0_ni07_oslices.nii.gz /home/jorg/data/ARVC/nifti/sax_sr/30053_0_ni07.nii.gz\n",
      "/home/jorg/expers/sr/ACDC/ae_combined/mse_perc_p16_l128_w007_ex01/arvc/ni07/images_sr_ip/90012_0/90012_0_ni07_oslices.nii.gz /home/jorg/data/ARVC/nifti/sax_sr/90012_0_ni07.nii.gz\n",
      "/home/jorg/expers/sr/ACDC/ae_combined/mse_perc_p16_l128_w007_ex01/arvc/ni07/images_sr_ip/NLUTR69_6_0/NLUTR69_6_0_ni07_oslices.nii.gz /home/jorg/data/ARVC/nifti/sax_sr/NLUTR69_6_0_ni07.nii.gz\n",
      "/home/jorg/expers/sr/ACDC/ae_combined/mse_perc_p16_l128_w007_ex01/arvc/ni07/images_sr_ip/30143_0/30143_0_ni07_oslices.nii.gz /home/jorg/data/ARVC/nifti/sax_sr/30143_0_ni07.nii.gz\n",
      "/home/jorg/expers/sr/ACDC/ae_combined/mse_perc_p16_l128_w007_ex01/arvc/ni07/images_sr_ip/NLUTR6_23_2/NLUTR6_23_2_ni07_oslices.nii.gz /home/jorg/data/ARVC/nifti/sax_sr/NLUTR6_23_2_ni07.nii.gz\n",
      "/home/jorg/expers/sr/ACDC/ae_combined/mse_perc_p16_l128_w007_ex01/arvc/ni07/images_sr_ip/90076_0/90076_0_ni07_oslices.nii.gz /home/jorg/data/ARVC/nifti/sax_sr/90076_0_ni07.nii.gz\n",
      "/home/jorg/expers/sr/ACDC/ae_combined/mse_perc_p16_l128_w007_ex01/arvc/ni07/images_sr_ip/90017_0/90017_0_ni07_oslices.nii.gz /home/jorg/data/ARVC/nifti/sax_sr/90017_0_ni07.nii.gz\n",
      "/home/jorg/expers/sr/ACDC/ae_combined/mse_perc_p16_l128_w007_ex01/arvc/ni07/images_sr_ip/NLUTR32_6_1/NLUTR32_6_1_ni07_oslices.nii.gz /home/jorg/data/ARVC/nifti/sax_sr/NLUTR32_6_1_ni07.nii.gz\n",
      "/home/jorg/expers/sr/ACDC/ae_combined/mse_perc_p16_l128_w007_ex01/arvc/ni07/images_sr_ip/NLUTR42_2_1/NLUTR42_2_1_ni07_oslices.nii.gz /home/jorg/data/ARVC/nifti/sax_sr/NLUTR42_2_1_ni07.nii.gz\n",
      "/home/jorg/expers/sr/ACDC/ae_combined/mse_perc_p16_l128_w007_ex01/arvc/ni07/images_sr_ip/90077_0/90077_0_ni07_oslices.nii.gz /home/jorg/data/ARVC/nifti/sax_sr/90077_0_ni07.nii.gz\n",
      "/home/jorg/expers/sr/ACDC/ae_combined/mse_perc_p16_l128_w007_ex01/arvc/ni07/images_sr_ip/NLUTR47_3_1/NLUTR47_3_1_ni07_oslices.nii.gz /home/jorg/data/ARVC/nifti/sax_sr/NLUTR47_3_1_ni07.nii.gz\n",
      "/home/jorg/expers/sr/ACDC/ae_combined/mse_perc_p16_l128_w007_ex01/arvc/ni07/images_sr_ip/NLUTR69_5_0/NLUTR69_5_0_ni07_oslices.nii.gz /home/jorg/data/ARVC/nifti/sax_sr/NLUTR69_5_0_ni07.nii.gz\n",
      "/home/jorg/expers/sr/ACDC/ae_combined/mse_perc_p16_l128_w007_ex01/arvc/ni07/images_sr_ip/MRI0406_0/MRI0406_0_ni07_oslices.nii.gz /home/jorg/data/ARVC/nifti/sax_sr/MRI0406_0_ni07.nii.gz\n",
      "/home/jorg/expers/sr/ACDC/ae_combined/mse_perc_p16_l128_w007_ex01/arvc/ni07/images_sr_ip/NLUTR26_9_0/NLUTR26_9_0_ni07_oslices.nii.gz /home/jorg/data/ARVC/nifti/sax_sr/NLUTR26_9_0_ni07.nii.gz\n",
      "/home/jorg/expers/sr/ACDC/ae_combined/mse_perc_p16_l128_w007_ex01/arvc/ni07/images_sr_ip/NLUTR3_3_2/NLUTR3_3_2_ni07_oslices.nii.gz /home/jorg/data/ARVC/nifti/sax_sr/NLUTR3_3_2_ni07.nii.gz\n",
      "/home/jorg/expers/sr/ACDC/ae_combined/mse_perc_p16_l128_w007_ex01/arvc/ni07/images_sr_ip/90018_2/90018_2_ni07_oslices.nii.gz /home/jorg/data/ARVC/nifti/sax_sr/90018_2_ni07.nii.gz\n",
      "/home/jorg/expers/sr/ACDC/ae_combined/mse_perc_p16_l128_w007_ex01/arvc/ni07/images_sr_ip/NLUTR69_2_0/NLUTR69_2_0_ni07_oslices.nii.gz /home/jorg/data/ARVC/nifti/sax_sr/NLUTR69_2_0_ni07.nii.gz\n",
      "/home/jorg/expers/sr/ACDC/ae_combined/mse_perc_p16_l128_w007_ex01/arvc/ni07/images_sr_ip/90016_0/90016_0_ni07_oslices.nii.gz /home/jorg/data/ARVC/nifti/sax_sr/90016_0_ni07.nii.gz\n",
      "/home/jorg/expers/sr/ACDC/ae_combined/mse_perc_p16_l128_w007_ex01/arvc/ni07/images_sr_ip/NLAMS32_4_1/NLAMS32_4_1_ni07_oslices.nii.gz /home/jorg/data/ARVC/nifti/sax_sr/NLAMS32_4_1_ni07.nii.gz\n",
      "/home/jorg/expers/sr/ACDC/ae_combined/mse_perc_p16_l128_w007_ex01/arvc/ni07/images_sr_ip/90059_0/90059_0_ni07_oslices.nii.gz /home/jorg/data/ARVC/nifti/sax_sr/90059_0_ni07.nii.gz\n",
      "/home/jorg/expers/sr/ACDC/ae_combined/mse_perc_p16_l128_w007_ex01/arvc/ni07/images_sr_ip/NLUTR35_2_2/NLUTR35_2_2_ni07_oslices.nii.gz /home/jorg/data/ARVC/nifti/sax_sr/NLUTR35_2_2_ni07.nii.gz\n",
      "/home/jorg/expers/sr/ACDC/ae_combined/mse_perc_p16_l128_w007_ex01/arvc/ni07/images_sr_ip/NLUTR8_2_1/NLUTR8_2_1_ni07_oslices.nii.gz /home/jorg/data/ARVC/nifti/sax_sr/NLUTR8_2_1_ni07.nii.gz\n",
      "/home/jorg/expers/sr/ACDC/ae_combined/mse_perc_p16_l128_w007_ex01/arvc/ni07/images_sr_ip/90058_0/90058_0_ni07_oslices.nii.gz /home/jorg/data/ARVC/nifti/sax_sr/90058_0_ni07.nii.gz\n",
      "/home/jorg/expers/sr/ACDC/ae_combined/mse_perc_p16_l128_w007_ex01/arvc/ni07/images_sr_ip/NL0256201_0/NL0256201_0_ni07_oslices.nii.gz /home/jorg/data/ARVC/nifti/sax_sr/NL0256201_0_ni07.nii.gz\n",
      "/home/jorg/expers/sr/ACDC/ae_combined/mse_perc_p16_l128_w007_ex01/arvc/ni07/images_sr_ip/90072_0/90072_0_ni07_oslices.nii.gz /home/jorg/data/ARVC/nifti/sax_sr/90072_0_ni07.nii.gz\n",
      "/home/jorg/expers/sr/ACDC/ae_combined/mse_perc_p16_l128_w007_ex01/arvc/ni07/images_sr_ip/90057_0/90057_0_ni07_oslices.nii.gz /home/jorg/data/ARVC/nifti/sax_sr/90057_0_ni07.nii.gz\n",
      "/home/jorg/expers/sr/ACDC/ae_combined/mse_perc_p16_l128_w007_ex01/arvc/ni07/images_sr_ip/NLUTR2_3_1/NLUTR2_3_1_ni07_oslices.nii.gz /home/jorg/data/ARVC/nifti/sax_sr/NLUTR2_3_1_ni07.nii.gz\n",
      "/home/jorg/expers/sr/ACDC/ae_combined/mse_perc_p16_l128_w007_ex01/arvc/ni07/images_sr_ip/NLUTR2_6_2/NLUTR2_6_2_ni07_oslices.nii.gz /home/jorg/data/ARVC/nifti/sax_sr/NLUTR2_6_2_ni07.nii.gz\n",
      "/home/jorg/expers/sr/ACDC/ae_combined/mse_perc_p16_l128_w007_ex01/arvc/ni07/images_sr_ip/NL0252200_0/NL0252200_0_ni07_oslices.nii.gz /home/jorg/data/ARVC/nifti/sax_sr/NL0252200_0_ni07.nii.gz\n",
      "/home/jorg/expers/sr/ACDC/ae_combined/mse_perc_p16_l128_w007_ex01/arvc/ni07/images_sr_ip/30141_0/30141_0_ni07_oslices.nii.gz /home/jorg/data/ARVC/nifti/sax_sr/30141_0_ni07.nii.gz\n",
      "/home/jorg/expers/sr/ACDC/ae_combined/mse_perc_p16_l128_w007_ex01/arvc/ni07/images_sr_ip/90015_1/90015_1_ni07_oslices.nii.gz /home/jorg/data/ARVC/nifti/sax_sr/90015_1_ni07.nii.gz\n",
      "/home/jorg/expers/sr/ACDC/ae_combined/mse_perc_p16_l128_w007_ex01/arvc/ni07/images_sr_ip/NLUTR72_2_0/NLUTR72_2_0_ni07_oslices.nii.gz /home/jorg/data/ARVC/nifti/sax_sr/NLUTR72_2_0_ni07.nii.gz\n",
      "/home/jorg/expers/sr/ACDC/ae_combined/mse_perc_p16_l128_w007_ex01/arvc/ni07/images_sr_ip/90001_0/90001_0_ni07_oslices.nii.gz /home/jorg/data/ARVC/nifti/sax_sr/90001_0_ni07.nii.gz\n",
      "/home/jorg/expers/sr/ACDC/ae_combined/mse_perc_p16_l128_w007_ex01/arvc/ni07/images_sr_ip/NLUTR30_15_1/NLUTR30_15_1_ni07_oslices.nii.gz /home/jorg/data/ARVC/nifti/sax_sr/NLUTR30_15_1_ni07.nii.gz\n",
      "/home/jorg/expers/sr/ACDC/ae_combined/mse_perc_p16_l128_w007_ex01/arvc/ni07/images_sr_ip/90000_1/90000_1_ni07_oslices.nii.gz /home/jorg/data/ARVC/nifti/sax_sr/90000_1_ni07.nii.gz\n",
      "/home/jorg/expers/sr/ACDC/ae_combined/mse_perc_p16_l128_w007_ex01/arvc/ni07/images_sr_ip/90022_0/90022_0_ni07_oslices.nii.gz /home/jorg/data/ARVC/nifti/sax_sr/90022_0_ni07.nii.gz\n",
      "/home/jorg/expers/sr/ACDC/ae_combined/mse_perc_p16_l128_w007_ex01/arvc/ni07/images_sr_ip/NLAMS49_4_1/NLAMS49_4_1_ni07_oslices.nii.gz /home/jorg/data/ARVC/nifti/sax_sr/NLAMS49_4_1_ni07.nii.gz\n",
      "/home/jorg/expers/sr/ACDC/ae_combined/mse_perc_p16_l128_w007_ex01/arvc/ni07/images_sr_ip/NLUTR69_3_0/NLUTR69_3_0_ni07_oslices.nii.gz /home/jorg/data/ARVC/nifti/sax_sr/NLUTR69_3_0_ni07.nii.gz\n",
      "/home/jorg/expers/sr/ACDC/ae_combined/mse_perc_p16_l128_w007_ex01/arvc/ni07/images_sr_ip/NLAMS48_5_0/NLAMS48_5_0_ni07_oslices.nii.gz /home/jorg/data/ARVC/nifti/sax_sr/NLAMS48_5_0_ni07.nii.gz\n",
      "/home/jorg/expers/sr/ACDC/ae_combined/mse_perc_p16_l128_w007_ex01/arvc/ni07/images_sr_ip/90052_0/90052_0_ni07_oslices.nii.gz /home/jorg/data/ARVC/nifti/sax_sr/90052_0_ni07.nii.gz\n",
      "/home/jorg/expers/sr/ACDC/ae_combined/mse_perc_p16_l128_w007_ex01/arvc/ni07/images_sr_ip/NLUTR11_8_1/NLUTR11_8_1_ni07_oslices.nii.gz /home/jorg/data/ARVC/nifti/sax_sr/NLUTR11_8_1_ni07.nii.gz\n",
      "/home/jorg/expers/sr/ACDC/ae_combined/mse_perc_p16_l128_w007_ex01/arvc/ni07/images_sr_ip/NLUTR72_2_1/NLUTR72_2_1_ni07_oslices.nii.gz /home/jorg/data/ARVC/nifti/sax_sr/NLUTR72_2_1_ni07.nii.gz\n",
      "/home/jorg/expers/sr/ACDC/ae_combined/mse_perc_p16_l128_w007_ex01/arvc/ni07/images_sr_ip/90006_0/90006_0_ni07_oslices.nii.gz /home/jorg/data/ARVC/nifti/sax_sr/90006_0_ni07.nii.gz\n",
      "/home/jorg/expers/sr/ACDC/ae_combined/mse_perc_p16_l128_w007_ex01/arvc/ni07/images_sr_ip/90089_0/90089_0_ni07_oslices.nii.gz /home/jorg/data/ARVC/nifti/sax_sr/90089_0_ni07.nii.gz\n",
      "/home/jorg/expers/sr/ACDC/ae_combined/mse_perc_p16_l128_w007_ex01/arvc/ni07/images_sr_ip/90041_2/90041_2_ni07_oslices.nii.gz /home/jorg/data/ARVC/nifti/sax_sr/90041_2_ni07.nii.gz\n",
      "/home/jorg/expers/sr/ACDC/ae_combined/mse_perc_p16_l128_w007_ex01/arvc/ni07/images_sr_ip/NLUTR25_4_0/NLUTR25_4_0_ni07_oslices.nii.gz /home/jorg/data/ARVC/nifti/sax_sr/NLUTR25_4_0_ni07.nii.gz\n",
      "/home/jorg/expers/sr/ACDC/ae_combined/mse_perc_p16_l128_w007_ex01/arvc/ni07/images_sr_ip/NLUTR25_1_2/NLUTR25_1_2_ni07_oslices.nii.gz /home/jorg/data/ARVC/nifti/sax_sr/NLUTR25_1_2_ni07.nii.gz\n",
      "/home/jorg/expers/sr/ACDC/ae_combined/mse_perc_p16_l128_w007_ex01/arvc/ni07/images_sr_ip/90049_1/90049_1_ni07_oslices.nii.gz /home/jorg/data/ARVC/nifti/sax_sr/90049_1_ni07.nii.gz\n",
      "/home/jorg/expers/sr/ACDC/ae_combined/mse_perc_p16_l128_w007_ex01/arvc/ni07/images_sr_ip/NLUTR64_5_1/NLUTR64_5_1_ni07_oslices.nii.gz /home/jorg/data/ARVC/nifti/sax_sr/NLUTR64_5_1_ni07.nii.gz\n",
      "/home/jorg/expers/sr/ACDC/ae_combined/mse_perc_p16_l128_w007_ex01/arvc/ni07/images_sr_ip/NLUTR69_3_1/NLUTR69_3_1_ni07_oslices.nii.gz /home/jorg/data/ARVC/nifti/sax_sr/NLUTR69_3_1_ni07.nii.gz\n",
      "/home/jorg/expers/sr/ACDC/ae_combined/mse_perc_p16_l128_w007_ex01/arvc/ni07/images_sr_ip/NLUTR25_1_4/NLUTR25_1_4_ni07_oslices.nii.gz /home/jorg/data/ARVC/nifti/sax_sr/NLUTR25_1_4_ni07.nii.gz\n",
      "/home/jorg/expers/sr/ACDC/ae_combined/mse_perc_p16_l128_w007_ex01/arvc/ni07/images_sr_ip/90027_0/90027_0_ni07_oslices.nii.gz /home/jorg/data/ARVC/nifti/sax_sr/90027_0_ni07.nii.gz\n",
      "/home/jorg/expers/sr/ACDC/ae_combined/mse_perc_p16_l128_w007_ex01/arvc/ni07/images_sr_ip/NLUTR30_17_0/NLUTR30_17_0_ni07_oslices.nii.gz /home/jorg/data/ARVC/nifti/sax_sr/NLUTR30_17_0_ni07.nii.gz\n",
      "/home/jorg/expers/sr/ACDC/ae_combined/mse_perc_p16_l128_w007_ex01/arvc/ni07/images_sr_ip/NLUTR22_5_0/NLUTR22_5_0_ni07_oslices.nii.gz /home/jorg/data/ARVC/nifti/sax_sr/NLUTR22_5_0_ni07.nii.gz\n",
      "/home/jorg/expers/sr/ACDC/ae_combined/mse_perc_p16_l128_w007_ex01/arvc/ni07/images_sr_ip/NLUTR77_3_1/NLUTR77_3_1_ni07_oslices.nii.gz /home/jorg/data/ARVC/nifti/sax_sr/NLUTR77_3_1_ni07.nii.gz\n",
      "/home/jorg/expers/sr/ACDC/ae_combined/mse_perc_p16_l128_w007_ex01/arvc/ni07/images_sr_ip/NLAMS49_4_0/NLAMS49_4_0_ni07_oslices.nii.gz /home/jorg/data/ARVC/nifti/sax_sr/NLAMS49_4_0_ni07.nii.gz\n",
      "/home/jorg/expers/sr/ACDC/ae_combined/mse_perc_p16_l128_w007_ex01/arvc/ni07/images_sr_ip/NLUTR57_2_0/NLUTR57_2_0_ni07_oslices.nii.gz /home/jorg/data/ARVC/nifti/sax_sr/NLUTR57_2_0_ni07.nii.gz\n",
      "/home/jorg/expers/sr/ACDC/ae_combined/mse_perc_p16_l128_w007_ex01/arvc/ni07/images_sr_ip/90046_0/90046_0_ni07_oslices.nii.gz /home/jorg/data/ARVC/nifti/sax_sr/90046_0_ni07.nii.gz\n",
      "/home/jorg/expers/sr/ACDC/ae_combined/mse_perc_p16_l128_w007_ex01/arvc/ni07/images_sr_ip/90049_0/90049_0_ni07_oslices.nii.gz /home/jorg/data/ARVC/nifti/sax_sr/90049_0_ni07.nii.gz\n",
      "/home/jorg/expers/sr/ACDC/ae_combined/mse_perc_p16_l128_w007_ex01/arvc/ni07/images_sr_ip/90042_0/90042_0_ni07_oslices.nii.gz /home/jorg/data/ARVC/nifti/sax_sr/90042_0_ni07.nii.gz\n",
      "/home/jorg/expers/sr/ACDC/ae_combined/mse_perc_p16_l128_w007_ex01/arvc/ni07/images_sr_ip/90060_0/90060_0_ni07_oslices.nii.gz /home/jorg/data/ARVC/nifti/sax_sr/90060_0_ni07.nii.gz\n",
      "/home/jorg/expers/sr/ACDC/ae_combined/mse_perc_p16_l128_w007_ex01/arvc/ni07/images_sr_ip/NLUTR26_4_1/NLUTR26_4_1_ni07_oslices.nii.gz /home/jorg/data/ARVC/nifti/sax_sr/NLUTR26_4_1_ni07.nii.gz\n",
      "/home/jorg/expers/sr/ACDC/ae_combined/mse_perc_p16_l128_w007_ex01/arvc/ni07/images_sr_ip/30144_1/30144_1_ni07_oslices.nii.gz /home/jorg/data/ARVC/nifti/sax_sr/30144_1_ni07.nii.gz\n",
      "/home/jorg/expers/sr/ACDC/ae_combined/mse_perc_p16_l128_w007_ex01/arvc/ni07/images_sr_ip/NL0255100_1/NL0255100_1_ni07_oslices.nii.gz /home/jorg/data/ARVC/nifti/sax_sr/NL0255100_1_ni07.nii.gz\n",
      "/home/jorg/expers/sr/ACDC/ae_combined/mse_perc_p16_l128_w007_ex01/arvc/ni07/images_sr_ip/90071_0/90071_0_ni07_oslices.nii.gz /home/jorg/data/ARVC/nifti/sax_sr/90071_0_ni07.nii.gz\n",
      "/home/jorg/expers/sr/ACDC/ae_combined/mse_perc_p16_l128_w007_ex01/arvc/ni07/images_sr_ip/NLUTR50_12_2/NLUTR50_12_2_ni07_oslices.nii.gz /home/jorg/data/ARVC/nifti/sax_sr/NLUTR50_12_2_ni07.nii.gz\n",
      "/home/jorg/expers/sr/ACDC/ae_combined/mse_perc_p16_l128_w007_ex01/arvc/ni07/images_sr_ip/NLUTR25_1_3/NLUTR25_1_3_ni07_oslices.nii.gz /home/jorg/data/ARVC/nifti/sax_sr/NLUTR25_1_3_ni07.nii.gz\n",
      "/home/jorg/expers/sr/ACDC/ae_combined/mse_perc_p16_l128_w007_ex01/arvc/ni07/images_sr_ip/90063_1/90063_1_ni07_oslices.nii.gz /home/jorg/data/ARVC/nifti/sax_sr/90063_1_ni07.nii.gz\n",
      "/home/jorg/expers/sr/ACDC/ae_combined/mse_perc_p16_l128_w007_ex01/arvc/ni07/images_sr_ip/NLUTR62_3_0/NLUTR62_3_0_ni07_oslices.nii.gz /home/jorg/data/ARVC/nifti/sax_sr/NLUTR62_3_0_ni07.nii.gz\n",
      "/home/jorg/expers/sr/ACDC/ae_combined/mse_perc_p16_l128_w007_ex01/arvc/ni07/images_sr_ip/NLUTR31_4_1/NLUTR31_4_1_ni07_oslices.nii.gz /home/jorg/data/ARVC/nifti/sax_sr/NLUTR31_4_1_ni07.nii.gz\n",
      "/home/jorg/expers/sr/ACDC/ae_combined/mse_perc_p16_l128_w007_ex01/arvc/ni07/images_sr_ip/40001_0/40001_0_ni07_oslices.nii.gz /home/jorg/data/ARVC/nifti/sax_sr/40001_0_ni07.nii.gz\n",
      "/home/jorg/expers/sr/ACDC/ae_combined/mse_perc_p16_l128_w007_ex01/arvc/ni07/images_sr_ip/NLUTR31_3_1/NLUTR31_3_1_ni07_oslices.nii.gz /home/jorg/data/ARVC/nifti/sax_sr/NLUTR31_3_1_ni07.nii.gz\n",
      "/home/jorg/expers/sr/ACDC/ae_combined/mse_perc_p16_l128_w007_ex01/arvc/ni07/images_sr_ip/NLUTR18_6_1/NLUTR18_6_1_ni07_oslices.nii.gz /home/jorg/data/ARVC/nifti/sax_sr/NLUTR18_6_1_ni07.nii.gz\n",
      "/home/jorg/expers/sr/ACDC/ae_combined/mse_perc_p16_l128_w007_ex01/arvc/ni07/images_sr_ip/90048_0/90048_0_ni07_oslices.nii.gz /home/jorg/data/ARVC/nifti/sax_sr/90048_0_ni07.nii.gz\n",
      "/home/jorg/expers/sr/ACDC/ae_combined/mse_perc_p16_l128_w007_ex01/arvc/ni07/images_sr_ip/NLUTR26_7_0/NLUTR26_7_0_ni07_oslices.nii.gz /home/jorg/data/ARVC/nifti/sax_sr/NLUTR26_7_0_ni07.nii.gz\n",
      "/home/jorg/expers/sr/ACDC/ae_combined/mse_perc_p16_l128_w007_ex01/arvc/ni07/images_sr_ip/NLUTR17_3_1/NLUTR17_3_1_ni07_oslices.nii.gz /home/jorg/data/ARVC/nifti/sax_sr/NLUTR17_3_1_ni07.nii.gz\n",
      "/home/jorg/expers/sr/ACDC/ae_combined/mse_perc_p16_l128_w007_ex01/arvc/ni07/images_sr_ip/NLUTR46_5_1/NLUTR46_5_1_ni07_oslices.nii.gz /home/jorg/data/ARVC/nifti/sax_sr/NLUTR46_5_1_ni07.nii.gz\n",
      "/home/jorg/expers/sr/ACDC/ae_combined/mse_perc_p16_l128_w007_ex01/arvc/ni07/images_sr_ip/NLUTR72_2_2/NLUTR72_2_2_ni07_oslices.nii.gz /home/jorg/data/ARVC/nifti/sax_sr/NLUTR72_2_2_ni07.nii.gz\n",
      "/home/jorg/expers/sr/ACDC/ae_combined/mse_perc_p16_l128_w007_ex01/arvc/ni07/images_sr_ip/NLUTR46_5_2/NLUTR46_5_2_ni07_oslices.nii.gz /home/jorg/data/ARVC/nifti/sax_sr/NLUTR46_5_2_ni07.nii.gz\n",
      "/home/jorg/expers/sr/ACDC/ae_combined/mse_perc_p16_l128_w007_ex01/arvc/ni07/images_sr_ip/NLUTR70_2_2/NLUTR70_2_2_ni07_oslices.nii.gz /home/jorg/data/ARVC/nifti/sax_sr/NLUTR70_2_2_ni07.nii.gz\n",
      "/home/jorg/expers/sr/ACDC/ae_combined/mse_perc_p16_l128_w007_ex01/arvc/ni07/images_sr_ip/NLUTR29_5_1/NLUTR29_5_1_ni07_oslices.nii.gz /home/jorg/data/ARVC/nifti/sax_sr/NLUTR29_5_1_ni07.nii.gz\n",
      "/home/jorg/expers/sr/ACDC/ae_combined/mse_perc_p16_l128_w007_ex01/arvc/ni07/images_sr_ip/90020_0/90020_0_ni07_oslices.nii.gz /home/jorg/data/ARVC/nifti/sax_sr/90020_0_ni07.nii.gz\n",
      "/home/jorg/expers/sr/ACDC/ae_combined/mse_perc_p16_l128_w007_ex01/arvc/ni07/images_sr_ip/NLUTR6_23_4/NLUTR6_23_4_ni07_oslices.nii.gz /home/jorg/data/ARVC/nifti/sax_sr/NLUTR6_23_4_ni07.nii.gz\n",
      "/home/jorg/expers/sr/ACDC/ae_combined/mse_perc_p16_l128_w007_ex01/arvc/ni07/images_sr_ip/NLMUM7_3_3/NLMUM7_3_3_ni07_oslices.nii.gz /home/jorg/data/ARVC/nifti/sax_sr/NLMUM7_3_3_ni07.nii.gz\n",
      "/home/jorg/expers/sr/ACDC/ae_combined/mse_perc_p16_l128_w007_ex01/arvc/ni07/images_sr_ip/NLAMS48_4_0/NLAMS48_4_0_ni07_oslices.nii.gz /home/jorg/data/ARVC/nifti/sax_sr/NLAMS48_4_0_ni07.nii.gz\n",
      "/home/jorg/expers/sr/ACDC/ae_combined/mse_perc_p16_l128_w007_ex01/arvc/ni07/images_sr_ip/30135_0/30135_0_ni07_oslices.nii.gz /home/jorg/data/ARVC/nifti/sax_sr/30135_0_ni07.nii.gz\n",
      "/home/jorg/expers/sr/ACDC/ae_combined/mse_perc_p16_l128_w007_ex01/arvc/ni07/images_sr_ip/90082_0/90082_0_ni07_oslices.nii.gz /home/jorg/data/ARVC/nifti/sax_sr/90082_0_ni07.nii.gz\n",
      "/home/jorg/expers/sr/ACDC/ae_combined/mse_perc_p16_l128_w007_ex01/arvc/ni07/images_sr_ip/NLUTR70_2_1/NLUTR70_2_1_ni07_oslices.nii.gz /home/jorg/data/ARVC/nifti/sax_sr/NLUTR70_2_1_ni07.nii.gz\n",
      "/home/jorg/expers/sr/ACDC/ae_combined/mse_perc_p16_l128_w007_ex01/arvc/ni07/images_sr_ip/90044_0/90044_0_ni07_oslices.nii.gz /home/jorg/data/ARVC/nifti/sax_sr/90044_0_ni07.nii.gz\n",
      "/home/jorg/expers/sr/ACDC/ae_combined/mse_perc_p16_l128_w007_ex01/arvc/ni07/images_sr_ip/NLUTR6_23_5/NLUTR6_23_5_ni07_oslices.nii.gz /home/jorg/data/ARVC/nifti/sax_sr/NLUTR6_23_5_ni07.nii.gz\n",
      "/home/jorg/expers/sr/ACDC/ae_combined/mse_perc_p16_l128_w007_ex01/arvc/ni07/images_sr_ip/30023_1/30023_1_ni07_oslices.nii.gz /home/jorg/data/ARVC/nifti/sax_sr/30023_1_ni07.nii.gz\n",
      "/home/jorg/expers/sr/ACDC/ae_combined/mse_perc_p16_l128_w007_ex01/arvc/ni07/images_sr_ip/NL0255120_1/NL0255120_1_ni07_oslices.nii.gz /home/jorg/data/ARVC/nifti/sax_sr/NL0255120_1_ni07.nii.gz\n",
      "/home/jorg/expers/sr/ACDC/ae_combined/mse_perc_p16_l128_w007_ex01/arvc/ni07/images_sr_ip/NLUTR6_24_1/NLUTR6_24_1_ni07_oslices.nii.gz /home/jorg/data/ARVC/nifti/sax_sr/NLUTR6_24_1_ni07.nii.gz\n",
      "/home/jorg/expers/sr/ACDC/ae_combined/mse_perc_p16_l128_w007_ex01/arvc/ni07/images_sr_ip/90026_0/90026_0_ni07_oslices.nii.gz /home/jorg/data/ARVC/nifti/sax_sr/90026_0_ni07.nii.gz\n",
      "/home/jorg/expers/sr/ACDC/ae_combined/mse_perc_p16_l128_w007_ex01/arvc/ni07/images_sr_ip/NLUTR22_6_0/NLUTR22_6_0_ni07_oslices.nii.gz /home/jorg/data/ARVC/nifti/sax_sr/NLUTR22_6_0_ni07.nii.gz\n",
      "/home/jorg/expers/sr/ACDC/ae_combined/mse_perc_p16_l128_w007_ex01/arvc/ni07/images_sr_ip/NL256100_2/NL256100_2_ni07_oslices.nii.gz /home/jorg/data/ARVC/nifti/sax_sr/NL256100_2_ni07.nii.gz\n",
      "/home/jorg/expers/sr/ACDC/ae_combined/mse_perc_p16_l128_w007_ex01/arvc/ni07/images_sr_ip/NLGRO20_5_1/NLGRO20_5_1_ni07_oslices.nii.gz /home/jorg/data/ARVC/nifti/sax_sr/NLGRO20_5_1_ni07.nii.gz\n",
      "/home/jorg/expers/sr/ACDC/ae_combined/mse_perc_p16_l128_w007_ex01/arvc/ni07/images_sr_ip/40000_0/40000_0_ni07_oslices.nii.gz /home/jorg/data/ARVC/nifti/sax_sr/40000_0_ni07.nii.gz\n",
      "/home/jorg/expers/sr/ACDC/ae_combined/mse_perc_p16_l128_w007_ex01/arvc/ni07/images_sr_ip/NLUTR18_2_2/NLUTR18_2_2_ni07_oslices.nii.gz /home/jorg/data/ARVC/nifti/sax_sr/NLUTR18_2_2_ni07.nii.gz\n",
      "/home/jorg/expers/sr/ACDC/ae_combined/mse_perc_p16_l128_w007_ex01/arvc/ni07/images_sr_ip/30140_0/30140_0_ni07_oslices.nii.gz /home/jorg/data/ARVC/nifti/sax_sr/30140_0_ni07.nii.gz\n",
      "/home/jorg/expers/sr/ACDC/ae_combined/mse_perc_p16_l128_w007_ex01/arvc/ni07/images_sr_ip/NLUTR64_2_1/NLUTR64_2_1_ni07_oslices.nii.gz /home/jorg/data/ARVC/nifti/sax_sr/NLUTR64_2_1_ni07.nii.gz\n",
      "/home/jorg/expers/sr/ACDC/ae_combined/mse_perc_p16_l128_w007_ex01/arvc/ni07/images_sr_ip/NLUTR75_1_1/NLUTR75_1_1_ni07_oslices.nii.gz /home/jorg/data/ARVC/nifti/sax_sr/NLUTR75_1_1_ni07.nii.gz\n",
      "/home/jorg/expers/sr/ACDC/ae_combined/mse_perc_p16_l128_w007_ex01/arvc/ni07/images_sr_ip/NLUTR69_7_0/NLUTR69_7_0_ni07_oslices.nii.gz /home/jorg/data/ARVC/nifti/sax_sr/NLUTR69_7_0_ni07.nii.gz\n",
      "/home/jorg/expers/sr/ACDC/ae_combined/mse_perc_p16_l128_w007_ex01/arvc/ni07/images_sr_ip/NLAMS26_2_1/NLAMS26_2_1_ni07_oslices.nii.gz /home/jorg/data/ARVC/nifti/sax_sr/NLAMS26_2_1_ni07.nii.gz\n",
      "/home/jorg/expers/sr/ACDC/ae_combined/mse_perc_p16_l128_w007_ex01/arvc/ni07/images_sr_ip/NLUTR41_2_3/NLUTR41_2_3_ni07_oslices.nii.gz /home/jorg/data/ARVC/nifti/sax_sr/NLUTR41_2_3_ni07.nii.gz\n",
      "/home/jorg/expers/sr/ACDC/ae_combined/mse_perc_p16_l128_w007_ex01/arvc/ni07/images_sr_ip/90086_0/90086_0_ni07_oslices.nii.gz /home/jorg/data/ARVC/nifti/sax_sr/90086_0_ni07.nii.gz\n",
      "/home/jorg/expers/sr/ACDC/ae_combined/mse_perc_p16_l128_w007_ex01/arvc/ni07/images_sr_ip/30137_0/30137_0_ni07_oslices.nii.gz /home/jorg/data/ARVC/nifti/sax_sr/30137_0_ni07.nii.gz\n",
      "/home/jorg/expers/sr/ACDC/ae_combined/mse_perc_p16_l128_w007_ex01/arvc/ni07/images_sr_ip/NLUTR4_8_1/NLUTR4_8_1_ni07_oslices.nii.gz /home/jorg/data/ARVC/nifti/sax_sr/NLUTR4_8_1_ni07.nii.gz\n",
      "/home/jorg/expers/sr/ACDC/ae_combined/mse_perc_p16_l128_w007_ex01/arvc/ni07/images_sr_ip/90025_0/90025_0_ni07_oslices.nii.gz /home/jorg/data/ARVC/nifti/sax_sr/90025_0_ni07.nii.gz\n",
      "/home/jorg/expers/sr/ACDC/ae_combined/mse_perc_p16_l128_w007_ex01/arvc/ni07/images_sr_ip/NLUTR70_2_3/NLUTR70_2_3_ni07_oslices.nii.gz /home/jorg/data/ARVC/nifti/sax_sr/NLUTR70_2_3_ni07.nii.gz\n",
      "/home/jorg/expers/sr/ACDC/ae_combined/mse_perc_p16_l128_w007_ex01/arvc/ni07/images_sr_ip/90094_0/90094_0_ni07_oslices.nii.gz /home/jorg/data/ARVC/nifti/sax_sr/90094_0_ni07.nii.gz\n",
      "/home/jorg/expers/sr/ACDC/ae_combined/mse_perc_p16_l128_w007_ex01/arvc/ni07/images_sr_ip/90050_1/90050_1_ni07_oslices.nii.gz /home/jorg/data/ARVC/nifti/sax_sr/90050_1_ni07.nii.gz\n",
      "/home/jorg/expers/sr/ACDC/ae_combined/mse_perc_p16_l128_w007_ex01/arvc/ni07/images_sr_ip/NLUTR15_13_1/NLUTR15_13_1_ni07_oslices.nii.gz /home/jorg/data/ARVC/nifti/sax_sr/NLUTR15_13_1_ni07.nii.gz\n",
      "/home/jorg/expers/sr/ACDC/ae_combined/mse_perc_p16_l128_w007_ex01/arvc/ni07/images_sr_ip/90007_0/90007_0_ni07_oslices.nii.gz /home/jorg/data/ARVC/nifti/sax_sr/90007_0_ni07.nii.gz\n",
      "/home/jorg/expers/sr/ACDC/ae_combined/mse_perc_p16_l128_w007_ex01/arvc/ni07/images_sr_ip/NL0255120_0/NL0255120_0_ni07_oslices.nii.gz /home/jorg/data/ARVC/nifti/sax_sr/NL0255120_0_ni07.nii.gz\n",
      "/home/jorg/expers/sr/ACDC/ae_combined/mse_perc_p16_l128_w007_ex01/arvc/ni07/images_sr_ip/NL0252100_0/NL0252100_0_ni07_oslices.nii.gz /home/jorg/data/ARVC/nifti/sax_sr/NL0252100_0_ni07.nii.gz\n",
      "/home/jorg/expers/sr/ACDC/ae_combined/mse_perc_p16_l128_w007_ex01/arvc/ni07/images_sr_ip/90080_0/90080_0_ni07_oslices.nii.gz /home/jorg/data/ARVC/nifti/sax_sr/90080_0_ni07.nii.gz\n",
      "/home/jorg/expers/sr/ACDC/ae_combined/mse_perc_p16_l128_w007_ex01/arvc/ni07/images_sr_ip/90098_0/90098_0_ni07_oslices.nii.gz /home/jorg/data/ARVC/nifti/sax_sr/90098_0_ni07.nii.gz\n",
      "/home/jorg/expers/sr/ACDC/ae_combined/mse_perc_p16_l128_w007_ex01/arvc/ni07/images_sr_ip/NLUTR31_3_0/NLUTR31_3_0_ni07_oslices.nii.gz /home/jorg/data/ARVC/nifti/sax_sr/NLUTR31_3_0_ni07.nii.gz\n",
      "/home/jorg/expers/sr/ACDC/ae_combined/mse_perc_p16_l128_w007_ex01/arvc/ni07/images_sr_ip/90068_0/90068_0_ni07_oslices.nii.gz /home/jorg/data/ARVC/nifti/sax_sr/90068_0_ni07.nii.gz\n",
      "/home/jorg/expers/sr/ACDC/ae_combined/mse_perc_p16_l128_w007_ex01/arvc/ni07/images_sr_ip/MRI0410_0/MRI0410_0_ni07_oslices.nii.gz /home/jorg/data/ARVC/nifti/sax_sr/MRI0410_0_ni07.nii.gz\n",
      "/home/jorg/expers/sr/ACDC/ae_combined/mse_perc_p16_l128_w007_ex01/arvc/ni07/images_sr_ip/NLUTR42_2_2/NLUTR42_2_2_ni07_oslices.nii.gz /home/jorg/data/ARVC/nifti/sax_sr/NLUTR42_2_2_ni07.nii.gz\n",
      "/home/jorg/expers/sr/ACDC/ae_combined/mse_perc_p16_l128_w007_ex01/arvc/ni07/images_sr_ip/NLUTR46_2_3/NLUTR46_2_3_ni07_oslices.nii.gz /home/jorg/data/ARVC/nifti/sax_sr/NLUTR46_2_3_ni07.nii.gz\n",
      "/home/jorg/expers/sr/ACDC/ae_combined/mse_perc_p16_l128_w007_ex01/arvc/ni07/images_sr_ip/30130_0/30130_0_ni07_oslices.nii.gz /home/jorg/data/ARVC/nifti/sax_sr/30130_0_ni07.nii.gz\n",
      "/home/jorg/expers/sr/ACDC/ae_combined/mse_perc_p16_l128_w007_ex01/arvc/ni07/images_sr_ip/NLUTR77_2_1/NLUTR77_2_1_ni07_oslices.nii.gz /home/jorg/data/ARVC/nifti/sax_sr/NLUTR77_2_1_ni07.nii.gz\n",
      "/home/jorg/expers/sr/ACDC/ae_combined/mse_perc_p16_l128_w007_ex01/arvc/ni07/images_sr_ip/NLUTR50_9_1/NLUTR50_9_1_ni07_oslices.nii.gz /home/jorg/data/ARVC/nifti/sax_sr/NLUTR50_9_1_ni07.nii.gz\n",
      "/home/jorg/expers/sr/ACDC/ae_combined/mse_perc_p16_l128_w007_ex01/arvc/ni07/images_sr_ip/NLUTR6_23_3/NLUTR6_23_3_ni07_oslices.nii.gz /home/jorg/data/ARVC/nifti/sax_sr/NLUTR6_23_3_ni07.nii.gz\n",
      "/home/jorg/expers/sr/ACDC/ae_combined/mse_perc_p16_l128_w007_ex01/arvc/ni07/images_sr_ip/NLUTR6_24_3/NLUTR6_24_3_ni07_oslices.nii.gz /home/jorg/data/ARVC/nifti/sax_sr/NLUTR6_24_3_ni07.nii.gz\n",
      "/home/jorg/expers/sr/ACDC/ae_combined/mse_perc_p16_l128_w007_ex01/arvc/ni07/images_sr_ip/90004_0/90004_0_ni07_oslices.nii.gz /home/jorg/data/ARVC/nifti/sax_sr/90004_0_ni07.nii.gz\n",
      "/home/jorg/expers/sr/ACDC/ae_combined/mse_perc_p16_l128_w007_ex01/arvc/ni07/images_sr_ip/NLUTR78_1_2/NLUTR78_1_2_ni07_oslices.nii.gz /home/jorg/data/ARVC/nifti/sax_sr/NLUTR78_1_2_ni07.nii.gz\n",
      "/home/jorg/expers/sr/ACDC/ae_combined/mse_perc_p16_l128_w007_ex01/arvc/ni07/images_sr_ip/NLUTR64_2_0/NLUTR64_2_0_ni07_oslices.nii.gz /home/jorg/data/ARVC/nifti/sax_sr/NLUTR64_2_0_ni07.nii.gz\n",
      "/home/jorg/expers/sr/ACDC/ae_combined/mse_perc_p16_l128_w007_ex01/arvc/ni07/images_sr_ip/NLUTR6_24_2/NLUTR6_24_2_ni07_oslices.nii.gz /home/jorg/data/ARVC/nifti/sax_sr/NLUTR6_24_2_ni07.nii.gz\n",
      "/home/jorg/expers/sr/ACDC/ae_combined/mse_perc_p16_l128_w007_ex01/arvc/ni07/images_sr_ip/90087_0/90087_0_ni07_oslices.nii.gz /home/jorg/data/ARVC/nifti/sax_sr/90087_0_ni07.nii.gz\n",
      "/home/jorg/expers/sr/ACDC/ae_combined/mse_perc_p16_l128_w007_ex01/arvc/ni07/images_sr_ip/NLUTR29_4_1/NLUTR29_4_1_ni07_oslices.nii.gz /home/jorg/data/ARVC/nifti/sax_sr/NLUTR29_4_1_ni07.nii.gz\n",
      "/home/jorg/expers/sr/ACDC/ae_combined/mse_perc_p16_l128_w007_ex01/arvc/ni07/images_sr_ip/NLUTR50_17_0/NLUTR50_17_0_ni07_oslices.nii.gz /home/jorg/data/ARVC/nifti/sax_sr/NLUTR50_17_0_ni07.nii.gz\n",
      "/home/jorg/expers/sr/ACDC/ae_combined/mse_perc_p16_l128_w007_ex01/arvc/ni07/images_sr_ip/90065_0/90065_0_ni07_oslices.nii.gz /home/jorg/data/ARVC/nifti/sax_sr/90065_0_ni07.nii.gz\n",
      "/home/jorg/expers/sr/ACDC/ae_combined/mse_perc_p16_l128_w007_ex01/arvc/ni07/images_sr_ip/90005_0/90005_0_ni07_oslices.nii.gz /home/jorg/data/ARVC/nifti/sax_sr/90005_0_ni07.nii.gz\n",
      "/home/jorg/expers/sr/ACDC/ae_combined/mse_perc_p16_l128_w007_ex01/arvc/ni07/images_sr_ip/NLUTR56_4_0/NLUTR56_4_0_ni07_oslices.nii.gz /home/jorg/data/ARVC/nifti/sax_sr/NLUTR56_4_0_ni07.nii.gz\n",
      "/home/jorg/expers/sr/ACDC/ae_combined/mse_perc_p16_l128_w007_ex01/arvc/ni07/images_sr_ip/NLUTR30_15_2/NLUTR30_15_2_ni07_oslices.nii.gz /home/jorg/data/ARVC/nifti/sax_sr/NLUTR30_15_2_ni07.nii.gz\n",
      "/home/jorg/expers/sr/ACDC/ae_combined/mse_perc_p16_l128_w007_ex01/arvc/ni07/images_sr_ip/NLGRO41_6_1/NLGRO41_6_1_ni07_oslices.nii.gz /home/jorg/data/ARVC/nifti/sax_sr/NLGRO41_6_1_ni07.nii.gz\n",
      "/home/jorg/expers/sr/ACDC/ae_combined/mse_perc_p16_l128_w007_ex01/arvc/ni07/images_sr_ip/90013_0/90013_0_ni07_oslices.nii.gz /home/jorg/data/ARVC/nifti/sax_sr/90013_0_ni07.nii.gz\n",
      "/home/jorg/expers/sr/ACDC/ae_combined/mse_perc_p16_l128_w007_ex01/arvc/ni07/images_sr_ip/NLUTR56_3_0/NLUTR56_3_0_ni07_oslices.nii.gz /home/jorg/data/ARVC/nifti/sax_sr/NLUTR56_3_0_ni07.nii.gz\n",
      "/home/jorg/expers/sr/ACDC/ae_combined/mse_perc_p16_l128_w007_ex01/arvc/ni07/images_sr_ip/30010_0/30010_0_ni07_oslices.nii.gz /home/jorg/data/ARVC/nifti/sax_sr/30010_0_ni07.nii.gz\n",
      "/home/jorg/expers/sr/ACDC/ae_combined/mse_perc_p16_l128_w007_ex01/arvc/ni07/images_sr_ip/NLUTR64_5_0/NLUTR64_5_0_ni07_oslices.nii.gz /home/jorg/data/ARVC/nifti/sax_sr/NLUTR64_5_0_ni07.nii.gz\n",
      "/home/jorg/expers/sr/ACDC/ae_combined/mse_perc_p16_l128_w007_ex01/arvc/ni07/images_sr_ip/NLUTR64_3_0/NLUTR64_3_0_ni07_oslices.nii.gz /home/jorg/data/ARVC/nifti/sax_sr/NLUTR64_3_0_ni07.nii.gz\n",
      "/home/jorg/expers/sr/ACDC/ae_combined/mse_perc_p16_l128_w007_ex01/arvc/ni07/images_sr_ip/NLUTR26_5_0/NLUTR26_5_0_ni07_oslices.nii.gz /home/jorg/data/ARVC/nifti/sax_sr/NLUTR26_5_0_ni07.nii.gz\n",
      "/home/jorg/expers/sr/ACDC/ae_combined/mse_perc_p16_l128_w007_ex01/arvc/ni07/images_sr_ip/NLUTR47_3_0/NLUTR47_3_0_ni07_oslices.nii.gz /home/jorg/data/ARVC/nifti/sax_sr/NLUTR47_3_0_ni07.nii.gz\n",
      "/home/jorg/expers/sr/ACDC/ae_combined/mse_perc_p16_l128_w007_ex01/arvc/ni07/images_sr_ip/90085_1/90085_1_ni07_oslices.nii.gz /home/jorg/data/ARVC/nifti/sax_sr/90085_1_ni07.nii.gz\n",
      "/home/jorg/expers/sr/ACDC/ae_combined/mse_perc_p16_l128_w007_ex01/arvc/ni07/images_sr_ip/NLUTR26_8_0/NLUTR26_8_0_ni07_oslices.nii.gz /home/jorg/data/ARVC/nifti/sax_sr/NLUTR26_8_0_ni07.nii.gz\n",
      "/home/jorg/expers/sr/ACDC/ae_combined/mse_perc_p16_l128_w007_ex01/arvc/ni07/images_sr_ip/30054_0/30054_0_ni07_oslices.nii.gz /home/jorg/data/ARVC/nifti/sax_sr/30054_0_ni07.nii.gz\n"
     ]
    }
   ],
   "source": [
    "from pathlib import Path\n",
    "import shutil\n",
    "\n",
    "file_suffix = \"*_ni07_oslices.nii.gz\"\n",
    "mydir = \"/home/jorg/expers/sr/ACDC/ae_combined/mse_perc_p16_l128_w007_ex01/arvc/ni07/\"\n",
    "target_dir = \"/home/jorg/data/ARVC/nifti/sax_sr/\"\n",
    "if not os.path.isdir(target_dir):\n",
    "    os.makedirs(target_dir, exist_ok=False)\n",
    "filepath_generator = Path(mydir).rglob(file_suffix)\n",
    "filepath_list = [file_obj for file_obj in filepath_generator]\n",
    "print(\"Moving {} files\".format(len(filepath_list)))\n",
    "for fname in filepath_list:\n",
    "    fname_base = os.path.basename(fname).replace(\"_oslices\", \"\")\n",
    "    target_fname = os.path.join(target_dir, fname_base)\n",
    "    print(fname, target_fname)\n",
    "    shutil.move(fname, target_fname)\n"
   ]
  },
  {
   "cell_type": "code",
   "execution_count": 68,
   "metadata": {},
   "outputs": [
    {
     "name": "stdout",
     "output_type": "stream",
     "text": [
      "(12, 256, 256)\n"
     ]
    }
   ],
   "source": [
    "f = \"/home/jorg/data/sunnybrook/mhd/SC-N-10_ES.mhd\"\n",
    "print(sitk.GetArrayFromImage(sitk.ReadImage(f)).shape)"
   ]
  },
  {
   "cell_type": "code",
   "execution_count": 42,
   "metadata": {},
   "outputs": [
    {
     "name": "stdout",
     "output_type": "stream",
     "text": [
      "INFO - searching with mask /home/jorg/expers/sr_redo/ACDC/ae_combined/pool2_w128_l128_w0_01_ex01/model_perf_synth*_axis0.npz\n",
      "INFO - loading /home/jorg/expers/sr_redo/ACDC/ae_combined/pool2_w128_l128_w0_01_ex01/model_perf_synth_200_to_900_axis0.npz\n"
     ]
    }
   ],
   "source": [
    "from evaluate.find_best_model import load_model_scores\n",
    "\n",
    "file_suffix = \"_axis0.npz\"\n",
    "synthesis = True\n",
    "exper_dir = \"~/expers/sr_redo/ACDC/ae_combined/pool2_w128_l128_w0_01_ex01\"\n",
    "results, iters, ssim_res, psnr_res, vif_res = \\\n",
    "            load_model_scores(exper_dir, file_suffix=file_suffix, \n",
    "                              synthesis=synthesis)"
   ]
  },
  {
   "cell_type": "code",
   "execution_count": 43,
   "metadata": {},
   "outputs": [
    {
     "name": "stdout",
     "output_type": "stream",
     "text": [
      "SSIM (791): 0.534\n",
      "PSNR (608): 16.198\n",
      "VIF (688): 0.803\n",
      "M-791: 0.534, 16.144, 0.798\n",
      "M-608: 0.526, 16.198, 0.801\n",
      "M-688: 0.518, 16.139, 0.803\n"
     ]
    }
   ],
   "source": [
    "idx_psnr, idx_ssim, idx_vif = np.argmax(psnr_res), np.argmax(ssim_res), np.argmax(vif_res)\n",
    "print(\"SSIM ({}): {:.3f}\".format(iters[idx_ssim], ssim_res[idx_ssim]))\n",
    "print(\"PSNR ({}): {:.3f}\".format(iters[idx_psnr], psnr_res[idx_psnr]))\n",
    "print(\"VIF ({}): {:.3f}\".format(iters[idx_vif], vif_res[idx_vif]))\n",
    "print(\"M-{}: {:.3f}, {:.3f}, {:.3f}\".format(iters[idx_ssim], ssim_res[idx_ssim],\n",
    "                                          psnr_res[idx_ssim], vif_res[idx_ssim]))\n",
    "print(\"M-{}: {:.3f}, {:.3f}, {:.3f}\".format(iters[idx_psnr], ssim_res[idx_psnr],\n",
    "                                          psnr_res[idx_psnr], vif_res[idx_psnr]))\n",
    "print(\"M-{}: {:.3f}, {:.3f}, {:.3f}\".format(iters[idx_vif], ssim_res[idx_vif],\n",
    "                                          psnr_res[idx_vif], vif_res[idx_vif]))"
   ]
  },
  {
   "cell_type": "code",
   "execution_count": 27,
   "metadata": {},
   "outputs": [
    {
     "name": "stdout",
     "output_type": "stream",
     "text": [
      "WARNING - get_4d_image_array - Loading ACDC data from /home/jorg/data/ACDC/all_cardiac_phases\n"
     ]
    },
    {
     "data": {
      "application/vnd.jupyter.widget-view+json": {
       "model_id": "909e418a7b6f4a23ab4f96ea1bf24695",
       "version_major": 2,
       "version_minor": 0
      },
      "text/plain": [
       "Loading 20 patients:   0%|          | 0/20 [00:00<?, ?it/s]"
      ]
     },
     "metadata": {},
     "output_type": "display_data"
    },
    {
     "name": "stdout",
     "output_type": "stream",
     "text": [
      "WARNING - ACDC4D - skipping patient/frames patient015/(21-29)\n"
     ]
    }
   ],
   "source": [
    "from datasets.ACDC.data4d_simple import get_4d_image_array, get_acdc_patient_sets\n",
    "\n",
    "patient_sets = get_acdc_patient_sets()\n",
    "pat_list = patient_sets['test']\n",
    "transform140 = transforms.Compose([AdjustToPatchSize(tuple((140, 140))),\n",
    "                                           CenterCrop(140)])\n",
    "transform = transforms.Compose([AdjustToPatchSize(tuple((224, 224))),\n",
    "                                           CenterCrop(224)])\n",
    "image4d = get_4d_image_array(\"~/data/ACDC/all_cardiac_phases\", rescale=True, resample=True, \n",
    "                             limited_load=False, new_spacing=tuple((1, 1.4, 1.4)),  \n",
    "                             pat_nums=pat_list, transform=transform,\n",
    "                             get_masks=False)"
   ]
  },
  {
   "cell_type": "code",
   "execution_count": 86,
   "metadata": {},
   "outputs": [
    {
     "name": "stdout",
     "output_type": "stream",
     "text": [
      "INFO - get_images_in_dir - dataset name ACDC. Resample-inplane True\n",
      "Loaded from 20 volumes from ae_combined/pool2_w128_l128_w01_ex01 (_ni01.nii.gz)\n"
     ]
    }
   ],
   "source": [
    "from datasets.common import get_images_in_dir\n",
    "\n",
    "EXPER_SRC_DIR = os.path.expanduser(\"~/expers/sr_redo/ACDC\")\n",
    "resample_inplane = True if 'sr_redo' in EXPER_SRC_DIR else False\n",
    "file_suffix = \"_ni01.nii.gz\" \n",
    "exper_id = \"ae_combined/pool2_w128_l128_w01_ex01\"    # pool2_w128_l128_w0_01_ex01\n",
    "path_method = os.path.join(EXPER_SRC_DIR, \"{}/images_sr_ip\".format(exper_id))\n",
    "data_generator = get_images_in_dir(path_method, file_suffix=file_suffix, rescale_int=False, \n",
    "                                      do_downsample=False, downsample_steps=None, \n",
    "                                      patid_list=pat_list, resample_inplane=resample_inplane,\n",
    "                                   new_spacing=tuple((1, 1.4, 1.4)))\n",
    "print(\"Loaded from {} volumes from {} ({})\".format(len(data_generator), exper_id,\n",
    "                                                    file_suffix))"
   ]
  },
  {
   "cell_type": "code",
   "execution_count": 87,
   "metadata": {},
   "outputs": [
    {
     "name": "stdout",
     "output_type": "stream",
     "text": [
      "INFO - evaluating ae_combined images from /home/jorg/expers/sr_redo/ACDC/ae_combined/pool2_w128_l128_w01_ex01\n",
      "INFO - evaluation axis-0 - method: ae_combined - is conventional False - downsample steps 2\n"
     ]
    },
    {
     "data": {
      "application/vnd.jupyter.widget-view+json": {
       "model_id": "9b0e63eb1ff744baac2bd2c9dc34b8cf",
       "version_major": 2,
       "version_minor": 0
      },
      "text/plain": [
       "Compute metrics:   0%|          | 0/20 [00:00<?, ?it/s]"
      ]
     },
     "metadata": {},
     "output_type": "display_data"
    },
    {
     "name": "stdout",
     "output_type": "stream",
     "text": [
      "ae_combined: SSIM / PSRN / LPIPS / VIF: 0.814 (0.03) / 24.61 (1.25) / 0.000 (0.00) / 0.844 (0.01)\n",
      "ae_combined (recon): SSIM / PSRN / LPIPS / VIF: 0.941 (0.01) / 29.13 (1.06) / 0.000 (0.00) / 0.873 (0.01)\n",
      "ae_combined (synth): SSIM / PSRN / LPIPS / VIF: 0.653 (0.07) / 18.90 (1.80) / 0.000 (0.00) / 0.807 (0.01)\n",
      "INFO - Saved results to /home/jorg/expers/sr_redo/ACDC/ae_combined/pool2_w128_l128_w01_ex01/results/ae_combined_2x.npz\n"
     ]
    }
   ],
   "source": [
    "from evaluate.quantitative_comparison import compare_quantitative\n",
    "\n",
    "method = 'ae_combined'\n",
    "method_dir = os.path.join(EXPER_SRC_DIR, exper_id)\n",
    "downsample_steps = 2\n",
    "eval_axis = 0\n",
    "lpips = None # percept_criterion if eval_axis == 0 else None\n",
    "do_save = True\n",
    "result_dict = \\\n",
    "    compare_quantitative(image4d, data_generator, method, downsample_steps=downsample_steps, \n",
    "                         is_4d=True, do_save=do_save, method_dir=method_dir,\n",
    "                         percept_criterion=lpips, \n",
    "                         transform=transform140, eval_axis=eval_axis)"
   ]
  },
  {
   "cell_type": "code",
   "execution_count": 88,
   "metadata": {},
   "outputs": [
    {
     "name": "stdout",
     "output_type": "stream",
     "text": [
      "Load results from /home/jorg/expers/sr_redo/ACDC/ae_combined/pool2_w128_l128_w01_ex01/results/ae_combined_2x.npz\n",
      "\\begin{tabular} {@{}c@{}}0.941 \\\\ $\\pm$0.01 \\end{tabular} & \\begin{tabular} {@{}c@{}}0.653 \\\\ $\\pm$0.07 \\end{tabular} & \\begin{tabular} {@{}c@{}}29.13 \\\\ $\\pm$1.06 \\end{tabular} & \\begin{tabular} {@{}c@{}}18.90 \\\\ $\\pm$1.80 \\end{tabular} & \\begin{tabular} {@{}c@{}}0.873 \\\\ $\\pm$0.01 \\end{tabular} & \\begin{tabular} {@{}c@{}}0.807 \\\\ $\\pm$0.01 \\end{tabular} \\\\\n"
     ]
    }
   ],
   "source": [
    "from evaluate.quantitative_comparison import format_latex_string\n",
    "\n",
    "load_dir = os.path.expanduser(\"~/expers/sr_redo/ACDC/ae_combined/pool2_w128_l128_w01_ex01\")\n",
    "f = os.path.join(load_dir, 'results/ae_combined_2x.npz')\n",
    "print(\"Load results from {}\".format(f))\n",
    "results = np.load(f)\n",
    "format_latex_string(results)"
   ]
  },
  {
   "cell_type": "code",
   "execution_count": 3,
   "metadata": {},
   "outputs": [
    {
     "name": "stdout",
     "output_type": "stream",
     "text": [
      "Load results from /home/jorg/expers/sr/ACDC/ae_combined/mse_perc_p32_l128_aug180_w007_ex01/results/ae_combined_2x_axis1.npz\n",
      "['ssim', 'psnr', 'vif', 'lpips', 'ssim_res', 'psnr_res', 'vif_res', 'lpips_res']\n",
      "[0.85213733 0.03074143] [22.93964973  2.05393032] [0.85501479 0.01181096]\n"
     ]
    }
   ],
   "source": [
    "load_dir = os.path.expanduser(\"~/expers/sr/ACDC/ae_combined/mse_perc_p32_l128_aug180_w007_ex01\")\n",
    "f = os.path.join(load_dir, 'results/ae_combined_2x_axis1.npz')\n",
    "print(\"Load results from {}\".format(f))\n",
    "azz = np.load(f)\n",
    "print(azz.files)\n",
    "print(azz['ssim_res'], azz['psnr_res'], azz['vif_res'])\n",
    "# print(azz['ssim_res_recon'], azz['psnr_res_recon'], azz['vif_res_recon'])\n",
    "# print(azz['ssim_res_synth'], azz['psnr_res_synth'], azz['vif_res_synth'])"
   ]
  },
  {
   "cell_type": "code",
   "execution_count": 49,
   "metadata": {},
   "outputs": [
    {
     "name": "stdout",
     "output_type": "stream",
     "text": [
      "['ssim', 'psnr', 'vif', 'lpips', 'ssim_synth', 'psnr_synth', 'vif_synth', 'lpips_synth', 'ssim_recon', 'psnr_recon', 'vif_recon', 'lpips_recon']\n",
      "0.978584700033695 35.455623967981516 0.8818943568596699\n",
      "0.6462236549854788 18.090453155601164 0.8130523885105218\n"
     ]
    }
   ],
   "source": [
    "f = '/home/jorg/expers/sr_redo/ACDC/ae_combined/pool2_w128_l128_w0_01_ex01/results/during_generate_images_metrics_m608_2x_axis0.npz'\n",
    "azz = np.load(f)\n",
    "print(azz.files)\n",
    "# print(azz['ssim'], azz['psnr'], azz['vif'])\n",
    "print(np.mean(azz['ssim_recon']), np.mean(azz['psnr_recon']), np.mean(azz['vif_recon']))\n",
    "print(np.mean(azz['ssim_synth']), np.mean(azz['psnr_synth']), np.mean(azz['vif_synth']))"
   ]
  }
 ],
 "metadata": {
  "kernelspec": {
   "display_name": "Python 3",
   "language": "python",
   "name": "python3"
  },
  "language_info": {
   "codemirror_mode": {
    "name": "ipython",
    "version": 3
   },
   "file_extension": ".py",
   "mimetype": "text/x-python",
   "name": "python",
   "nbconvert_exporter": "python",
   "pygments_lexer": "ipython3",
   "version": "3.7.10"
  }
 },
 "nbformat": 4,
 "nbformat_minor": 2
}
