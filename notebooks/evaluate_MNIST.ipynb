{
 "cells": [
  {
   "cell_type": "code",
   "execution_count": 1,
   "metadata": {},
   "outputs": [
    {
     "name": "stdout",
     "output_type": "stream",
     "text": [
      "env: CUDA_VISIBLE_DEVICES=6\n",
      "env: OMP_NUM_THREADS=2\n"
     ]
    }
   ],
   "source": [
    "%env CUDA_VISIBLE_DEVICES=6\n",
    "%env OMP_NUM_THREADS=2"
   ]
  },
  {
   "cell_type": "code",
   "execution_count": 2,
   "metadata": {},
   "outputs": [
    {
     "name": "stdout",
     "output_type": "stream",
     "text": [
      "Ready\n"
     ]
    }
   ],
   "source": [
    "import sys\n",
    "import os\n",
    "\n",
    "sys.path.extend(['/home/jorg/repo/aesr'])\n",
    "import matplotlib\n",
    "import matplotlib.pyplot as plt\n",
    "from tqdm import tqdm\n",
    "from matplotlib import cm\n",
    "\n",
    "import numpy as np\n",
    "import torch\n",
    "import torchvision\n",
    "from torchvision import transforms\n",
    "import torch.nn as nn\n",
    "import SimpleITK as sitk\n",
    "try:\n",
    "    from skimage.measure import compare_ssim as ssim_metric\n",
    "    from skimage.measure import compare_psnr as psnr_metric\n",
    "except ImportError:\n",
    "    from skimage.metrics import structural_similarity as ssim_metric\n",
    "    from skimage.metrics import peak_signal_noise_ratio as psnr_metric\n",
    "\n",
    "from datasets.data_config import get_config\n",
    "from datasets.shared_transforms import CenterCrop, AdjustToPatchSize\n",
    "from kwatsch.get_trainer import get_trainer\n",
    "from evaluate.create_HR_images import create_hr_images\n",
    "from evaluate.brain.evaluate_model import create_brain_volumes\n",
    "from evaluate.brain.evaluate_model import create_brain_volumes_conventional_interpolation\n",
    "from kwatsch.common import load_settings\n",
    "%matplotlib inline\n",
    "%load_ext autoreload\n",
    "%autoreload 2\n",
    "\n",
    "torch.manual_seed(32563)\n",
    "rs = np.random.RandomState(32563)\n",
    "ttest_results = {}\n",
    "\n",
    "print(\"Ready\")"
   ]
  },
  {
   "cell_type": "code",
   "execution_count": 27,
   "metadata": {},
   "outputs": [
    {
     "name": "stdout",
     "output_type": "stream",
     "text": [
      "INFO - get_mnist_ids - test\n",
      "#Volumes 100\n"
     ]
    }
   ],
   "source": [
    "from datasets.MNIST.data3d import get_mnist_ids\n",
    "pat_nums_test = get_mnist_ids('test')\n",
    "print(\"#Volumes {}\".format(len(pat_nums_test)))"
   ]
  },
  {
   "cell_type": "code",
   "execution_count": 90,
   "metadata": {
    "scrolled": true
   },
   "outputs": [
    {
     "name": "stdout",
     "output_type": "stream",
     "text": [
      "Eval patch size  32\n",
      "INFO - Initializing trainer ACAITrainer - using multiple gpus False\n",
      "INFO - ACAITrainer Loaded model parameters from /home/jorg/expers/sr_redo/MNISTRoto/acai/pool2_l16_lamb05_noaug_ex01/models/100.models\n",
      "INFO - Trainer ACAI - Initiated discriminator\n",
      "IMPORTANT --> ACAITrainer training with combined losses: False\n",
      "WARNING WARNING - you are using VanillaACAI CAE class\n"
     ]
    },
    {
     "data": {
      "application/vnd.jupyter.widget-view+json": {
       "model_id": "d835bc7761044a329550aa0939e4aaef",
       "version_major": 2,
       "version_minor": 0
      },
      "text/plain": [
       "Loading 100 volumes from /home/jorg/data/MNIST3D:   0%|          | 0/100 [00:00<?, ?it/s]"
      ]
     },
     "metadata": {},
     "output_type": "display_data"
    },
    {
     "name": "stdout",
     "output_type": "stream",
     "text": [
      "[36. 28. 28.]\n",
      "WARNING - Current model-nbr >>> 100 <<< train patch-size/test patch-size 32/32\n",
      "INFO - evaluating on 100 patients\n",
      "WARNING !!! downsample_steps 3 does not match parameter 4 used during training!\n",
      "{'ae_class': 'VanillaACAI', 'alpha_class': None, 'alpha_loss_func': None, 'aug_patch_size': 32, 'batch_size': 32, 'colors': 1, 'comment': None, 'dataset': 'MNISTRoto', 'depth': 16, 'device': 'cuda', 'downsample_steps': 3, 'epoch_threshold': 10, 'epochs': 100, 'ex_loss_weight1': 0.001, 'exper_id': 'pool2_l16_lamb05_noaug_ex01', 'fine_tune': False, 'get_masks': False, 'gpu_ids': [0], 'image_mix_loss_func': None, 'lamb': 0, 'lamb_reg_acai': 0.5, 'latent': 16, 'latent_width': 8, 'limited_load': False, 'log_tensorboard': False, 'lr': 1e-05, 'max_grad_norm': 0, 'model': 'acai', 'model_filename': None, 'module_network_path': 'networks/acai_vanilla.py', 'module_trainer_path': 'kwatsch/trainer_acai.py', 'n_res_block': None, 'number_of_workers': 2, 'output_dir': '/home/jorg/expers/sr_redo/MNISTRoto/acai/pool2_l16_lamb05_noaug_ex01', 'port': 8030, 'seed': 892372, 'slice_selection': 'adjacent_plus', 'test_batch_size': 32, 'trainer_class': 'ACAITrainer', 'use_batchnorm': True, 'use_extra_latent_loss': False, 'use_laploss': False, 'use_loss_annealing': False, 'use_percept_loss': False, 'use_sigmoid': True, 'use_ssim_loss': False, 'vae_beta': 0, 'validate_every': 500, 'weight_decay': 0.0, 'width': 32, 'use_alpha_probe': False, 'alpha_dims': None}\n",
      "INFO - saving output to /home/jorg/expers/sr_redo/MNISTRoto/acai/pool2_l16_lamb05_noaug_ex01/images_sr_ip\n",
      "INFO - saved /home/jorg/expers/sr_redo/MNISTRoto/acai/pool2_l16_lamb05_noaug_ex01/images_sr_ip/60001/60001_ni03.nii.gz\n",
      "SSIM / PSRN / VIF: 0.748 / 21.234 / 0.889\n",
      "INFO - saved /home/jorg/expers/sr_redo/MNISTRoto/acai/pool2_l16_lamb05_noaug_ex01/images_sr_ip/60002/60002_ni03.nii.gz\n",
      "SSIM / PSRN / VIF: 0.783 / 20.660 / 0.894\n",
      "INFO - saved /home/jorg/expers/sr_redo/MNISTRoto/acai/pool2_l16_lamb05_noaug_ex01/images_sr_ip/60003/60003_ni03.nii.gz\n",
      "SSIM / PSRN / VIF: 0.776 / 23.764 / 0.867\n",
      "INFO - saved /home/jorg/expers/sr_redo/MNISTRoto/acai/pool2_l16_lamb05_noaug_ex01/images_sr_ip/60004/60004_ni03.nii.gz\n",
      "SSIM / PSRN / VIF: 0.920 / 23.484 / 0.898\n",
      "INFO - saved /home/jorg/expers/sr_redo/MNISTRoto/acai/pool2_l16_lamb05_noaug_ex01/images_sr_ip/60005/60005_ni03.nii.gz\n",
      "SSIM / PSRN / VIF: 0.788 / 21.906 / 0.884\n",
      "INFO - saved /home/jorg/expers/sr_redo/MNISTRoto/acai/pool2_l16_lamb05_noaug_ex01/images_sr_ip/60006/60006_ni03.nii.gz\n",
      "SSIM / PSRN / VIF: 0.797 / 23.629 / 0.876\n",
      "INFO - saved /home/jorg/expers/sr_redo/MNISTRoto/acai/pool2_l16_lamb05_noaug_ex01/images_sr_ip/60007/60007_ni03.nii.gz\n",
      "SSIM / PSRN / VIF: 0.766 / 21.194 / 0.866\n",
      "INFO - saved /home/jorg/expers/sr_redo/MNISTRoto/acai/pool2_l16_lamb05_noaug_ex01/images_sr_ip/60008/60008_ni03.nii.gz\n",
      "SSIM / PSRN / VIF: 0.832 / 22.043 / 0.893\n",
      "INFO - saved /home/jorg/expers/sr_redo/MNISTRoto/acai/pool2_l16_lamb05_noaug_ex01/images_sr_ip/60009/60009_ni03.nii.gz\n",
      "SSIM / PSRN / VIF: 0.830 / 20.863 / 0.899\n",
      "INFO - saved /home/jorg/expers/sr_redo/MNISTRoto/acai/pool2_l16_lamb05_noaug_ex01/images_sr_ip/60010/60010_ni03.nii.gz\n",
      "SSIM / PSRN / VIF: 0.825 / 20.443 / 0.897\n",
      "INFO - saved /home/jorg/expers/sr_redo/MNISTRoto/acai/pool2_l16_lamb05_noaug_ex01/images_sr_ip/60011/60011_ni03.nii.gz\n",
      "SSIM / PSRN / VIF: 0.934 / 24.693 / 0.931\n",
      "INFO - saved /home/jorg/expers/sr_redo/MNISTRoto/acai/pool2_l16_lamb05_noaug_ex01/images_sr_ip/60012/60012_ni03.nii.gz\n",
      "SSIM / PSRN / VIF: 0.882 / 22.374 / 0.911\n",
      "INFO - saved /home/jorg/expers/sr_redo/MNISTRoto/acai/pool2_l16_lamb05_noaug_ex01/images_sr_ip/60013/60013_ni03.nii.gz\n",
      "SSIM / PSRN / VIF: 0.832 / 21.681 / 0.893\n",
      "INFO - saved /home/jorg/expers/sr_redo/MNISTRoto/acai/pool2_l16_lamb05_noaug_ex01/images_sr_ip/60014/60014_ni03.nii.gz\n",
      "SSIM / PSRN / VIF: 0.941 / 25.243 / 0.926\n",
      "INFO - saved /home/jorg/expers/sr_redo/MNISTRoto/acai/pool2_l16_lamb05_noaug_ex01/images_sr_ip/60015/60015_ni03.nii.gz\n",
      "SSIM / PSRN / VIF: 0.813 / 23.221 / 0.833\n",
      "INFO - saved /home/jorg/expers/sr_redo/MNISTRoto/acai/pool2_l16_lamb05_noaug_ex01/images_sr_ip/60016/60016_ni03.nii.gz\n",
      "SSIM / PSRN / VIF: 0.794 / 21.227 / 0.883\n",
      "INFO - saved /home/jorg/expers/sr_redo/MNISTRoto/acai/pool2_l16_lamb05_noaug_ex01/images_sr_ip/60017/60017_ni03.nii.gz\n",
      "SSIM / PSRN / VIF: 0.849 / 21.847 / 0.902\n",
      "INFO - saved /home/jorg/expers/sr_redo/MNISTRoto/acai/pool2_l16_lamb05_noaug_ex01/images_sr_ip/60018/60018_ni03.nii.gz\n",
      "SSIM / PSRN / VIF: 0.779 / 21.351 / 0.900\n",
      "INFO - saved /home/jorg/expers/sr_redo/MNISTRoto/acai/pool2_l16_lamb05_noaug_ex01/images_sr_ip/60019/60019_ni03.nii.gz\n",
      "SSIM / PSRN / VIF: 0.828 / 20.083 / 0.885\n",
      "INFO - saved /home/jorg/expers/sr_redo/MNISTRoto/acai/pool2_l16_lamb05_noaug_ex01/images_sr_ip/60020/60020_ni03.nii.gz\n",
      "SSIM / PSRN / VIF: 0.778 / 21.745 / 0.877\n",
      "INFO - saved /home/jorg/expers/sr_redo/MNISTRoto/acai/pool2_l16_lamb05_noaug_ex01/images_sr_ip/60021/60021_ni03.nii.gz\n",
      "SSIM / PSRN / VIF: 0.825 / 21.237 / 0.886\n",
      "INFO - saved /home/jorg/expers/sr_redo/MNISTRoto/acai/pool2_l16_lamb05_noaug_ex01/images_sr_ip/60022/60022_ni03.nii.gz\n",
      "SSIM / PSRN / VIF: 0.883 / 23.989 / 0.900\n",
      "INFO - saved /home/jorg/expers/sr_redo/MNISTRoto/acai/pool2_l16_lamb05_noaug_ex01/images_sr_ip/60023/60023_ni03.nii.gz\n",
      "SSIM / PSRN / VIF: 0.868 / 22.431 / 0.898\n",
      "INFO - saved /home/jorg/expers/sr_redo/MNISTRoto/acai/pool2_l16_lamb05_noaug_ex01/images_sr_ip/60024/60024_ni03.nii.gz\n",
      "SSIM / PSRN / VIF: 0.804 / 21.513 / 0.891\n",
      "INFO - saved /home/jorg/expers/sr_redo/MNISTRoto/acai/pool2_l16_lamb05_noaug_ex01/images_sr_ip/60025/60025_ni03.nii.gz\n",
      "SSIM / PSRN / VIF: 0.781 / 22.012 / 0.862\n",
      "INFO - saved /home/jorg/expers/sr_redo/MNISTRoto/acai/pool2_l16_lamb05_noaug_ex01/images_sr_ip/60026/60026_ni03.nii.gz\n",
      "SSIM / PSRN / VIF: 0.931 / 22.480 / 0.925\n",
      "INFO - saved /home/jorg/expers/sr_redo/MNISTRoto/acai/pool2_l16_lamb05_noaug_ex01/images_sr_ip/60027/60027_ni03.nii.gz\n",
      "SSIM / PSRN / VIF: 0.777 / 22.110 / 0.892\n",
      "INFO - saved /home/jorg/expers/sr_redo/MNISTRoto/acai/pool2_l16_lamb05_noaug_ex01/images_sr_ip/60028/60028_ni03.nii.gz\n",
      "SSIM / PSRN / VIF: 0.783 / 21.440 / 0.875\n",
      "INFO - saved /home/jorg/expers/sr_redo/MNISTRoto/acai/pool2_l16_lamb05_noaug_ex01/images_sr_ip/60029/60029_ni03.nii.gz\n",
      "SSIM / PSRN / VIF: 0.924 / 24.467 / 0.898\n",
      "INFO - saved /home/jorg/expers/sr_redo/MNISTRoto/acai/pool2_l16_lamb05_noaug_ex01/images_sr_ip/60030/60030_ni03.nii.gz\n",
      "SSIM / PSRN / VIF: 0.795 / 23.032 / 0.877\n",
      "INFO - saved /home/jorg/expers/sr_redo/MNISTRoto/acai/pool2_l16_lamb05_noaug_ex01/images_sr_ip/60031/60031_ni03.nii.gz\n",
      "SSIM / PSRN / VIF: 0.839 / 22.501 / 0.887\n",
      "INFO - saved /home/jorg/expers/sr_redo/MNISTRoto/acai/pool2_l16_lamb05_noaug_ex01/images_sr_ip/60032/60032_ni03.nii.gz\n",
      "SSIM / PSRN / VIF: 0.782 / 23.399 / 0.865\n",
      "INFO - saved /home/jorg/expers/sr_redo/MNISTRoto/acai/pool2_l16_lamb05_noaug_ex01/images_sr_ip/60033/60033_ni03.nii.gz\n",
      "SSIM / PSRN / VIF: 0.857 / 23.102 / 0.882\n",
      "INFO - saved /home/jorg/expers/sr_redo/MNISTRoto/acai/pool2_l16_lamb05_noaug_ex01/images_sr_ip/60034/60034_ni03.nii.gz\n",
      "SSIM / PSRN / VIF: 0.768 / 20.935 / 0.889\n",
      "INFO - saved /home/jorg/expers/sr_redo/MNISTRoto/acai/pool2_l16_lamb05_noaug_ex01/images_sr_ip/60035/60035_ni03.nii.gz\n",
      "SSIM / PSRN / VIF: 0.749 / 20.562 / 0.876\n",
      "INFO - saved /home/jorg/expers/sr_redo/MNISTRoto/acai/pool2_l16_lamb05_noaug_ex01/images_sr_ip/60036/60036_ni03.nii.gz\n",
      "SSIM / PSRN / VIF: 0.782 / 20.030 / 0.905\n",
      "INFO - saved /home/jorg/expers/sr_redo/MNISTRoto/acai/pool2_l16_lamb05_noaug_ex01/images_sr_ip/60037/60037_ni03.nii.gz\n",
      "SSIM / PSRN / VIF: 0.790 / 21.027 / 0.895\n",
      "INFO - saved /home/jorg/expers/sr_redo/MNISTRoto/acai/pool2_l16_lamb05_noaug_ex01/images_sr_ip/60038/60038_ni03.nii.gz\n",
      "SSIM / PSRN / VIF: 0.803 / 23.843 / 0.873\n",
      "INFO - saved /home/jorg/expers/sr_redo/MNISTRoto/acai/pool2_l16_lamb05_noaug_ex01/images_sr_ip/60039/60039_ni03.nii.gz\n",
      "SSIM / PSRN / VIF: 0.774 / 21.441 / 0.882\n",
      "INFO - saved /home/jorg/expers/sr_redo/MNISTRoto/acai/pool2_l16_lamb05_noaug_ex01/images_sr_ip/60040/60040_ni03.nii.gz\n",
      "SSIM / PSRN / VIF: 0.843 / 24.365 / 0.866\n",
      "INFO - saved /home/jorg/expers/sr_redo/MNISTRoto/acai/pool2_l16_lamb05_noaug_ex01/images_sr_ip/60041/60041_ni03.nii.gz\n",
      "SSIM / PSRN / VIF: 0.776 / 24.287 / 0.868\n",
      "INFO - saved /home/jorg/expers/sr_redo/MNISTRoto/acai/pool2_l16_lamb05_noaug_ex01/images_sr_ip/60042/60042_ni03.nii.gz\n"
     ]
    },
    {
     "name": "stdout",
     "output_type": "stream",
     "text": [
      "SSIM / PSRN / VIF: 0.792 / 22.234 / 0.890\n",
      "INFO - saved /home/jorg/expers/sr_redo/MNISTRoto/acai/pool2_l16_lamb05_noaug_ex01/images_sr_ip/60043/60043_ni03.nii.gz\n",
      "SSIM / PSRN / VIF: 0.782 / 21.388 / 0.886\n",
      "INFO - saved /home/jorg/expers/sr_redo/MNISTRoto/acai/pool2_l16_lamb05_noaug_ex01/images_sr_ip/60044/60044_ni03.nii.gz\n",
      "SSIM / PSRN / VIF: 0.694 / 20.697 / 0.863\n",
      "INFO - saved /home/jorg/expers/sr_redo/MNISTRoto/acai/pool2_l16_lamb05_noaug_ex01/images_sr_ip/60045/60045_ni03.nii.gz\n",
      "SSIM / PSRN / VIF: 0.834 / 23.517 / 0.894\n",
      "INFO - saved /home/jorg/expers/sr_redo/MNISTRoto/acai/pool2_l16_lamb05_noaug_ex01/images_sr_ip/60046/60046_ni03.nii.gz\n",
      "SSIM / PSRN / VIF: 0.841 / 22.340 / 0.891\n",
      "INFO - saved /home/jorg/expers/sr_redo/MNISTRoto/acai/pool2_l16_lamb05_noaug_ex01/images_sr_ip/60047/60047_ni03.nii.gz\n",
      "SSIM / PSRN / VIF: 0.816 / 23.400 / 0.867\n",
      "INFO - saved /home/jorg/expers/sr_redo/MNISTRoto/acai/pool2_l16_lamb05_noaug_ex01/images_sr_ip/60048/60048_ni03.nii.gz\n",
      "SSIM / PSRN / VIF: 0.738 / 20.901 / 0.868\n",
      "INFO - saved /home/jorg/expers/sr_redo/MNISTRoto/acai/pool2_l16_lamb05_noaug_ex01/images_sr_ip/60049/60049_ni03.nii.gz\n",
      "SSIM / PSRN / VIF: 0.837 / 21.253 / 0.889\n",
      "INFO - saved /home/jorg/expers/sr_redo/MNISTRoto/acai/pool2_l16_lamb05_noaug_ex01/images_sr_ip/60050/60050_ni03.nii.gz\n",
      "SSIM / PSRN / VIF: 0.764 / 20.746 / 0.870\n",
      "INFO - saved /home/jorg/expers/sr_redo/MNISTRoto/acai/pool2_l16_lamb05_noaug_ex01/images_sr_ip/60051/60051_ni03.nii.gz\n",
      "SSIM / PSRN / VIF: 0.847 / 22.337 / 0.913\n",
      "INFO - saved /home/jorg/expers/sr_redo/MNISTRoto/acai/pool2_l16_lamb05_noaug_ex01/images_sr_ip/60052/60052_ni03.nii.gz\n",
      "SSIM / PSRN / VIF: 0.850 / 20.634 / 0.898\n",
      "INFO - saved /home/jorg/expers/sr_redo/MNISTRoto/acai/pool2_l16_lamb05_noaug_ex01/images_sr_ip/60053/60053_ni03.nii.gz\n",
      "SSIM / PSRN / VIF: 0.801 / 21.405 / 0.890\n",
      "INFO - saved /home/jorg/expers/sr_redo/MNISTRoto/acai/pool2_l16_lamb05_noaug_ex01/images_sr_ip/60054/60054_ni03.nii.gz\n",
      "SSIM / PSRN / VIF: 0.844 / 23.177 / 0.892\n",
      "INFO - saved /home/jorg/expers/sr_redo/MNISTRoto/acai/pool2_l16_lamb05_noaug_ex01/images_sr_ip/60055/60055_ni03.nii.gz\n",
      "SSIM / PSRN / VIF: 0.855 / 21.217 / 0.898\n",
      "INFO - saved /home/jorg/expers/sr_redo/MNISTRoto/acai/pool2_l16_lamb05_noaug_ex01/images_sr_ip/60056/60056_ni03.nii.gz\n",
      "SSIM / PSRN / VIF: 0.911 / 23.650 / 0.892\n",
      "INFO - saved /home/jorg/expers/sr_redo/MNISTRoto/acai/pool2_l16_lamb05_noaug_ex01/images_sr_ip/60057/60057_ni03.nii.gz\n",
      "SSIM / PSRN / VIF: 0.783 / 21.145 / 0.875\n",
      "INFO - saved /home/jorg/expers/sr_redo/MNISTRoto/acai/pool2_l16_lamb05_noaug_ex01/images_sr_ip/60058/60058_ni03.nii.gz\n",
      "SSIM / PSRN / VIF: 0.781 / 23.523 / 0.870\n",
      "INFO - saved /home/jorg/expers/sr_redo/MNISTRoto/acai/pool2_l16_lamb05_noaug_ex01/images_sr_ip/60059/60059_ni03.nii.gz\n",
      "SSIM / PSRN / VIF: 0.858 / 22.455 / 0.903\n",
      "INFO - saved /home/jorg/expers/sr_redo/MNISTRoto/acai/pool2_l16_lamb05_noaug_ex01/images_sr_ip/60060/60060_ni03.nii.gz\n",
      "SSIM / PSRN / VIF: 0.742 / 21.520 / 0.883\n",
      "INFO - saved /home/jorg/expers/sr_redo/MNISTRoto/acai/pool2_l16_lamb05_noaug_ex01/images_sr_ip/60061/60061_ni03.nii.gz\n",
      "SSIM / PSRN / VIF: 0.781 / 20.427 / 0.859\n",
      "INFO - saved /home/jorg/expers/sr_redo/MNISTRoto/acai/pool2_l16_lamb05_noaug_ex01/images_sr_ip/60062/60062_ni03.nii.gz\n",
      "SSIM / PSRN / VIF: 0.824 / 20.334 / 0.897\n",
      "INFO - saved /home/jorg/expers/sr_redo/MNISTRoto/acai/pool2_l16_lamb05_noaug_ex01/images_sr_ip/60063/60063_ni03.nii.gz\n",
      "SSIM / PSRN / VIF: 0.832 / 22.930 / 0.873\n",
      "INFO - saved /home/jorg/expers/sr_redo/MNISTRoto/acai/pool2_l16_lamb05_noaug_ex01/images_sr_ip/60064/60064_ni03.nii.gz\n",
      "SSIM / PSRN / VIF: 0.832 / 22.236 / 0.886\n",
      "INFO - saved /home/jorg/expers/sr_redo/MNISTRoto/acai/pool2_l16_lamb05_noaug_ex01/images_sr_ip/60065/60065_ni03.nii.gz\n",
      "SSIM / PSRN / VIF: 0.689 / 18.454 / 0.891\n",
      "INFO - saved /home/jorg/expers/sr_redo/MNISTRoto/acai/pool2_l16_lamb05_noaug_ex01/images_sr_ip/60066/60066_ni03.nii.gz\n",
      "SSIM / PSRN / VIF: 0.800 / 22.313 / 0.867\n",
      "INFO - saved /home/jorg/expers/sr_redo/MNISTRoto/acai/pool2_l16_lamb05_noaug_ex01/images_sr_ip/60067/60067_ni03.nii.gz\n",
      "SSIM / PSRN / VIF: 0.856 / 22.093 / 0.897\n",
      "INFO - saved /home/jorg/expers/sr_redo/MNISTRoto/acai/pool2_l16_lamb05_noaug_ex01/images_sr_ip/60068/60068_ni03.nii.gz\n",
      "SSIM / PSRN / VIF: 0.776 / 20.902 / 0.885\n",
      "INFO - saved /home/jorg/expers/sr_redo/MNISTRoto/acai/pool2_l16_lamb05_noaug_ex01/images_sr_ip/60069/60069_ni03.nii.gz\n",
      "SSIM / PSRN / VIF: 0.880 / 22.836 / 0.884\n",
      "INFO - saved /home/jorg/expers/sr_redo/MNISTRoto/acai/pool2_l16_lamb05_noaug_ex01/images_sr_ip/60070/60070_ni03.nii.gz\n",
      "SSIM / PSRN / VIF: 0.942 / 25.382 / 0.941\n",
      "INFO - saved /home/jorg/expers/sr_redo/MNISTRoto/acai/pool2_l16_lamb05_noaug_ex01/images_sr_ip/60071/60071_ni03.nii.gz\n",
      "SSIM / PSRN / VIF: 0.754 / 20.814 / 0.888\n",
      "INFO - saved /home/jorg/expers/sr_redo/MNISTRoto/acai/pool2_l16_lamb05_noaug_ex01/images_sr_ip/60072/60072_ni03.nii.gz\n",
      "SSIM / PSRN / VIF: 0.945 / 24.569 / 0.905\n",
      "INFO - saved /home/jorg/expers/sr_redo/MNISTRoto/acai/pool2_l16_lamb05_noaug_ex01/images_sr_ip/60073/60073_ni03.nii.gz\n",
      "SSIM / PSRN / VIF: 0.786 / 20.203 / 0.910\n",
      "INFO - saved /home/jorg/expers/sr_redo/MNISTRoto/acai/pool2_l16_lamb05_noaug_ex01/images_sr_ip/60074/60074_ni03.nii.gz\n",
      "SSIM / PSRN / VIF: 0.838 / 21.704 / 0.874\n",
      "INFO - saved /home/jorg/expers/sr_redo/MNISTRoto/acai/pool2_l16_lamb05_noaug_ex01/images_sr_ip/60075/60075_ni03.nii.gz\n",
      "SSIM / PSRN / VIF: 0.815 / 23.750 / 0.876\n",
      "INFO - saved /home/jorg/expers/sr_redo/MNISTRoto/acai/pool2_l16_lamb05_noaug_ex01/images_sr_ip/60076/60076_ni03.nii.gz\n",
      "SSIM / PSRN / VIF: 0.704 / 19.558 / 0.870\n",
      "INFO - saved /home/jorg/expers/sr_redo/MNISTRoto/acai/pool2_l16_lamb05_noaug_ex01/images_sr_ip/60077/60077_ni03.nii.gz\n",
      "SSIM / PSRN / VIF: 0.826 / 22.563 / 0.889\n",
      "INFO - saved /home/jorg/expers/sr_redo/MNISTRoto/acai/pool2_l16_lamb05_noaug_ex01/images_sr_ip/60078/60078_ni03.nii.gz\n",
      "SSIM / PSRN / VIF: 0.819 / 22.284 / 0.892\n",
      "INFO - saved /home/jorg/expers/sr_redo/MNISTRoto/acai/pool2_l16_lamb05_noaug_ex01/images_sr_ip/60079/60079_ni03.nii.gz\n",
      "SSIM / PSRN / VIF: 0.821 / 21.655 / 0.891\n",
      "INFO - saved /home/jorg/expers/sr_redo/MNISTRoto/acai/pool2_l16_lamb05_noaug_ex01/images_sr_ip/60080/60080_ni03.nii.gz\n",
      "SSIM / PSRN / VIF: 0.826 / 21.274 / 0.887\n",
      "INFO - saved /home/jorg/expers/sr_redo/MNISTRoto/acai/pool2_l16_lamb05_noaug_ex01/images_sr_ip/60081/60081_ni03.nii.gz\n",
      "SSIM / PSRN / VIF: 0.816 / 21.347 / 0.885\n",
      "INFO - saved /home/jorg/expers/sr_redo/MNISTRoto/acai/pool2_l16_lamb05_noaug_ex01/images_sr_ip/60082/60082_ni03.nii.gz\n",
      "SSIM / PSRN / VIF: 0.899 / 23.877 / 0.888\n",
      "INFO - saved /home/jorg/expers/sr_redo/MNISTRoto/acai/pool2_l16_lamb05_noaug_ex01/images_sr_ip/60083/60083_ni03.nii.gz\n",
      "SSIM / PSRN / VIF: 0.767 / 20.446 / 0.882\n",
      "INFO - saved /home/jorg/expers/sr_redo/MNISTRoto/acai/pool2_l16_lamb05_noaug_ex01/images_sr_ip/60084/60084_ni03.nii.gz\n",
      "SSIM / PSRN / VIF: 0.801 / 21.930 / 0.901\n",
      "INFO - saved /home/jorg/expers/sr_redo/MNISTRoto/acai/pool2_l16_lamb05_noaug_ex01/images_sr_ip/60085/60085_ni03.nii.gz\n",
      "SSIM / PSRN / VIF: 0.770 / 19.486 / 0.896\n",
      "INFO - saved /home/jorg/expers/sr_redo/MNISTRoto/acai/pool2_l16_lamb05_noaug_ex01/images_sr_ip/60086/60086_ni03.nii.gz\n",
      "SSIM / PSRN / VIF: 0.799 / 21.112 / 0.881\n",
      "INFO - saved /home/jorg/expers/sr_redo/MNISTRoto/acai/pool2_l16_lamb05_noaug_ex01/images_sr_ip/60087/60087_ni03.nii.gz\n",
      "SSIM / PSRN / VIF: 0.820 / 22.013 / 0.884\n",
      "INFO - saved /home/jorg/expers/sr_redo/MNISTRoto/acai/pool2_l16_lamb05_noaug_ex01/images_sr_ip/60088/60088_ni03.nii.gz\n",
      "SSIM / PSRN / VIF: 0.802 / 20.942 / 0.875\n",
      "INFO - saved /home/jorg/expers/sr_redo/MNISTRoto/acai/pool2_l16_lamb05_noaug_ex01/images_sr_ip/60089/60089_ni03.nii.gz\n",
      "SSIM / PSRN / VIF: 0.878 / 22.679 / 0.907\n",
      "INFO - saved /home/jorg/expers/sr_redo/MNISTRoto/acai/pool2_l16_lamb05_noaug_ex01/images_sr_ip/60090/60090_ni03.nii.gz\n",
      "SSIM / PSRN / VIF: 0.817 / 23.183 / 0.870\n",
      "INFO - saved /home/jorg/expers/sr_redo/MNISTRoto/acai/pool2_l16_lamb05_noaug_ex01/images_sr_ip/60091/60091_ni03.nii.gz\n",
      "SSIM / PSRN / VIF: 0.857 / 22.232 / 0.908\n",
      "INFO - saved /home/jorg/expers/sr_redo/MNISTRoto/acai/pool2_l16_lamb05_noaug_ex01/images_sr_ip/60092/60092_ni03.nii.gz\n",
      "SSIM / PSRN / VIF: 0.864 / 22.769 / 0.897\n",
      "INFO - saved /home/jorg/expers/sr_redo/MNISTRoto/acai/pool2_l16_lamb05_noaug_ex01/images_sr_ip/60093/60093_ni03.nii.gz\n",
      "SSIM / PSRN / VIF: 0.757 / 20.600 / 0.886\n",
      "INFO - saved /home/jorg/expers/sr_redo/MNISTRoto/acai/pool2_l16_lamb05_noaug_ex01/images_sr_ip/60094/60094_ni03.nii.gz\n"
     ]
    },
    {
     "name": "stdout",
     "output_type": "stream",
     "text": [
      "SSIM / PSRN / VIF: 0.883 / 24.005 / 0.890\n",
      "INFO - saved /home/jorg/expers/sr_redo/MNISTRoto/acai/pool2_l16_lamb05_noaug_ex01/images_sr_ip/60095/60095_ni03.nii.gz\n",
      "SSIM / PSRN / VIF: 0.840 / 23.480 / 0.875\n",
      "INFO - saved /home/jorg/expers/sr_redo/MNISTRoto/acai/pool2_l16_lamb05_noaug_ex01/images_sr_ip/60096/60096_ni03.nii.gz\n",
      "SSIM / PSRN / VIF: 0.796 / 19.730 / 0.901\n",
      "INFO - saved /home/jorg/expers/sr_redo/MNISTRoto/acai/pool2_l16_lamb05_noaug_ex01/images_sr_ip/60097/60097_ni03.nii.gz\n",
      "SSIM / PSRN / VIF: 0.790 / 23.156 / 0.881\n",
      "INFO - saved /home/jorg/expers/sr_redo/MNISTRoto/acai/pool2_l16_lamb05_noaug_ex01/images_sr_ip/60098/60098_ni03.nii.gz\n",
      "SSIM / PSRN / VIF: 0.721 / 19.886 / 0.889\n",
      "INFO - saved /home/jorg/expers/sr_redo/MNISTRoto/acai/pool2_l16_lamb05_noaug_ex01/images_sr_ip/60099/60099_ni03.nii.gz\n",
      "SSIM / PSRN / VIF: 0.851 / 22.459 / 0.900\n",
      "INFO - saved /home/jorg/expers/sr_redo/MNISTRoto/acai/pool2_l16_lamb05_noaug_ex01/images_sr_ip/60100/60100_ni03.nii.gz\n",
      "SSIM / PSRN / VIF: 0.868 / 22.588 / 0.898\n",
      "Total - SSIM / PSRN / VIF / LPIPS: 0.817 (0.05) / 22.05 (1.37) / 0.888 (0.02) / 0.000 (0.00)\n",
      "Reconstruction - SSIM / PSRN / VIF / LPIPS: 0.983 (0.00) / 30.24 (1.67) / 0.926 (0.01) / 0.000 (0.00)\n",
      "Synthesis - SSIM / PSRN / VIF / LPIPS: 0.755 (0.07) / 18.98 (1.64) / 0.873 (0.02) / 0.000 (0.00)\n",
      "INFO - Saved results to /home/jorg/expers/sr_redo/MNISTRoto/acai/pool2_l16_lamb05_noaug_ex01/results/metrics_m100_4x_axis0.npz\n"
     ]
    }
   ],
   "source": [
    "dataset = 'MNISTRoto' \n",
    "eval_patch_size = {'MNISTRoto': 32, 'MNIST3D': 28}[dataset]\n",
    "model_nbr = 100 #  combined: dHCP: 1272  OASIS: 3mm 1298  OASIS: 2mm 507\n",
    "model_nbr_sr =  None  # 836\n",
    "output_dir = None\n",
    "eval_axis = 0\n",
    "model_name = 'acai'   # ae_combined    vae   acai\n",
    "exper_dir = \"pool2_l16_lamb05_noaug_ex01\"\n",
    "exper_src_path = \"~/expers/sr_redo/{}/{}/{}\".format(dataset, model_name, exper_dir)\n",
    "myargs = load_settings(os.path.join(os.path.expanduser(exper_src_path), \"settings.yaml\"))\n",
    "save_volumes, do_save_metrics = True, True\n",
    "generate_inbetween_slices = True\n",
    "use_original_slice = False\n",
    "downsample_steps = 4  # myargs['downsample_steps']\n",
    "num_interpolations = downsample_steps - 1\n",
    "# output_dir =  exper_src_path + \"/ni{:02d}\".format(num_interpolations)\n",
    "if not generate_inbetween_slices:\n",
    "    num_interpolations = 6\n",
    "    # IMPORTANT FOR BRAIN MRI WE USE THE DOWNSAMPLED VOLUMES EVEN WHEN USING HIGHER \n",
    "    # UPSAMPLING FACTORS THAN DURING TRAINING !!!\n",
    "    downsample_steps = myargs['downsample_steps']\n",
    "    \n",
    "print(\"Eval patch size \", eval_patch_size)\n",
    "metrics_dict = create_brain_volumes(exper_src_path, model_nbr, pat_list=pat_nums_test, \n",
    "                                   generate_inbetween_slices=generate_inbetween_slices,\n",
    "                                   downsample_steps=downsample_steps, \n",
    "                                    save_volumes=save_volumes,\n",
    "                                    eval_patch_size=eval_patch_size,\n",
    "                                   num_interpolations=num_interpolations,\n",
    "                                   compute_percept_loss=False, \n",
    "                                   use_original_slice=use_original_slice,\n",
    "                                   eval_axis=eval_axis, model_nbr_sr=model_nbr_sr,\n",
    "                                   output_dir=output_dir, do_save_metrics=do_save_metrics)"
   ]
  },
  {
   "cell_type": "code",
   "execution_count": 11,
   "metadata": {},
   "outputs": [
    {
     "name": "stdout",
     "output_type": "stream",
     "text": [
      "dict_keys(['ssim', 'psnr', 'vif', 'lpips', 'ssim_synth', 'psnr_synth', 'vif_synth', 'lpips_synth', 'ssim_recon', 'psnr_recon', 'vif_recon', 'lpips_recon'])\n",
      "INFO - Saved results to ~/expers/sr_redo/MNISTRoto/acai_combined/pool2_w28_l16_w1000_ex01/results/results/MNISTRoto_model0093_3x.npz\n"
     ]
    }
   ],
   "source": [
    "from evaluate.common import save_metrics\n",
    "print(metrics_dict.keys())\n",
    "save_metrics(os.path.join(exper_src_path, 'results'), myargs['dataset'], metrics_dict, \n",
    "             downsample_steps,\n",
    "                     'model{:04d}'.format(model_nbr), eval_axis)"
   ]
  },
  {
   "cell_type": "code",
   "execution_count": 88,
   "metadata": {},
   "outputs": [
    {
     "name": "stdout",
     "output_type": "stream",
     "text": [
      "INFO - searching with mask /home/jorg/expers/sr_redo/MNISTRoto/acai/pool2_l16_lamb05_noaug_ex01/model_perf_synth*_axis0.npz\n",
      "INFO - loading /home/jorg/expers/sr_redo/MNISTRoto/acai/pool2_l16_lamb05_noaug_ex01/model_perf_synth_15_to_100_axis0.npz\n"
     ]
    }
   ],
   "source": [
    "from evaluate.find_best_model import load_model_scores\n",
    "\n",
    "file_suffix = \"_axis0.npz\"\n",
    "synthesis = True\n",
    "method = 'acai'\n",
    "exper_dir = \"~/expers/sr_redo/MNISTRoto/{}/pool2_l16_lamb05_noaug_ex01\".format(method)\n",
    "results, iters, ssim_res, psnr_res, vif_res = \\\n",
    "            load_model_scores(exper_dir, file_suffix=file_suffix, \n",
    "                              synthesis=synthesis)"
   ]
  },
  {
   "cell_type": "code",
   "execution_count": 89,
   "metadata": {},
   "outputs": [
    {
     "name": "stdout",
     "output_type": "stream",
     "text": [
      "SSIM (86): 0.835\n",
      "PSNR (100): 19.994\n",
      "VIF (26): 0.885\n",
      "M-86: 0.835, 19.974, 0.882\n",
      "M-100: 0.835, 19.994, 0.883\n",
      "M-26: 0.818, 19.747, 0.885\n"
     ]
    }
   ],
   "source": [
    "idx_psnr, idx_ssim, idx_vif = np.argmax(psnr_res), np.argmax(ssim_res), np.argmax(vif_res)\n",
    "print(\"SSIM ({}): {:.3f}\".format(iters[idx_ssim], ssim_res[idx_ssim]))\n",
    "print(\"PSNR ({}): {:.3f}\".format(iters[idx_psnr], psnr_res[idx_psnr]))\n",
    "print(\"VIF ({}): {:.3f}\".format(iters[idx_vif], vif_res[idx_vif]))\n",
    "print(\"M-{}: {:.3f}, {:.3f}, {:.3f}\".format(iters[idx_ssim], ssim_res[idx_ssim],\n",
    "                                          psnr_res[idx_ssim], vif_res[idx_ssim]))\n",
    "print(\"M-{}: {:.3f}, {:.3f}, {:.3f}\".format(iters[idx_psnr], ssim_res[idx_psnr],\n",
    "                                          psnr_res[idx_psnr], vif_res[idx_psnr]))\n",
    "print(\"M-{}: {:.3f}, {:.3f}, {:.3f}\".format(iters[idx_vif], ssim_res[idx_vif],\n",
    "                                          psnr_res[idx_vif], vif_res[idx_vif]))"
   ]
  },
  {
   "cell_type": "code",
   "execution_count": 84,
   "metadata": {},
   "outputs": [
    {
     "name": "stdout",
     "output_type": "stream",
     "text": [
      "INFO - get_mnist_ids - test\n"
     ]
    },
    {
     "data": {
      "application/vnd.jupyter.widget-view+json": {
       "model_id": "8db858da56654939abc0a5ec9fabe593",
       "version_major": 2,
       "version_minor": 0
      },
      "text/plain": [
       "Loading 100 volumes from /home/jorg/data/MNIST3D:   0%|          | 0/100 [00:00<?, ?it/s]"
      ]
     },
     "metadata": {},
     "output_type": "display_data"
    },
    {
     "name": "stdout",
     "output_type": "stream",
     "text": [
      "[36. 32. 32.]\n"
     ]
    }
   ],
   "source": [
    "from datasets.MNIST.data3d import get_mnist_ids\n",
    "from datasets.common import get_images_in_dir\n",
    "from datasets.common_brains import get_images\n",
    "from collections import defaultdict\n",
    "transform32 = transforms.Compose([AdjustToPatchSize(tuple((32, 32)))])\n",
    "\n",
    "dataset = 'MNISTRoto'\n",
    "patid_list = get_mnist_ids(\"test\")\n",
    "method_path, result_dict = {}, {}\n",
    "data_conv = defaultdict(dict)\n",
    "downsample_steps = 4\n",
    "file_suffix = \"_ni0{}.nii.gz\".format(downsample_steps -1)\n",
    "EXPER_SRC_DIR = os.path.expanduser(\"~/expers/sr_redo/{}\".format(dataset))\n",
    "image_ref = get_images(patid_list, 'MNIST3D', rescale_int=False, int_perc=tuple((0, 100)), \n",
    "                       limited_load=False, do_downsample=False, downsample_steps=downsample_steps, \n",
    "                       transform=transform32, include_hr_images=True)"
   ]
  },
  {
   "cell_type": "code",
   "execution_count": 85,
   "metadata": {},
   "outputs": [
    {
     "name": "stdout",
     "output_type": "stream",
     "text": [
      "INFO - get_images_in_dir - dataset name MNISTRoto (#100). Resample-inplane False\n",
      "Loaded from 100 volumes from vae2/pool2_l16_beta1_noaug_ex01 (_ni03.nii.gz)\n"
     ]
    }
   ],
   "source": [
    "m_desc = 'vae2'\n",
    "exper_id = {4: \"{}/pool2_l16_beta1_noaug_ex01\".format(m_desc)}[downsample_steps] \n",
    "file_suffix = \"_ni0{}.nii.gz\".format(downsample_steps -1)\n",
    "\n",
    "path_method = os.path.join(EXPER_SRC_DIR, \"{}/images_sr_ip\".format(exper_id))\n",
    "data_generator = get_images_in_dir(path_method, file_suffix=file_suffix, \n",
    "                                      rescale_int=False,  dataset_name=dataset,\n",
    "                                          do_downsample=False,\n",
    "                                          downsample_steps=None, patid_list=None)\n",
    "print(\"Loaded from {} volumes from {} ({})\".format(len(data_generator), exper_id,\n",
    "                                                   file_suffix))\n",
    "method_path[m_desc] = os.path.join(EXPER_SRC_DIR, \"{}\".format(exper_id))"
   ]
  },
  {
   "cell_type": "code",
   "execution_count": 87,
   "metadata": {},
   "outputs": [
    {
     "name": "stdout",
     "output_type": "stream",
     "text": [
      "INFO - evaluating vae2 images from /home/jorg/expers/sr_redo/MNISTRoto/vae2/pool2_l16_beta1_noaug_ex01\n",
      "INFO - evaluation axis-0 - method: vae2 - is conventional False - downsample steps 4\n"
     ]
    },
    {
     "data": {
      "application/vnd.jupyter.widget-view+json": {
       "model_id": "d2e1f92f04534087b697948c4353e4cd",
       "version_major": 2,
       "version_minor": 0
      },
      "text/plain": [
       "Compute metrics:   0%|          | 0/100 [00:00<?, ?it/s]"
      ]
     },
     "metadata": {},
     "output_type": "display_data"
    },
    {
     "name": "stdout",
     "output_type": "stream",
     "text": [
      "vae2: SSIM / PSRN / LPIPS / VIF: 0.867 (0.06) / 21.17 (2.31) / 0.000 (0.00) / 0.884 (0.02)\n",
      "vae2 (recon): SSIM / PSRN / LPIPS / VIF: 0.941 (0.04) / 24.56 (3.21) / 0.000 (0.00) / 0.911 (0.02)\n",
      "vae2 (synth): SSIM / PSRN / LPIPS / VIF: 0.839 (0.07) / 19.89 (2.13) / 0.000 (0.00) / 0.874 (0.02)\n",
      "INFO - Saved results to /home/jorg/expers/sr_redo/MNISTRoto/vae2/pool2_l16_beta1_noaug_ex01/results/vae2_4x.npz\n"
     ]
    }
   ],
   "source": [
    "from evaluate.quantitative_comparison import compare_quantitative\n",
    "\n",
    "method = 'vae2'\n",
    "do_save = True\n",
    "result_dict[method] = compare_quantitative(image_ref, data_generator, \n",
    "                                           method, downsample_steps=downsample_steps, \n",
    "                     is_4d=False, percept_criterion=None, do_save=do_save,\n",
    "                                           eval_axis=0, transform=None,\n",
    "                     method_dir=method_path[method])"
   ]
  }
 ],
 "metadata": {
  "kernelspec": {
   "display_name": "Python 3",
   "language": "python",
   "name": "python3"
  },
  "language_info": {
   "codemirror_mode": {
    "name": "ipython",
    "version": 3
   },
   "file_extension": ".py",
   "mimetype": "text/x-python",
   "name": "python",
   "nbconvert_exporter": "python",
   "pygments_lexer": "ipython3",
   "version": "3.7.10"
  }
 },
 "nbformat": 4,
 "nbformat_minor": 4
}
